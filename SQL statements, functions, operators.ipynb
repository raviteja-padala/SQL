{
 "cells": [
  {
   "cell_type": "markdown",
   "id": "5987d25b",
   "metadata": {},
   "source": [
    "#### Raviteja Padala\n",
    "<img align=\"left\" img src= in.png height = 20 width=\"20\"/>   https://www.linkedin.com/in/raviteja-padala/ <br>\n",
    "\n",
    "<img align=\"left\" img src= github.png height = 20 width=\"20\"/> https://github.com/raviteja-padala"
   ]
  },
  {
   "cell_type": "markdown",
   "id": "6d27d514",
   "metadata": {},
   "source": [
    "# Objective: To learn and practice different SQL Statements, SQL functions, Operators and their usage"
   ]
  },
  {
   "cell_type": "markdown",
   "id": "6f05f138",
   "metadata": {},
   "source": [
    "<a id=\"0\"></a>\n",
    "\n",
    "## Contents\n",
    "\n",
    "1. [Connecting, loading, Accessing data](#1.Connecting_Loading_Accessing) <br> \n",
    "\n",
    "2. [Aggregate functions](#2.Aggregate_functions) <br>\n",
    "    2.1.[COUNT() Function](#2.1.COUNT())<br>\n",
    "    2.2.[SUM() Function](#2.2.SUM())<br>\n",
    "    2.3.[AVG() Function](#2.3.AVG())<br>\n",
    "    2.4.[MAX() Function](#2.2.MAX())<br>\n",
    "    2.5.[MIN() Function](#2.2.MIN())<br>\n",
    "3. [Clause in SQL](#3.Clause)<br>\n",
    "    3.1. [Where clause](#3.1.Where)<br>\n",
    "    3.2. [Group By clause](#3.2.Group_by)<br>\n",
    "    3.3. [Having clause](#3.3.Having)<br>\n",
    "    3.4. [Order_by clause](#3.4.Order_by)<br>\n",
    "    3.5. [Limit](#3.5.Limit)<br>\n",
    "    3.6. [Offset](#3.6.Offset)<br>\n",
    "4. [SQL LOGICAL OPERATORS](#4.Logical_operators)<br>\n",
    "    4.1. [And Operator](#4.1.AND)<br>\n",
    "    4.2. [OR Operator](#4.2.OR)<br>\n",
    "    4.3. [Between Operator](#4.3.BETWEEN)<br>\n",
    "    4.4. [In Operator](#4.4.IN)<br>\n",
    "    4.5. [Not Operator](#4.5.NOT)<br>\n",
    "    4.6. [Like Operator](#4.6.LIKE)<br>\n",
    "    4.7. [Exists Operator](#4.7.EXISTS)<br>\n",
    "5. [REGEXP operator](#5.REGEXP)<br>\n",
    "6. [IS NULL operator](#6.IS_NULL)<br>\n",
    "7. [Duplicate_records](#7.Duplicate_records)<br>\n",
    "8. [If function](#8.If)<br>\n",
    "9. [VIEW](#9.VIEW)<br>\n",
    "10.[Substring](#10.substr)\n",
    "11.[CASE_statement](#11.CASE_statement)\n",
    "12.[Sub QUERY](#12.Subquery)\n",
    "    \n"
   ]
  },
  {
   "cell_type": "markdown",
   "id": "bd1bda19",
   "metadata": {},
   "source": [
    "# 1.Connecting_Loading_Accessing"
   ]
  },
  {
   "cell_type": "code",
   "execution_count": 1,
   "id": "1d2b7993",
   "metadata": {},
   "outputs": [],
   "source": [
    "#loading SQLITE\n",
    "%load_ext sql"
   ]
  },
  {
   "cell_type": "code",
   "execution_count": 2,
   "id": "a825b628",
   "metadata": {},
   "outputs": [],
   "source": [
    "#LOADING REQUIRED DATABASE \n",
    "\n",
    "%sql sqlite:///db_sales"
   ]
  },
  {
   "cell_type": "code",
   "execution_count": 3,
   "id": "ef3f9147",
   "metadata": {},
   "outputs": [
    {
     "name": "stdout",
     "output_type": "stream",
     "text": [
      " * sqlite:///db_sales\n",
      "Done.\n"
     ]
    },
    {
     "data": {
      "text/html": [
       "<table>\n",
       "    <thead>\n",
       "        <tr>\n",
       "            <th>name</th>\n",
       "        </tr>\n",
       "    </thead>\n",
       "    <tbody>\n",
       "        <tr>\n",
       "            <td>sales_d</td>\n",
       "        </tr>\n",
       "    </tbody>\n",
       "</table>"
      ],
      "text/plain": [
       "[('sales_d',)]"
      ]
     },
     "execution_count": 3,
     "metadata": {},
     "output_type": "execute_result"
    }
   ],
   "source": [
    "# view tables in the database\n",
    "      \n",
    "%sql SELECT name FROM sqlite_master WHERE type='table'"
   ]
  },
  {
   "cell_type": "code",
   "execution_count": 4,
   "id": "bf8ab8fc",
   "metadata": {
    "scrolled": true
   },
   "outputs": [
    {
     "name": "stdout",
     "output_type": "stream",
     "text": [
      " * sqlite:///db_sales\n",
      "Done.\n"
     ]
    },
    {
     "data": {
      "text/html": [
       "<table>\n",
       "    <thead>\n",
       "        <tr>\n",
       "            <th>index</th>\n",
       "            <th>order_id</th>\n",
       "            <th>order_date</th>\n",
       "            <th>ship_date</th>\n",
       "            <th>ship_mode</th>\n",
       "            <th>customer_name</th>\n",
       "            <th>segment</th>\n",
       "            <th>state</th>\n",
       "            <th>country</th>\n",
       "            <th>market</th>\n",
       "            <th>region</th>\n",
       "            <th>product_id</th>\n",
       "            <th>category</th>\n",
       "            <th>sub_category</th>\n",
       "            <th>product_name</th>\n",
       "            <th>sales</th>\n",
       "            <th>quantity</th>\n",
       "            <th>discount</th>\n",
       "            <th>profit</th>\n",
       "            <th>shipping_cost</th>\n",
       "            <th>order_priority</th>\n",
       "            <th>year</th>\n",
       "        </tr>\n",
       "    </thead>\n",
       "    <tbody>\n",
       "        <tr>\n",
       "            <td>0</td>\n",
       "            <td>AG-2011-2040</td>\n",
       "            <td>01-01-2011</td>\n",
       "            <td>01-06-2011</td>\n",
       "            <td>Standard Class</td>\n",
       "            <td>Toby Braunhardt</td>\n",
       "            <td>Consumer</td>\n",
       "            <td>Constantine</td>\n",
       "            <td>Algeria</td>\n",
       "            <td>Africa</td>\n",
       "            <td>Africa</td>\n",
       "            <td>OFF-TEN-10000025</td>\n",
       "            <td>Office Supplies</td>\n",
       "            <td>Storage</td>\n",
       "            <td>Tenex Lockers, Blue</td>\n",
       "            <td>408</td>\n",
       "            <td>2</td>\n",
       "            <td>0.0</td>\n",
       "            <td>106.14</td>\n",
       "            <td>35.46</td>\n",
       "            <td>Medium</td>\n",
       "            <td>2011</td>\n",
       "        </tr>\n",
       "        <tr>\n",
       "            <td>1</td>\n",
       "            <td>IN-2011-47883</td>\n",
       "            <td>01-01-2011</td>\n",
       "            <td>01-08-2011</td>\n",
       "            <td>Standard Class</td>\n",
       "            <td>Joseph Holt</td>\n",
       "            <td>Consumer</td>\n",
       "            <td>New South Wales</td>\n",
       "            <td>Australia</td>\n",
       "            <td>APAC</td>\n",
       "            <td>Oceania</td>\n",
       "            <td>OFF-SU-10000618</td>\n",
       "            <td>Office Supplies</td>\n",
       "            <td>Supplies</td>\n",
       "            <td>Acme Trimmer, High Speed</td>\n",
       "            <td>120</td>\n",
       "            <td>3</td>\n",
       "            <td>0.1</td>\n",
       "            <td>36.036</td>\n",
       "            <td>9.72</td>\n",
       "            <td>Medium</td>\n",
       "            <td>2011</td>\n",
       "        </tr>\n",
       "        <tr>\n",
       "            <td>2</td>\n",
       "            <td>HU-2011-1220</td>\n",
       "            <td>01-01-2011</td>\n",
       "            <td>01-05-2011</td>\n",
       "            <td>Second Class</td>\n",
       "            <td>Annie Thurman</td>\n",
       "            <td>Consumer</td>\n",
       "            <td>Budapest</td>\n",
       "            <td>Hungary</td>\n",
       "            <td>EMEA</td>\n",
       "            <td>EMEA</td>\n",
       "            <td>OFF-TEN-10001585</td>\n",
       "            <td>Office Supplies</td>\n",
       "            <td>Storage</td>\n",
       "            <td>Tenex Box, Single Width</td>\n",
       "            <td>66</td>\n",
       "            <td>4</td>\n",
       "            <td>0.0</td>\n",
       "            <td>29.64</td>\n",
       "            <td>8.17</td>\n",
       "            <td>High</td>\n",
       "            <td>2011</td>\n",
       "        </tr>\n",
       "        <tr>\n",
       "            <td>3</td>\n",
       "            <td>IT-2011-3647632</td>\n",
       "            <td>01-01-2011</td>\n",
       "            <td>01-05-2011</td>\n",
       "            <td>Second Class</td>\n",
       "            <td>Eugene Moren</td>\n",
       "            <td>Home Office</td>\n",
       "            <td>Stockholm</td>\n",
       "            <td>Sweden</td>\n",
       "            <td>EU</td>\n",
       "            <td>North</td>\n",
       "            <td>OFF-PA-10001492</td>\n",
       "            <td>Office Supplies</td>\n",
       "            <td>Paper</td>\n",
       "            <td>Enermax Note Cards, Premium</td>\n",
       "            <td>45</td>\n",
       "            <td>3</td>\n",
       "            <td>0.5</td>\n",
       "            <td>-26.055</td>\n",
       "            <td>4.82</td>\n",
       "            <td>High</td>\n",
       "            <td>2011</td>\n",
       "        </tr>\n",
       "        <tr>\n",
       "            <td>4</td>\n",
       "            <td>IN-2011-47883</td>\n",
       "            <td>01-01-2011</td>\n",
       "            <td>01-08-2011</td>\n",
       "            <td>Standard Class</td>\n",
       "            <td>Joseph Holt</td>\n",
       "            <td>Consumer</td>\n",
       "            <td>New South Wales</td>\n",
       "            <td>Australia</td>\n",
       "            <td>APAC</td>\n",
       "            <td>Oceania</td>\n",
       "            <td>FUR-FU-10003447</td>\n",
       "            <td>Furniture</td>\n",
       "            <td>Furnishings</td>\n",
       "            <td>Eldon Light Bulb, Duo Pack</td>\n",
       "            <td>114</td>\n",
       "            <td>5</td>\n",
       "            <td>0.1</td>\n",
       "            <td>37.77</td>\n",
       "            <td>4.7</td>\n",
       "            <td>Medium</td>\n",
       "            <td>2011</td>\n",
       "        </tr>\n",
       "    </tbody>\n",
       "</table>"
      ],
      "text/plain": [
       "[(0, 'AG-2011-2040', '01-01-2011', '01-06-2011', 'Standard Class', 'Toby Braunhardt', 'Consumer', 'Constantine', 'Algeria', 'Africa', 'Africa', 'OFF-TEN-10000025', 'Office Supplies', 'Storage', 'Tenex Lockers, Blue', '408', 2, 0.0, 106.14, 35.46, 'Medium', 2011),\n",
       " (1, 'IN-2011-47883', '01-01-2011', '01-08-2011', 'Standard Class', 'Joseph Holt', 'Consumer', 'New South Wales', 'Australia', 'APAC', 'Oceania', 'OFF-SU-10000618', 'Office Supplies', 'Supplies', 'Acme Trimmer, High Speed', '120', 3, 0.1, 36.036, 9.72, 'Medium', 2011),\n",
       " (2, 'HU-2011-1220', '01-01-2011', '01-05-2011', 'Second Class', 'Annie Thurman', 'Consumer', 'Budapest', 'Hungary', 'EMEA', 'EMEA', 'OFF-TEN-10001585', 'Office Supplies', 'Storage', 'Tenex Box, Single Width', '66', 4, 0.0, 29.64, 8.17, 'High', 2011),\n",
       " (3, 'IT-2011-3647632', '01-01-2011', '01-05-2011', 'Second Class', 'Eugene Moren', 'Home Office', 'Stockholm', 'Sweden', 'EU', 'North', 'OFF-PA-10001492', 'Office Supplies', 'Paper', 'Enermax Note Cards, Premium', '45', 3, 0.5, -26.055, 4.82, 'High', 2011),\n",
       " (4, 'IN-2011-47883', '01-01-2011', '01-08-2011', 'Standard Class', 'Joseph Holt', 'Consumer', 'New South Wales', 'Australia', 'APAC', 'Oceania', 'FUR-FU-10003447', 'Furniture', 'Furnishings', 'Eldon Light Bulb, Duo Pack', '114', 5, 0.1, 37.77, 4.7, 'Medium', 2011)]"
      ]
     },
     "execution_count": 4,
     "metadata": {},
     "output_type": "execute_result"
    }
   ],
   "source": [
    "# accesing a table\n",
    "%sql SELECT * FROM sales_d limit 5;"
   ]
  },
  {
   "cell_type": "markdown",
   "id": "10a30e79",
   "metadata": {},
   "source": [
    "---"
   ]
  },
  {
   "cell_type": "markdown",
   "id": "14355b56",
   "metadata": {},
   "source": [
    "# 2.Aggregate_functions\n",
    "\n",
    "* An aggregate function in SQL performs a calculation on multiple values and returns a single value. SQL provides many aggregate functions that include avg, count, sum, min, max, etc. An aggregate function ignores NULL values when it performs the calculation, except for the count function.\n",
    "\n",
    "* We often use aggregate functions with the GROUP BY and HAVING clauses of the SELECT statement.\n",
    "\n",
    "* Various types of SQL aggregate functions are: Count(),Sum(),Avg(),Min(),Max() "
   ]
  },
  {
   "cell_type": "markdown",
   "id": "5f1cf243",
   "metadata": {},
   "source": [
    "### 2.1.COUNT()\n",
    "* The COUNT() function returns the number of rows in a database table.\n"
   ]
  },
  {
   "cell_type": "code",
   "execution_count": 5,
   "id": "d7a191bd",
   "metadata": {},
   "outputs": [
    {
     "name": "stdout",
     "output_type": "stream",
     "text": [
      " * sqlite:///db_sales\n",
      "Done.\n"
     ]
    },
    {
     "data": {
      "text/html": [
       "<table>\n",
       "    <thead>\n",
       "        <tr>\n",
       "            <th>COUNT(*)</th>\n",
       "        </tr>\n",
       "    </thead>\n",
       "    <tbody>\n",
       "        <tr>\n",
       "            <td>51290</td>\n",
       "        </tr>\n",
       "    </tbody>\n",
       "</table>"
      ],
      "text/plain": [
       "[(51290,)]"
      ]
     },
     "execution_count": 5,
     "metadata": {},
     "output_type": "execute_result"
    }
   ],
   "source": [
    "#COUNT ALL VALUES\n",
    "%sql SELECT COUNT(*) FROM sales_d;"
   ]
  },
  {
   "cell_type": "code",
   "execution_count": 6,
   "id": "6da50561",
   "metadata": {},
   "outputs": [
    {
     "name": "stdout",
     "output_type": "stream",
     "text": [
      " * sqlite:///db_sales\n",
      "Done.\n"
     ]
    },
    {
     "data": {
      "text/html": [
       "<table>\n",
       "    <thead>\n",
       "        <tr>\n",
       "            <th>COUNT(customer_name)</th>\n",
       "        </tr>\n",
       "    </thead>\n",
       "    <tbody>\n",
       "        <tr>\n",
       "            <td>51290</td>\n",
       "        </tr>\n",
       "    </tbody>\n",
       "</table>"
      ],
      "text/plain": [
       "[(51290,)]"
      ]
     },
     "execution_count": 6,
     "metadata": {},
     "output_type": "execute_result"
    }
   ],
   "source": [
    "#COUNT SPECIFI COLUMN\n",
    "%sql SELECT COUNT(customer_name) FROM sales_d;"
   ]
  },
  {
   "cell_type": "code",
   "execution_count": 7,
   "id": "97aabab6",
   "metadata": {},
   "outputs": [
    {
     "name": "stdout",
     "output_type": "stream",
     "text": [
      " * sqlite:///db_sales\n",
      "Done.\n"
     ]
    },
    {
     "data": {
      "text/html": [
       "<table>\n",
       "    <thead>\n",
       "        <tr>\n",
       "            <th>COUNT(DISTINCT region)</th>\n",
       "        </tr>\n",
       "    </thead>\n",
       "    <tbody>\n",
       "        <tr>\n",
       "            <td>13</td>\n",
       "        </tr>\n",
       "    </tbody>\n",
       "</table>"
      ],
      "text/plain": [
       "[(13,)]"
      ]
     },
     "execution_count": 7,
     "metadata": {},
     "output_type": "execute_result"
    }
   ],
   "source": [
    "#count with distinct\n",
    "%sql SELECT COUNT(DISTINCT region) FROM sales_d;"
   ]
  },
  {
   "cell_type": "code",
   "execution_count": 8,
   "id": "536a3a67",
   "metadata": {},
   "outputs": [
    {
     "name": "stdout",
     "output_type": "stream",
     "text": [
      " * sqlite:///db_sales\n",
      "Done.\n"
     ]
    },
    {
     "data": {
      "text/html": [
       "<table>\n",
       "    <thead>\n",
       "        <tr>\n",
       "            <th>region</th>\n",
       "        </tr>\n",
       "    </thead>\n",
       "    <tbody>\n",
       "        <tr>\n",
       "            <td>Africa</td>\n",
       "        </tr>\n",
       "        <tr>\n",
       "            <td>Oceania</td>\n",
       "        </tr>\n",
       "        <tr>\n",
       "            <td>EMEA</td>\n",
       "        </tr>\n",
       "        <tr>\n",
       "            <td>North</td>\n",
       "        </tr>\n",
       "        <tr>\n",
       "            <td>Canada</td>\n",
       "        </tr>\n",
       "        <tr>\n",
       "            <td>Southeast Asia</td>\n",
       "        </tr>\n",
       "        <tr>\n",
       "            <td>Central</td>\n",
       "        </tr>\n",
       "        <tr>\n",
       "            <td>South</td>\n",
       "        </tr>\n",
       "        <tr>\n",
       "            <td>Caribbean</td>\n",
       "        </tr>\n",
       "        <tr>\n",
       "            <td>North Asia</td>\n",
       "        </tr>\n",
       "        <tr>\n",
       "            <td>East</td>\n",
       "        </tr>\n",
       "        <tr>\n",
       "            <td>West</td>\n",
       "        </tr>\n",
       "        <tr>\n",
       "            <td>Central Asia</td>\n",
       "        </tr>\n",
       "    </tbody>\n",
       "</table>"
      ],
      "text/plain": [
       "[('Africa',),\n",
       " ('Oceania',),\n",
       " ('EMEA',),\n",
       " ('North',),\n",
       " ('Canada',),\n",
       " ('Southeast Asia',),\n",
       " ('Central',),\n",
       " ('South',),\n",
       " ('Caribbean',),\n",
       " ('North Asia',),\n",
       " ('East',),\n",
       " ('West',),\n",
       " ('Central Asia',)]"
      ]
     },
     "execution_count": 8,
     "metadata": {},
     "output_type": "execute_result"
    }
   ],
   "source": [
    "#verifying distinct vaclues\n",
    "%sql SELECT DISTINCT[region] FROM sales_d;"
   ]
  },
  {
   "cell_type": "code",
   "execution_count": 9,
   "id": "3c5e90f1",
   "metadata": {},
   "outputs": [
    {
     "name": "stdout",
     "output_type": "stream",
     "text": [
      " * sqlite:///db_sales\n",
      "Done.\n"
     ]
    },
    {
     "data": {
      "text/html": [
       "<table>\n",
       "    <thead>\n",
       "        <tr>\n",
       "            <th>COUNT(sales)</th>\n",
       "        </tr>\n",
       "    </thead>\n",
       "    <tbody>\n",
       "        <tr>\n",
       "            <td>678</td>\n",
       "        </tr>\n",
       "    </tbody>\n",
       "</table>"
      ],
      "text/plain": [
       "[(678,)]"
      ]
     },
     "execution_count": 9,
     "metadata": {},
     "output_type": "execute_result"
    }
   ],
   "source": [
    "#COUNT with WHERE \n",
    "%sql SELECT COUNT(sales) FROM sales_d WHERE profit>500;"
   ]
  },
  {
   "cell_type": "code",
   "execution_count": 10,
   "id": "6a5dab25",
   "metadata": {},
   "outputs": [
    {
     "name": "stdout",
     "output_type": "stream",
     "text": [
      " * sqlite:///db_sales\n",
      "Done.\n"
     ]
    },
    {
     "data": {
      "text/html": [
       "<table>\n",
       "    <thead>\n",
       "        <tr>\n",
       "            <th>region</th>\n",
       "            <th>COUNT(sales)</th>\n",
       "        </tr>\n",
       "    </thead>\n",
       "    <tbody>\n",
       "        <tr>\n",
       "            <td>Africa</td>\n",
       "            <td>4586</td>\n",
       "        </tr>\n",
       "        <tr>\n",
       "            <td>Canada</td>\n",
       "            <td>384</td>\n",
       "        </tr>\n",
       "        <tr>\n",
       "            <td>Caribbean</td>\n",
       "            <td>1689</td>\n",
       "        </tr>\n",
       "        <tr>\n",
       "            <td>Central</td>\n",
       "            <td>11115</td>\n",
       "        </tr>\n",
       "        <tr>\n",
       "            <td>Central Asia</td>\n",
       "            <td>2048</td>\n",
       "        </tr>\n",
       "        <tr>\n",
       "            <td>EMEA</td>\n",
       "            <td>5028</td>\n",
       "        </tr>\n",
       "        <tr>\n",
       "            <td>East</td>\n",
       "            <td>2848</td>\n",
       "        </tr>\n",
       "        <tr>\n",
       "            <td>North</td>\n",
       "            <td>4785</td>\n",
       "        </tr>\n",
       "        <tr>\n",
       "            <td>North Asia</td>\n",
       "            <td>2338</td>\n",
       "        </tr>\n",
       "        <tr>\n",
       "            <td>Oceania</td>\n",
       "            <td>3486</td>\n",
       "        </tr>\n",
       "        <tr>\n",
       "            <td>South</td>\n",
       "            <td>6645</td>\n",
       "        </tr>\n",
       "        <tr>\n",
       "            <td>Southeast Asia</td>\n",
       "            <td>3129</td>\n",
       "        </tr>\n",
       "        <tr>\n",
       "            <td>West</td>\n",
       "            <td>3203</td>\n",
       "        </tr>\n",
       "    </tbody>\n",
       "</table>"
      ],
      "text/plain": [
       "[('Africa', 4586),\n",
       " ('Canada', 384),\n",
       " ('Caribbean', 1689),\n",
       " ('Central', 11115),\n",
       " ('Central Asia', 2048),\n",
       " ('EMEA', 5028),\n",
       " ('East', 2848),\n",
       " ('North', 4785),\n",
       " ('North Asia', 2338),\n",
       " ('Oceania', 3486),\n",
       " ('South', 6645),\n",
       " ('Southeast Asia', 3129),\n",
       " ('West', 3203)]"
      ]
     },
     "execution_count": 10,
     "metadata": {},
     "output_type": "execute_result"
    }
   ],
   "source": [
    "#COUNT() with GROUP BY\n",
    "\n",
    "%sql SELECT region, COUNT(sales) FROM sales_d GROUP BY region;"
   ]
  },
  {
   "cell_type": "markdown",
   "id": "8c7ca489",
   "metadata": {},
   "source": [
    "### 2.2.SUM()\n",
    "* Sum function is used to calculate the sum of all selected columns. It works on numeric fields only."
   ]
  },
  {
   "cell_type": "code",
   "execution_count": 11,
   "id": "4c5fc300",
   "metadata": {},
   "outputs": [
    {
     "name": "stdout",
     "output_type": "stream",
     "text": [
      " * sqlite:///db_sales\n",
      "Done.\n"
     ]
    },
    {
     "data": {
      "text/html": [
       "<table>\n",
       "    <thead>\n",
       "        <tr>\n",
       "            <th>SUM(profit)</th>\n",
       "        </tr>\n",
       "    </thead>\n",
       "    <tbody>\n",
       "        <tr>\n",
       "            <td>1469034.8212799944</td>\n",
       "        </tr>\n",
       "    </tbody>\n",
       "</table>"
      ],
      "text/plain": [
       "[(1469034.8212799944,)]"
      ]
     },
     "execution_count": 11,
     "metadata": {},
     "output_type": "execute_result"
    }
   ],
   "source": [
    "#total sum of profit in sales table\n",
    "%sql SELECT SUM(profit) FROM sales_d;"
   ]
  },
  {
   "cell_type": "code",
   "execution_count": 12,
   "id": "ca836cdd",
   "metadata": {},
   "outputs": [
    {
     "name": "stdout",
     "output_type": "stream",
     "text": [
      " * sqlite:///db_sales\n",
      "Done.\n"
     ]
    },
    {
     "data": {
      "text/html": [
       "<table>\n",
       "    <thead>\n",
       "        <tr>\n",
       "            <th>SUM(sales)</th>\n",
       "        </tr>\n",
       "    </thead>\n",
       "    <tbody>\n",
       "        <tr>\n",
       "            <td>538221.0</td>\n",
       "        </tr>\n",
       "    </tbody>\n",
       "</table>"
      ],
      "text/plain": [
       "[(538221.0,)]"
      ]
     },
     "execution_count": 12,
     "metadata": {},
     "output_type": "execute_result"
    }
   ],
   "source": [
    "#SUM() with WHERE\n",
    "\n",
    "%sql SELECT SUM(sales) FROM sales_d WHERE region = 'Africa';"
   ]
  },
  {
   "cell_type": "code",
   "execution_count": 13,
   "id": "e7272141",
   "metadata": {},
   "outputs": [
    {
     "name": "stdout",
     "output_type": "stream",
     "text": [
      " * sqlite:///db_sales\n",
      "Done.\n"
     ]
    },
    {
     "data": {
      "text/html": [
       "<table>\n",
       "    <thead>\n",
       "        <tr>\n",
       "            <th>region</th>\n",
       "            <th>SUM(sales)</th>\n",
       "        </tr>\n",
       "    </thead>\n",
       "    <tbody>\n",
       "        <tr>\n",
       "            <td>Africa</td>\n",
       "            <td>538221.0</td>\n",
       "        </tr>\n",
       "        <tr>\n",
       "            <td>Canada</td>\n",
       "            <td>50326.0</td>\n",
       "        </tr>\n",
       "        <tr>\n",
       "            <td>Caribbean</td>\n",
       "            <td>251457.0</td>\n",
       "        </tr>\n",
       "        <tr>\n",
       "            <td>Central</td>\n",
       "            <td>1807422.0</td>\n",
       "        </tr>\n",
       "        <tr>\n",
       "            <td>Central Asia</td>\n",
       "            <td>389796.0</td>\n",
       "        </tr>\n",
       "        <tr>\n",
       "            <td>EMEA</td>\n",
       "            <td>575691.0</td>\n",
       "        </tr>\n",
       "        <tr>\n",
       "            <td>East</td>\n",
       "            <td>366752.0</td>\n",
       "        </tr>\n",
       "        <tr>\n",
       "            <td>North</td>\n",
       "            <td>790907.0</td>\n",
       "        </tr>\n",
       "        <tr>\n",
       "            <td>North Asia</td>\n",
       "            <td>454002.0</td>\n",
       "        </tr>\n",
       "        <tr>\n",
       "            <td>Oceania</td>\n",
       "            <td>625675.0</td>\n",
       "        </tr>\n",
       "        <tr>\n",
       "            <td>South</td>\n",
       "            <td>1031558.0</td>\n",
       "        </tr>\n",
       "        <tr>\n",
       "            <td>Southeast Asia</td>\n",
       "            <td>532448.0</td>\n",
       "        </tr>\n",
       "        <tr>\n",
       "            <td>West</td>\n",
       "            <td>424418.0</td>\n",
       "        </tr>\n",
       "    </tbody>\n",
       "</table>"
      ],
      "text/plain": [
       "[('Africa', 538221.0),\n",
       " ('Canada', 50326.0),\n",
       " ('Caribbean', 251457.0),\n",
       " ('Central', 1807422.0),\n",
       " ('Central Asia', 389796.0),\n",
       " ('EMEA', 575691.0),\n",
       " ('East', 366752.0),\n",
       " ('North', 790907.0),\n",
       " ('North Asia', 454002.0),\n",
       " ('Oceania', 625675.0),\n",
       " ('South', 1031558.0),\n",
       " ('Southeast Asia', 532448.0),\n",
       " ('West', 424418.0)]"
      ]
     },
     "execution_count": 13,
     "metadata": {},
     "output_type": "execute_result"
    }
   ],
   "source": [
    "#SUM() with GROUP BY\n",
    "\n",
    "%sql SELECT region, SUM(sales) FROM sales_d GROUP BY region;"
   ]
  },
  {
   "cell_type": "code",
   "execution_count": 14,
   "id": "6789423b",
   "metadata": {},
   "outputs": [
    {
     "name": "stdout",
     "output_type": "stream",
     "text": [
      " * sqlite:///db_sales\n",
      "Done.\n"
     ]
    },
    {
     "data": {
      "text/html": [
       "<table>\n",
       "    <thead>\n",
       "        <tr>\n",
       "            <th>region</th>\n",
       "            <th>SUM(sales)</th>\n",
       "        </tr>\n",
       "    </thead>\n",
       "    <tbody>\n",
       "        <tr>\n",
       "            <td>Canada</td>\n",
       "            <td>50326.0</td>\n",
       "        </tr>\n",
       "        <tr>\n",
       "            <td>Caribbean</td>\n",
       "            <td>251457.0</td>\n",
       "        </tr>\n",
       "        <tr>\n",
       "            <td>Central Asia</td>\n",
       "            <td>389796.0</td>\n",
       "        </tr>\n",
       "        <tr>\n",
       "            <td>East</td>\n",
       "            <td>366752.0</td>\n",
       "        </tr>\n",
       "        <tr>\n",
       "            <td>North Asia</td>\n",
       "            <td>454002.0</td>\n",
       "        </tr>\n",
       "        <tr>\n",
       "            <td>West</td>\n",
       "            <td>424418.0</td>\n",
       "        </tr>\n",
       "    </tbody>\n",
       "</table>"
      ],
      "text/plain": [
       "[('Canada', 50326.0),\n",
       " ('Caribbean', 251457.0),\n",
       " ('Central Asia', 389796.0),\n",
       " ('East', 366752.0),\n",
       " ('North Asia', 454002.0),\n",
       " ('West', 424418.0)]"
      ]
     },
     "execution_count": 14,
     "metadata": {},
     "output_type": "execute_result"
    }
   ],
   "source": [
    "# SUM() with HAVING\n",
    "\n",
    "%sql SELECT region, SUM(sales) FROM sales_d GROUP BY region HAVING SUM(sales)<500000;"
   ]
  },
  {
   "cell_type": "markdown",
   "id": "e45b5eab",
   "metadata": {},
   "source": [
    "### 2.3.AVG()\n",
    "* The AVG() function calculates the average of a set of values."
   ]
  },
  {
   "cell_type": "code",
   "execution_count": 15,
   "id": "ba338f7c",
   "metadata": {},
   "outputs": [
    {
     "name": "stdout",
     "output_type": "stream",
     "text": [
      " * sqlite:///db_sales\n",
      "Done.\n"
     ]
    },
    {
     "data": {
      "text/html": [
       "<table>\n",
       "    <thead>\n",
       "        <tr>\n",
       "            <th>AVG(quantity)</th>\n",
       "        </tr>\n",
       "    </thead>\n",
       "    <tbody>\n",
       "        <tr>\n",
       "            <td>3.4765451355039967</td>\n",
       "        </tr>\n",
       "    </tbody>\n",
       "</table>"
      ],
      "text/plain": [
       "[(3.4765451355039967,)]"
      ]
     },
     "execution_count": 15,
     "metadata": {},
     "output_type": "execute_result"
    }
   ],
   "source": [
    "%sql SELECT AVG(quantity) FROM sales_d;"
   ]
  },
  {
   "cell_type": "code",
   "execution_count": 16,
   "id": "41dd6e61",
   "metadata": {},
   "outputs": [
    {
     "name": "stdout",
     "output_type": "stream",
     "text": [
      " * sqlite:///db_sales\n",
      "Done.\n"
     ]
    },
    {
     "data": {
      "text/html": [
       "<table>\n",
       "    <thead>\n",
       "        <tr>\n",
       "            <th>round(AVG(quantity))</th>\n",
       "        </tr>\n",
       "    </thead>\n",
       "    <tbody>\n",
       "        <tr>\n",
       "            <td>3.0</td>\n",
       "        </tr>\n",
       "    </tbody>\n",
       "</table>"
      ],
      "text/plain": [
       "[(3.0,)]"
      ]
     },
     "execution_count": 16,
     "metadata": {},
     "output_type": "execute_result"
    }
   ],
   "source": [
    "#ROUND() function will round a number value to a specified number of places. \n",
    "%sql SELECT round(AVG(quantity)) FROM sales_d;"
   ]
  },
  {
   "cell_type": "code",
   "execution_count": 17,
   "id": "4f0ebe6b",
   "metadata": {},
   "outputs": [
    {
     "name": "stdout",
     "output_type": "stream",
     "text": [
      " * sqlite:///db_sales\n",
      "Done.\n"
     ]
    },
    {
     "data": {
      "text/html": [
       "<table>\n",
       "    <thead>\n",
       "        <tr>\n",
       "            <th>region</th>\n",
       "            <th>round(AVG(quantity))</th>\n",
       "        </tr>\n",
       "    </thead>\n",
       "    <tbody>\n",
       "        <tr>\n",
       "            <td>Africa</td>\n",
       "            <td>2.0</td>\n",
       "        </tr>\n",
       "        <tr>\n",
       "            <td>Canada</td>\n",
       "            <td>2.0</td>\n",
       "        </tr>\n",
       "        <tr>\n",
       "            <td>Caribbean</td>\n",
       "            <td>4.0</td>\n",
       "        </tr>\n",
       "        <tr>\n",
       "            <td>Central</td>\n",
       "            <td>4.0</td>\n",
       "        </tr>\n",
       "        <tr>\n",
       "            <td>Central Asia</td>\n",
       "            <td>4.0</td>\n",
       "        </tr>\n",
       "        <tr>\n",
       "            <td>EMEA</td>\n",
       "            <td>2.0</td>\n",
       "        </tr>\n",
       "        <tr>\n",
       "            <td>East</td>\n",
       "            <td>4.0</td>\n",
       "        </tr>\n",
       "        <tr>\n",
       "            <td>North</td>\n",
       "            <td>4.0</td>\n",
       "        </tr>\n",
       "        <tr>\n",
       "            <td>North Asia</td>\n",
       "            <td>4.0</td>\n",
       "        </tr>\n",
       "        <tr>\n",
       "            <td>Oceania</td>\n",
       "            <td>4.0</td>\n",
       "        </tr>\n",
       "        <tr>\n",
       "            <td>South</td>\n",
       "            <td>4.0</td>\n",
       "        </tr>\n",
       "        <tr>\n",
       "            <td>Southeast Asia</td>\n",
       "            <td>4.0</td>\n",
       "        </tr>\n",
       "        <tr>\n",
       "            <td>West</td>\n",
       "            <td>4.0</td>\n",
       "        </tr>\n",
       "    </tbody>\n",
       "</table>"
      ],
      "text/plain": [
       "[('Africa', 2.0),\n",
       " ('Canada', 2.0),\n",
       " ('Caribbean', 4.0),\n",
       " ('Central', 4.0),\n",
       " ('Central Asia', 4.0),\n",
       " ('EMEA', 2.0),\n",
       " ('East', 4.0),\n",
       " ('North', 4.0),\n",
       " ('North Asia', 4.0),\n",
       " ('Oceania', 4.0),\n",
       " ('South', 4.0),\n",
       " ('Southeast Asia', 4.0),\n",
       " ('West', 4.0)]"
      ]
     },
     "execution_count": 17,
     "metadata": {},
     "output_type": "execute_result"
    }
   ],
   "source": [
    "%sql SELECT region, round(AVG(quantity)) FROM sales_d GROUP BY region;"
   ]
  },
  {
   "cell_type": "markdown",
   "id": "7b7158c4",
   "metadata": {},
   "source": [
    "### 2.4.MAX()\n",
    "* The MAX() aggregate function returns the highest value (maximum) in a set of non-NULL values."
   ]
  },
  {
   "cell_type": "code",
   "execution_count": 18,
   "id": "dc75fb1f",
   "metadata": {},
   "outputs": [
    {
     "name": "stdout",
     "output_type": "stream",
     "text": [
      " * sqlite:///db_sales\n",
      "Done.\n"
     ]
    },
    {
     "data": {
      "text/html": [
       "<table>\n",
       "    <thead>\n",
       "        <tr>\n",
       "            <th>MAX(quantity)</th>\n",
       "        </tr>\n",
       "    </thead>\n",
       "    <tbody>\n",
       "        <tr>\n",
       "            <td>14</td>\n",
       "        </tr>\n",
       "    </tbody>\n",
       "</table>"
      ],
      "text/plain": [
       "[(14,)]"
      ]
     },
     "execution_count": 18,
     "metadata": {},
     "output_type": "execute_result"
    }
   ],
   "source": [
    "%sql SELECT MAX(quantity) FROM sales_d;"
   ]
  },
  {
   "cell_type": "code",
   "execution_count": 19,
   "id": "09b934dc",
   "metadata": {},
   "outputs": [
    {
     "name": "stdout",
     "output_type": "stream",
     "text": [
      " * sqlite:///db_sales\n",
      "Done.\n"
     ]
    },
    {
     "data": {
      "text/html": [
       "<table>\n",
       "    <thead>\n",
       "        <tr>\n",
       "            <th>segment</th>\n",
       "            <th>(MAX(quantity))</th>\n",
       "        </tr>\n",
       "    </thead>\n",
       "    <tbody>\n",
       "        <tr>\n",
       "            <td>Consumer</td>\n",
       "            <td>14</td>\n",
       "        </tr>\n",
       "        <tr>\n",
       "            <td>Corporate</td>\n",
       "            <td>14</td>\n",
       "        </tr>\n",
       "        <tr>\n",
       "            <td>Home Office</td>\n",
       "            <td>14</td>\n",
       "        </tr>\n",
       "    </tbody>\n",
       "</table>"
      ],
      "text/plain": [
       "[('Consumer', 14), ('Corporate', 14), ('Home Office', 14)]"
      ]
     },
     "execution_count": 19,
     "metadata": {},
     "output_type": "execute_result"
    }
   ],
   "source": [
    "%sql SELECT segment, (MAX(quantity)) FROM sales_d GROUP BY segment;"
   ]
  },
  {
   "cell_type": "markdown",
   "id": "d27ad1ff",
   "metadata": {},
   "source": [
    "### 2.5.MIN()\n",
    "* The MIN() aggregate function returns the lowest value (minimum) in a set of non-NULL values."
   ]
  },
  {
   "cell_type": "code",
   "execution_count": 20,
   "id": "775b31a9",
   "metadata": {},
   "outputs": [
    {
     "name": "stdout",
     "output_type": "stream",
     "text": [
      " * sqlite:///db_sales\n",
      "Done.\n"
     ]
    },
    {
     "data": {
      "text/html": [
       "<table>\n",
       "    <thead>\n",
       "        <tr>\n",
       "            <th>MIN(quantity)</th>\n",
       "        </tr>\n",
       "    </thead>\n",
       "    <tbody>\n",
       "        <tr>\n",
       "            <td>1</td>\n",
       "        </tr>\n",
       "    </tbody>\n",
       "</table>"
      ],
      "text/plain": [
       "[(1,)]"
      ]
     },
     "execution_count": 20,
     "metadata": {},
     "output_type": "execute_result"
    }
   ],
   "source": [
    "%sql SELECT MIN(quantity) FROM sales_d;"
   ]
  },
  {
   "cell_type": "code",
   "execution_count": 21,
   "id": "e73c536c",
   "metadata": {},
   "outputs": [
    {
     "name": "stdout",
     "output_type": "stream",
     "text": [
      " * sqlite:///db_sales\n",
      "Done.\n"
     ]
    },
    {
     "data": {
      "text/html": [
       "<table>\n",
       "    <thead>\n",
       "        <tr>\n",
       "            <th>segment</th>\n",
       "            <th>(MIN(quantity))</th>\n",
       "        </tr>\n",
       "    </thead>\n",
       "    <tbody>\n",
       "        <tr>\n",
       "            <td>Consumer</td>\n",
       "            <td>1</td>\n",
       "        </tr>\n",
       "        <tr>\n",
       "            <td>Corporate</td>\n",
       "            <td>1</td>\n",
       "        </tr>\n",
       "        <tr>\n",
       "            <td>Home Office</td>\n",
       "            <td>1</td>\n",
       "        </tr>\n",
       "    </tbody>\n",
       "</table>"
      ],
      "text/plain": [
       "[('Consumer', 1), ('Corporate', 1), ('Home Office', 1)]"
      ]
     },
     "execution_count": 21,
     "metadata": {},
     "output_type": "execute_result"
    }
   ],
   "source": [
    "%sql SELECT segment, (MIN(quantity)) FROM sales_d GROUP BY segment;"
   ]
  },
  {
   "cell_type": "code",
   "execution_count": 22,
   "id": "4e955530",
   "metadata": {},
   "outputs": [
    {
     "name": "stdout",
     "output_type": "stream",
     "text": [
      " * sqlite:///db_sales\n",
      "Done.\n"
     ]
    },
    {
     "data": {
      "text/html": [
       "<table>\n",
       "    <thead>\n",
       "        <tr>\n",
       "            <th>MAX(quantity)</th>\n",
       "            <th>ROUND(AVG(quantity))</th>\n",
       "            <th>MIN(quantity)</th>\n",
       "        </tr>\n",
       "    </thead>\n",
       "    <tbody>\n",
       "        <tr>\n",
       "            <td>14</td>\n",
       "            <td>3.0</td>\n",
       "            <td>1</td>\n",
       "        </tr>\n",
       "    </tbody>\n",
       "</table>"
      ],
      "text/plain": [
       "[(14, 3.0, 1)]"
      ]
     },
     "execution_count": 22,
     "metadata": {},
     "output_type": "execute_result"
    }
   ],
   "source": [
    "# All aggregation functions\n",
    "%sql SELECT MAX(quantity), ROUND(AVG(quantity)), MIN(quantity) FROM sales_d;"
   ]
  },
  {
   "cell_type": "code",
   "execution_count": 23,
   "id": "de14a937",
   "metadata": {},
   "outputs": [
    {
     "name": "stdout",
     "output_type": "stream",
     "text": [
      " * sqlite:///db_sales\n",
      "Done.\n"
     ]
    },
    {
     "data": {
      "text/html": [
       "<table>\n",
       "    <thead>\n",
       "        <tr>\n",
       "            <th>region</th>\n",
       "            <th>MAX(profit)</th>\n",
       "            <th>ROUND(AVG(profit))</th>\n",
       "            <th>MIN(profit)</th>\n",
       "        </tr>\n",
       "    </thead>\n",
       "    <tbody>\n",
       "        <tr>\n",
       "            <td>Africa</td>\n",
       "            <td>2597.28</td>\n",
       "            <td>19.0</td>\n",
       "            <td>-1576.824</td>\n",
       "        </tr>\n",
       "    </tbody>\n",
       "</table>"
      ],
      "text/plain": [
       "[('Africa', 2597.28, 19.0, -1576.824)]"
      ]
     },
     "execution_count": 23,
     "metadata": {},
     "output_type": "execute_result"
    }
   ],
   "source": [
    "# All aggregation functions\n",
    "%sql SELECT region, MAX(profit), ROUND(AVG(profit)), MIN(profit) FROM sales_d where region = 'Africa';"
   ]
  },
  {
   "cell_type": "code",
   "execution_count": 24,
   "id": "12ea68c5",
   "metadata": {},
   "outputs": [
    {
     "name": "stdout",
     "output_type": "stream",
     "text": [
      " * sqlite:///db_sales\n",
      "Done.\n"
     ]
    },
    {
     "data": {
      "text/html": [
       "<table>\n",
       "    <thead>\n",
       "        <tr>\n",
       "            <th>region</th>\n",
       "            <th>segment</th>\n",
       "            <th>MAX(profit)</th>\n",
       "            <th>ROUND(AVG(profit))</th>\n",
       "            <th>MIN(profit)</th>\n",
       "        </tr>\n",
       "    </thead>\n",
       "    <tbody>\n",
       "        <tr>\n",
       "            <td>Africa</td>\n",
       "            <td>Consumer</td>\n",
       "            <td>1563.48</td>\n",
       "            <td>20.0</td>\n",
       "            <td>-1576.824</td>\n",
       "        </tr>\n",
       "        <tr>\n",
       "            <td>Africa</td>\n",
       "            <td>Corporate</td>\n",
       "            <td>2597.28</td>\n",
       "            <td>16.0</td>\n",
       "            <td>-1150.83</td>\n",
       "        </tr>\n",
       "        <tr>\n",
       "            <td>Africa</td>\n",
       "            <td>Home Office</td>\n",
       "            <td>1098.24</td>\n",
       "            <td>23.0</td>\n",
       "            <td>-1558.152</td>\n",
       "        </tr>\n",
       "    </tbody>\n",
       "</table>"
      ],
      "text/plain": [
       "[('Africa', 'Consumer', 1563.48, 20.0, -1576.824),\n",
       " ('Africa', 'Corporate', 2597.28, 16.0, -1150.83),\n",
       " ('Africa', 'Home Office', 1098.24, 23.0, -1558.152)]"
      ]
     },
     "execution_count": 24,
     "metadata": {},
     "output_type": "execute_result"
    }
   ],
   "source": [
    "# All aggregation functions\n",
    "%sql SELECT region,segment,MAX(profit),ROUND(AVG(profit)),MIN(profit) FROM sales_d where region ='Africa' GROUP BY segment;"
   ]
  },
  {
   "cell_type": "markdown",
   "id": "f6de03fc",
   "metadata": {},
   "source": [
    "---"
   ]
  },
  {
   "cell_type": "markdown",
   "id": "2986e61c",
   "metadata": {},
   "source": [
    "# 3.Clause\n",
    "* A clause in SQL is a built-in function that helps to fetch the required records from a database table. A clause receives a conditional expression, i.e. a column name or some terms involving the columns. The clause calculates the result based on the given statements in the expression. "
   ]
  },
  {
   "cell_type": "markdown",
   "id": "b695c741",
   "metadata": {},
   "source": [
    "### 3.1.Where\n",
    "\n",
    "* The WHERE clause in SQL is used to fetch the data or certain records that match the specified condition in the SELECT statement. SQL's WHERE clause is also used with the DELETE, UPDATE, etc. statements."
   ]
  },
  {
   "cell_type": "code",
   "execution_count": 25,
   "id": "321fd6ab",
   "metadata": {},
   "outputs": [
    {
     "name": "stdout",
     "output_type": "stream",
     "text": [
      " * sqlite:///db_sales\n",
      "Done.\n"
     ]
    },
    {
     "data": {
      "text/html": [
       "<table>\n",
       "    <thead>\n",
       "        <tr>\n",
       "            <th>COUNT(DISTINCT(region))</th>\n",
       "        </tr>\n",
       "    </thead>\n",
       "    <tbody>\n",
       "        <tr>\n",
       "            <td>3</td>\n",
       "        </tr>\n",
       "    </tbody>\n",
       "</table>"
      ],
      "text/plain": [
       "[(3,)]"
      ]
     },
     "execution_count": 25,
     "metadata": {},
     "output_type": "execute_result"
    }
   ],
   "source": [
    "%sql SELECT COUNT(DISTINCT(region)) FROM sales_d WHERE market = 'EU';"
   ]
  },
  {
   "cell_type": "code",
   "execution_count": 26,
   "id": "016587cc",
   "metadata": {},
   "outputs": [
    {
     "name": "stdout",
     "output_type": "stream",
     "text": [
      " * sqlite:///db_sales\n",
      "Done.\n"
     ]
    },
    {
     "data": {
      "text/html": [
       "<table>\n",
       "    <thead>\n",
       "        <tr>\n",
       "            <th>region</th>\n",
       "        </tr>\n",
       "    </thead>\n",
       "    <tbody>\n",
       "        <tr>\n",
       "            <td>North</td>\n",
       "        </tr>\n",
       "        <tr>\n",
       "            <td>Central</td>\n",
       "        </tr>\n",
       "        <tr>\n",
       "            <td>South</td>\n",
       "        </tr>\n",
       "    </tbody>\n",
       "</table>"
      ],
      "text/plain": [
       "[('North',), ('Central',), ('South',)]"
      ]
     },
     "execution_count": 26,
     "metadata": {},
     "output_type": "execute_result"
    }
   ],
   "source": [
    "%sql SELECT DISTINCT(region) FROM sales_d WHERE market = 'EU';"
   ]
  },
  {
   "cell_type": "markdown",
   "id": "6618ffe1",
   "metadata": {},
   "source": [
    "### 3.2.Group_by\n",
    "\n",
    "* GROUP BY statement is used to arrange identical data into groups. \n"
   ]
  },
  {
   "cell_type": "code",
   "execution_count": 27,
   "id": "1b759b28",
   "metadata": {},
   "outputs": [
    {
     "name": "stdout",
     "output_type": "stream",
     "text": [
      " * sqlite:///db_sales\n",
      "Done.\n"
     ]
    },
    {
     "data": {
      "text/html": [
       "<table>\n",
       "    <thead>\n",
       "        <tr>\n",
       "            <th>market</th>\n",
       "            <th>segment</th>\n",
       "            <th>profit</th>\n",
       "        </tr>\n",
       "    </thead>\n",
       "    <tbody>\n",
       "        <tr>\n",
       "            <td>EU</td>\n",
       "            <td>Consumer</td>\n",
       "            <td>290.43</td>\n",
       "        </tr>\n",
       "        <tr>\n",
       "            <td>EU</td>\n",
       "            <td>Corporate</td>\n",
       "            <td>-21.9</td>\n",
       "        </tr>\n",
       "        <tr>\n",
       "            <td>EU</td>\n",
       "            <td>Home Office</td>\n",
       "            <td>-26.055</td>\n",
       "        </tr>\n",
       "    </tbody>\n",
       "</table>"
      ],
      "text/plain": [
       "[('EU', 'Consumer', 290.43),\n",
       " ('EU', 'Corporate', -21.9),\n",
       " ('EU', 'Home Office', -26.055)]"
      ]
     },
     "execution_count": 27,
     "metadata": {},
     "output_type": "execute_result"
    }
   ],
   "source": [
    "%sql SELECT market, segment, profit FROM sales_d WHERE market = 'EU' Group by segment;"
   ]
  },
  {
   "cell_type": "code",
   "execution_count": 28,
   "id": "79a94c50",
   "metadata": {},
   "outputs": [
    {
     "name": "stdout",
     "output_type": "stream",
     "text": [
      " * sqlite:///db_sales\n",
      "Done.\n"
     ]
    },
    {
     "data": {
      "text/html": [
       "<table>\n",
       "    <thead>\n",
       "        <tr>\n",
       "            <th>year</th>\n",
       "            <th>market</th>\n",
       "            <th>profit</th>\n",
       "        </tr>\n",
       "    </thead>\n",
       "    <tbody>\n",
       "        <tr>\n",
       "            <td>2011</td>\n",
       "            <td>EU</td>\n",
       "            <td>-26.055</td>\n",
       "        </tr>\n",
       "        <tr>\n",
       "            <td>2012</td>\n",
       "            <td>EU</td>\n",
       "            <td>9.66</td>\n",
       "        </tr>\n",
       "        <tr>\n",
       "            <td>2013</td>\n",
       "            <td>EU</td>\n",
       "            <td>116.292</td>\n",
       "        </tr>\n",
       "        <tr>\n",
       "            <td>2014</td>\n",
       "            <td>EU</td>\n",
       "            <td>-111.6225</td>\n",
       "        </tr>\n",
       "    </tbody>\n",
       "</table>"
      ],
      "text/plain": [
       "[(2011, 'EU', -26.055),\n",
       " (2012, 'EU', 9.66),\n",
       " (2013, 'EU', 116.292),\n",
       " (2014, 'EU', -111.6225)]"
      ]
     },
     "execution_count": 28,
     "metadata": {},
     "output_type": "execute_result"
    }
   ],
   "source": [
    "%sql SELECT year, market, profit FROM sales_d WHERE market = 'EU' Group by year;"
   ]
  },
  {
   "cell_type": "markdown",
   "id": "86ffa31b",
   "metadata": {},
   "source": [
    "### 3.3.Having\n",
    "* HAVING clause is used to specify a search condition for a group or an aggregate. Having is used in a GROUP BY clause. \n"
   ]
  },
  {
   "cell_type": "code",
   "execution_count": 29,
   "id": "f9397651",
   "metadata": {},
   "outputs": [
    {
     "name": "stdout",
     "output_type": "stream",
     "text": [
      " * sqlite:///db_sales\n",
      "Done.\n"
     ]
    },
    {
     "data": {
      "text/html": [
       "<table>\n",
       "    <thead>\n",
       "        <tr>\n",
       "            <th>year</th>\n",
       "            <th>market</th>\n",
       "            <th>profit</th>\n",
       "        </tr>\n",
       "    </thead>\n",
       "    <tbody>\n",
       "        <tr>\n",
       "            <td>2011</td>\n",
       "            <td>EMEA</td>\n",
       "            <td>29.64</td>\n",
       "        </tr>\n",
       "        <tr>\n",
       "            <td>2012</td>\n",
       "            <td>EMEA</td>\n",
       "            <td>12.06</td>\n",
       "        </tr>\n",
       "        <tr>\n",
       "            <td>2013</td>\n",
       "            <td>EMEA</td>\n",
       "            <td>0.45</td>\n",
       "        </tr>\n",
       "        <tr>\n",
       "            <td>2014</td>\n",
       "            <td>EMEA</td>\n",
       "            <td>23.82</td>\n",
       "        </tr>\n",
       "    </tbody>\n",
       "</table>"
      ],
      "text/plain": [
       "[(2011, 'EMEA', 29.64),\n",
       " (2012, 'EMEA', 12.06),\n",
       " (2013, 'EMEA', 0.45),\n",
       " (2014, 'EMEA', 23.82)]"
      ]
     },
     "execution_count": 29,
     "metadata": {},
     "output_type": "execute_result"
    }
   ],
   "source": [
    "%sql SELECT year, market, profit FROM sales_d WHERE market = 'EMEA' Group by year HAVING sales> 1000;"
   ]
  },
  {
   "cell_type": "markdown",
   "id": "4f764aa7",
   "metadata": {},
   "source": [
    "### 3.4.Order_by\n",
    "\n",
    "* The ORDER BY clause sorts the result-set in ascending or descending order.It sorts the records in ascending order by default. DESC keyword is used to sort the records in descending order."
   ]
  },
  {
   "cell_type": "code",
   "execution_count": 30,
   "id": "0da967a5",
   "metadata": {},
   "outputs": [
    {
     "name": "stdout",
     "output_type": "stream",
     "text": [
      " * sqlite:///db_sales\n",
      "Done.\n"
     ]
    },
    {
     "data": {
      "text/html": [
       "<table>\n",
       "    <thead>\n",
       "        <tr>\n",
       "            <th>category</th>\n",
       "            <th>profit</th>\n",
       "            <th>sales</th>\n",
       "        </tr>\n",
       "    </thead>\n",
       "    <tbody>\n",
       "        <tr>\n",
       "            <td>Furniture</td>\n",
       "            <td>49.5</td>\n",
       "            <td>2,479</td>\n",
       "        </tr>\n",
       "        <tr>\n",
       "            <td>Office Supplies</td>\n",
       "            <td>106.14</td>\n",
       "            <td>408</td>\n",
       "        </tr>\n",
       "        <tr>\n",
       "            <td>Technology</td>\n",
       "            <td>12.72</td>\n",
       "            <td>28</td>\n",
       "        </tr>\n",
       "    </tbody>\n",
       "</table>"
      ],
      "text/plain": [
       "[('Furniture', 49.5, '2,479'),\n",
       " ('Office Supplies', 106.14, '408'),\n",
       " ('Technology', 12.72, '28')]"
      ]
     },
     "execution_count": 30,
     "metadata": {},
     "output_type": "execute_result"
    }
   ],
   "source": [
    "%sql SELECT category,profit,sales FROM sales_d WHERE market='Africa' Group by category HAVING sales>1000 Order By 'Sales'; "
   ]
  },
  {
   "cell_type": "markdown",
   "id": "a46d3609",
   "metadata": {},
   "source": [
    "### 3.5.Limit\n",
    "The LIMIT clause is used to limit the data amount fetched by SELECT command from a table."
   ]
  },
  {
   "cell_type": "code",
   "execution_count": 31,
   "id": "5e9af645",
   "metadata": {},
   "outputs": [
    {
     "name": "stdout",
     "output_type": "stream",
     "text": [
      " * sqlite:///db_sales\n",
      "Done.\n"
     ]
    },
    {
     "data": {
      "text/html": [
       "<table>\n",
       "    <thead>\n",
       "        <tr>\n",
       "            <th>category</th>\n",
       "            <th>round(profit)</th>\n",
       "            <th>shipping_cost</th>\n",
       "        </tr>\n",
       "    </thead>\n",
       "    <tbody>\n",
       "        <tr>\n",
       "            <td>Technology</td>\n",
       "            <td>762.0</td>\n",
       "            <td>933.57</td>\n",
       "        </tr>\n",
       "        <tr>\n",
       "            <td>Furniture</td>\n",
       "            <td>1289.0</td>\n",
       "            <td>923.63</td>\n",
       "        </tr>\n",
       "        <tr>\n",
       "            <td>Technology</td>\n",
       "            <td>920.0</td>\n",
       "            <td>915.49</td>\n",
       "        </tr>\n",
       "        <tr>\n",
       "            <td>Technology</td>\n",
       "            <td>-97.0</td>\n",
       "            <td>910.16</td>\n",
       "        </tr>\n",
       "        <tr>\n",
       "            <td>Technology</td>\n",
       "            <td>312.0</td>\n",
       "            <td>903.04</td>\n",
       "        </tr>\n",
       "    </tbody>\n",
       "</table>"
      ],
      "text/plain": [
       "[('Technology', 762.0, 933.57),\n",
       " ('Furniture', 1289.0, 923.63),\n",
       " ('Technology', 920.0, 915.49),\n",
       " ('Technology', -97.0, 910.16),\n",
       " ('Technology', 312.0, 903.04)]"
      ]
     },
     "execution_count": 31,
     "metadata": {},
     "output_type": "execute_result"
    }
   ],
   "source": [
    "%sql SELECT category ,round(profit), shipping_cost FROM sales_d Order by shipping_cost DESC LIMIT 5;"
   ]
  },
  {
   "cell_type": "markdown",
   "id": "d5970dc8",
   "metadata": {},
   "source": [
    "### 3.6.Offset\n",
    "\n",
    "* OFFSET is used to specify an OFFSET from where to start returning data."
   ]
  },
  {
   "cell_type": "code",
   "execution_count": 32,
   "id": "b13b0a98",
   "metadata": {},
   "outputs": [
    {
     "name": "stdout",
     "output_type": "stream",
     "text": [
      " * sqlite:///db_sales\n",
      "Done.\n"
     ]
    },
    {
     "data": {
      "text/html": [
       "<table>\n",
       "    <thead>\n",
       "        <tr>\n",
       "            <th>category</th>\n",
       "            <th>round(profit)</th>\n",
       "            <th>shipping_cost</th>\n",
       "        </tr>\n",
       "    </thead>\n",
       "    <tbody>\n",
       "        <tr>\n",
       "            <td>Technology</td>\n",
       "            <td>920.0</td>\n",
       "            <td>915.49</td>\n",
       "        </tr>\n",
       "        <tr>\n",
       "            <td>Technology</td>\n",
       "            <td>-97.0</td>\n",
       "            <td>910.16</td>\n",
       "        </tr>\n",
       "        <tr>\n",
       "            <td>Technology</td>\n",
       "            <td>312.0</td>\n",
       "            <td>903.04</td>\n",
       "        </tr>\n",
       "        <tr>\n",
       "            <td>Technology</td>\n",
       "            <td>763.0</td>\n",
       "            <td>897.35</td>\n",
       "        </tr>\n",
       "        <tr>\n",
       "            <td>Furniture</td>\n",
       "            <td>565.0</td>\n",
       "            <td>894.77</td>\n",
       "        </tr>\n",
       "    </tbody>\n",
       "</table>"
      ],
      "text/plain": [
       "[('Technology', 920.0, 915.49),\n",
       " ('Technology', -97.0, 910.16),\n",
       " ('Technology', 312.0, 903.04),\n",
       " ('Technology', 763.0, 897.35),\n",
       " ('Furniture', 565.0, 894.77)]"
      ]
     },
     "execution_count": 32,
     "metadata": {},
     "output_type": "execute_result"
    }
   ],
   "source": [
    "%sql SELECT category ,round(profit), shipping_cost FROM sales_d Order by shipping_cost DESC LIMIT 5 OFFSET 2;"
   ]
  },
  {
   "cell_type": "markdown",
   "id": "5925c807",
   "metadata": {},
   "source": [
    "---"
   ]
  },
  {
   "cell_type": "markdown",
   "id": "f2e7f9ab",
   "metadata": {},
   "source": [
    "# 4.Logical_operators\n",
    "* SQL logical operators are used to test for the truth of the condition."
   ]
  },
  {
   "cell_type": "markdown",
   "id": "326ff5e7",
   "metadata": {},
   "source": [
    "### 4.1.AND\n",
    "\n",
    "* The SQL AND operator is used with the where clause in the SQL Query. AND operator in SQL returns only those records which satisfy both the conditions in the SQL query."
   ]
  },
  {
   "cell_type": "code",
   "execution_count": 33,
   "id": "a08220e4",
   "metadata": {},
   "outputs": [
    {
     "name": "stdout",
     "output_type": "stream",
     "text": [
      " * sqlite:///db_sales\n",
      "Done.\n"
     ]
    },
    {
     "data": {
      "text/html": [
       "<table>\n",
       "    <thead>\n",
       "        <tr>\n",
       "            <th>year</th>\n",
       "            <th>round(profit)</th>\n",
       "            <th>sales</th>\n",
       "        </tr>\n",
       "    </thead>\n",
       "    <tbody>\n",
       "        <tr>\n",
       "            <td>2011</td>\n",
       "            <td>4630.0</td>\n",
       "            <td>9,450</td>\n",
       "        </tr>\n",
       "        <tr>\n",
       "            <td>2011</td>\n",
       "            <td>2240.0</td>\n",
       "            <td>7,000</td>\n",
       "        </tr>\n",
       "        <tr>\n",
       "            <td>2013</td>\n",
       "            <td>2800.0</td>\n",
       "            <td>8,750</td>\n",
       "        </tr>\n",
       "        <tr>\n",
       "            <td>2013</td>\n",
       "            <td>2366.0</td>\n",
       "            <td>9,100</td>\n",
       "        </tr>\n",
       "        <tr>\n",
       "            <td>2013</td>\n",
       "            <td>4946.0</td>\n",
       "            <td>9,893</td>\n",
       "        </tr>\n",
       "        <tr>\n",
       "            <td>2014</td>\n",
       "            <td>3979.0</td>\n",
       "            <td>7,959</td>\n",
       "        </tr>\n",
       "    </tbody>\n",
       "</table>"
      ],
      "text/plain": [
       "[(2011, 4630.0, '9,450'),\n",
       " (2011, 2240.0, '7,000'),\n",
       " (2013, 2800.0, '8,750'),\n",
       " (2013, 2366.0, '9,100'),\n",
       " (2013, 4946.0, '9,893'),\n",
       " (2014, 3979.0, '7,959')]"
      ]
     },
     "execution_count": 33,
     "metadata": {},
     "output_type": "execute_result"
    }
   ],
   "source": [
    "%sql SELECT DISTINCT(year), round(profit), sales FROM sales_d where profit>1500 AND sales > 600000;"
   ]
  },
  {
   "cell_type": "markdown",
   "id": "666eaf00",
   "metadata": {},
   "source": [
    "---"
   ]
  },
  {
   "cell_type": "markdown",
   "id": "e4033659",
   "metadata": {},
   "source": [
    "### 4.2.OR\n",
    "* OR operator returns those records if any of the conditions separated by OR is TRUE"
   ]
  },
  {
   "cell_type": "code",
   "execution_count": 34,
   "id": "9ec81074",
   "metadata": {
    "scrolled": false
   },
   "outputs": [
    {
     "name": "stdout",
     "output_type": "stream",
     "text": [
      " * sqlite:///db_sales\n",
      "Done.\n"
     ]
    },
    {
     "data": {
      "text/html": [
       "<table>\n",
       "    <thead>\n",
       "        <tr>\n",
       "            <th>year</th>\n",
       "        </tr>\n",
       "    </thead>\n",
       "    <tbody>\n",
       "        <tr>\n",
       "            <td>2011</td>\n",
       "        </tr>\n",
       "        <tr>\n",
       "            <td>2012</td>\n",
       "        </tr>\n",
       "        <tr>\n",
       "            <td>2013</td>\n",
       "        </tr>\n",
       "        <tr>\n",
       "            <td>2014</td>\n",
       "        </tr>\n",
       "    </tbody>\n",
       "</table>"
      ],
      "text/plain": [
       "[(2011,), (2012,), (2013,), (2014,)]"
      ]
     },
     "execution_count": 34,
     "metadata": {},
     "output_type": "execute_result"
    }
   ],
   "source": [
    "%sql SELECT DISTINCT(year) FROM sales_d where profit>5000 OR sales >6000000;"
   ]
  },
  {
   "cell_type": "markdown",
   "id": "681b5a5f",
   "metadata": {},
   "source": [
    "---"
   ]
  },
  {
   "cell_type": "markdown",
   "id": "9ea6f571",
   "metadata": {},
   "source": [
    "### 4.3.BETWEEN\n",
    "* BETWEEN Operator displays the records which fall between the given ranges in the SQL query. The results of the BETWEEN operator include begin and end values of the given range."
   ]
  },
  {
   "cell_type": "code",
   "execution_count": 35,
   "id": "31a3deef",
   "metadata": {},
   "outputs": [
    {
     "name": "stdout",
     "output_type": "stream",
     "text": [
      " * sqlite:///db_sales\n",
      "Done.\n"
     ]
    },
    {
     "data": {
      "text/html": [
       "<table>\n",
       "    <thead>\n",
       "        <tr>\n",
       "            <th>country</th>\n",
       "            <th>round(profit)</th>\n",
       "        </tr>\n",
       "    </thead>\n",
       "    <tbody>\n",
       "        <tr>\n",
       "            <td>United States</td>\n",
       "            <td>1996.0</td>\n",
       "        </tr>\n",
       "        <tr>\n",
       "            <td>United Kingdom</td>\n",
       "            <td>1990.0</td>\n",
       "        </tr>\n",
       "        <tr>\n",
       "            <td>Italy</td>\n",
       "            <td>1990.0</td>\n",
       "        </tr>\n",
       "        <tr>\n",
       "            <td>United States</td>\n",
       "            <td>1906.0</td>\n",
       "        </tr>\n",
       "        <tr>\n",
       "            <td>United Kingdom</td>\n",
       "            <td>1898.0</td>\n",
       "        </tr>\n",
       "        <tr>\n",
       "            <td>France</td>\n",
       "            <td>1868.0</td>\n",
       "        </tr>\n",
       "        <tr>\n",
       "            <td>United Kingdom</td>\n",
       "            <td>1759.0</td>\n",
       "        </tr>\n",
       "        <tr>\n",
       "            <td>Japan</td>\n",
       "            <td>1722.0</td>\n",
       "        </tr>\n",
       "    </tbody>\n",
       "</table>"
      ],
      "text/plain": [
       "[('United States', 1996.0),\n",
       " ('United Kingdom', 1990.0),\n",
       " ('Italy', 1990.0),\n",
       " ('United States', 1906.0),\n",
       " ('United Kingdom', 1898.0),\n",
       " ('France', 1868.0),\n",
       " ('United Kingdom', 1759.0),\n",
       " ('Japan', 1722.0)]"
      ]
     },
     "execution_count": 35,
     "metadata": {},
     "output_type": "execute_result"
    }
   ],
   "source": [
    "%sql SELECT DISTINCT(country), round(profit) FROM sales_d WHERE profit BETWEEN 1700 AND 2000 Order by profit DESC;"
   ]
  },
  {
   "cell_type": "markdown",
   "id": "a3092079",
   "metadata": {},
   "source": [
    "---"
   ]
  },
  {
   "cell_type": "markdown",
   "id": "1d346d48",
   "metadata": {},
   "source": [
    "### 4.4.IN \n",
    "* When we want to check for one or more than one value in a single SQL query, we use IN operator with the WHERE clause in a SELECT query."
   ]
  },
  {
   "cell_type": "code",
   "execution_count": 36,
   "id": "912ca459",
   "metadata": {},
   "outputs": [
    {
     "name": "stdout",
     "output_type": "stream",
     "text": [
      " * sqlite:///db_sales\n",
      "Done.\n"
     ]
    },
    {
     "data": {
      "text/html": [
       "<table>\n",
       "    <thead>\n",
       "        <tr>\n",
       "            <th>category</th>\n",
       "            <th>profit</th>\n",
       "            <th>year</th>\n",
       "        </tr>\n",
       "    </thead>\n",
       "    <tbody>\n",
       "        <tr>\n",
       "            <td>Office Supplies</td>\n",
       "            <td>106.14</td>\n",
       "            <td>2011</td>\n",
       "        </tr>\n",
       "        <tr>\n",
       "            <td>Furniture</td>\n",
       "            <td>37.77</td>\n",
       "            <td>2011</td>\n",
       "        </tr>\n",
       "        <tr>\n",
       "            <td>Technology</td>\n",
       "            <td>3.12</td>\n",
       "            <td>2011</td>\n",
       "        </tr>\n",
       "    </tbody>\n",
       "</table>"
      ],
      "text/plain": [
       "[('Office Supplies', 106.14, 2011),\n",
       " ('Furniture', 37.77, 2011),\n",
       " ('Technology', 3.12, 2011)]"
      ]
     },
     "execution_count": 36,
     "metadata": {},
     "output_type": "execute_result"
    }
   ],
   "source": [
    "%sql SELECT category, profit, year FROM sales_d WHERE year IN('2011') Group by category Order by profit DESC;"
   ]
  },
  {
   "cell_type": "markdown",
   "id": "ab416789",
   "metadata": {},
   "source": [
    "---"
   ]
  },
  {
   "cell_type": "markdown",
   "id": "ad144c8e",
   "metadata": {},
   "source": [
    "### 4.5.NOT\n",
    "* NOT operator in SQL shows those records from the table where the criteria is not met. NOT operator is used with where clause in a SELECT query."
   ]
  },
  {
   "cell_type": "code",
   "execution_count": 37,
   "id": "cbe6ac4b",
   "metadata": {},
   "outputs": [
    {
     "name": "stdout",
     "output_type": "stream",
     "text": [
      " * sqlite:///db_sales\n",
      "Done.\n"
     ]
    },
    {
     "data": {
      "text/html": [
       "<table>\n",
       "    <thead>\n",
       "        <tr>\n",
       "            <th>category</th>\n",
       "            <th>discount</th>\n",
       "            <th>year</th>\n",
       "        </tr>\n",
       "    </thead>\n",
       "    <tbody>\n",
       "        <tr>\n",
       "            <td>Furniture</td>\n",
       "            <td>0.27</td>\n",
       "            <td>2012</td>\n",
       "        </tr>\n",
       "        <tr>\n",
       "            <td>Office Supplies</td>\n",
       "            <td>0.17</td>\n",
       "            <td>2012</td>\n",
       "        </tr>\n",
       "        <tr>\n",
       "            <td>Technology</td>\n",
       "            <td>0.0</td>\n",
       "            <td>2012</td>\n",
       "        </tr>\n",
       "    </tbody>\n",
       "</table>"
      ],
      "text/plain": [
       "[('Furniture', 0.27, 2012),\n",
       " ('Office Supplies', 0.17, 2012),\n",
       " ('Technology', 0.0, 2012)]"
      ]
     },
     "execution_count": 37,
     "metadata": {},
     "output_type": "execute_result"
    }
   ],
   "source": [
    "%sql SELECT category, discount, year FROM sales_d WHERE year NOT IN('2011') Group by category Order by discount DESC;"
   ]
  },
  {
   "cell_type": "code",
   "execution_count": 38,
   "id": "cd535885",
   "metadata": {},
   "outputs": [
    {
     "name": "stdout",
     "output_type": "stream",
     "text": [
      " * sqlite:///db_sales\n",
      "Done.\n"
     ]
    },
    {
     "data": {
      "text/html": [
       "<table>\n",
       "    <thead>\n",
       "        <tr>\n",
       "            <th>category</th>\n",
       "            <th>discount</th>\n",
       "            <th>year</th>\n",
       "        </tr>\n",
       "    </thead>\n",
       "    <tbody>\n",
       "        <tr>\n",
       "            <td>Furniture</td>\n",
       "            <td>0.27</td>\n",
       "            <td>2012</td>\n",
       "        </tr>\n",
       "        <tr>\n",
       "            <td>Office Supplies</td>\n",
       "            <td>0.17</td>\n",
       "            <td>2012</td>\n",
       "        </tr>\n",
       "        <tr>\n",
       "            <td>Technology</td>\n",
       "            <td>0.0</td>\n",
       "            <td>2012</td>\n",
       "        </tr>\n",
       "    </tbody>\n",
       "</table>"
      ],
      "text/plain": [
       "[('Furniture', 0.27, 2012),\n",
       " ('Office Supplies', 0.17, 2012),\n",
       " ('Technology', 0.0, 2012)]"
      ]
     },
     "execution_count": 38,
     "metadata": {},
     "output_type": "execute_result"
    }
   ],
   "source": [
    "%sql SELECT category, discount, year FROM sales_d WHERE NOT year = '2011' Group by category Order by discount DESC;"
   ]
  },
  {
   "cell_type": "markdown",
   "id": "85310cb2",
   "metadata": {},
   "source": [
    "---"
   ]
  },
  {
   "cell_type": "markdown",
   "id": "617c7250",
   "metadata": {},
   "source": [
    "### 4.6.LIKE \n",
    "\n",
    "* LIKE Operator in SQL displays only those data from the table which matches the pattern specified in the query. Percentage (%) and underscore (_) are the two *wildcard* operators used with LIKE Operator to perform pattern matching tasks."
   ]
  },
  {
   "cell_type": "code",
   "execution_count": 39,
   "id": "6c8b7def",
   "metadata": {},
   "outputs": [
    {
     "name": "stdout",
     "output_type": "stream",
     "text": [
      " * sqlite:///db_sales\n",
      "Done.\n"
     ]
    },
    {
     "data": {
      "text/html": [
       "<table>\n",
       "    <thead>\n",
       "        <tr>\n",
       "            <th>country</th>\n",
       "        </tr>\n",
       "    </thead>\n",
       "    <tbody>\n",
       "        <tr>\n",
       "            <td>Algeria</td>\n",
       "        </tr>\n",
       "        <tr>\n",
       "            <td>Australia</td>\n",
       "        </tr>\n",
       "        <tr>\n",
       "            <td>Angola</td>\n",
       "        </tr>\n",
       "        <tr>\n",
       "            <td>Austria</td>\n",
       "        </tr>\n",
       "        <tr>\n",
       "            <td>Azerbaijan</td>\n",
       "        </tr>\n",
       "        <tr>\n",
       "            <td>Albania</td>\n",
       "        </tr>\n",
       "        <tr>\n",
       "            <td>Argentina</td>\n",
       "        </tr>\n",
       "        <tr>\n",
       "            <td>Afghanistan</td>\n",
       "        </tr>\n",
       "        <tr>\n",
       "            <td>Armenia</td>\n",
       "        </tr>\n",
       "    </tbody>\n",
       "</table>"
      ],
      "text/plain": [
       "[('Algeria',),\n",
       " ('Australia',),\n",
       " ('Angola',),\n",
       " ('Austria',),\n",
       " ('Azerbaijan',),\n",
       " ('Albania',),\n",
       " ('Argentina',),\n",
       " ('Afghanistan',),\n",
       " ('Armenia',)]"
      ]
     },
     "execution_count": 39,
     "metadata": {},
     "output_type": "execute_result"
    }
   ],
   "source": [
    "# A% means starts with A\n",
    "%sql  SELECT DISTINCT(country) FROM sales_d WHERE country LIKE 'A%' ;"
   ]
  },
  {
   "cell_type": "code",
   "execution_count": 40,
   "id": "0d33ae5d",
   "metadata": {},
   "outputs": [
    {
     "name": "stdout",
     "output_type": "stream",
     "text": [
      " * sqlite:///db_sales\n",
      "Done.\n"
     ]
    },
    {
     "data": {
      "text/html": [
       "<table>\n",
       "    <thead>\n",
       "        <tr>\n",
       "            <th>region</th>\n",
       "        </tr>\n",
       "    </thead>\n",
       "    <tbody>\n",
       "        <tr>\n",
       "            <td>Africa</td>\n",
       "        </tr>\n",
       "        <tr>\n",
       "            <td>Oceania</td>\n",
       "        </tr>\n",
       "        <tr>\n",
       "            <td>EMEA</td>\n",
       "        </tr>\n",
       "        <tr>\n",
       "            <td>Canada</td>\n",
       "        </tr>\n",
       "        <tr>\n",
       "            <td>Southeast Asia</td>\n",
       "        </tr>\n",
       "        <tr>\n",
       "            <td>North Asia</td>\n",
       "        </tr>\n",
       "        <tr>\n",
       "            <td>Central Asia</td>\n",
       "        </tr>\n",
       "    </tbody>\n",
       "</table>"
      ],
      "text/plain": [
       "[('Africa',),\n",
       " ('Oceania',),\n",
       " ('EMEA',),\n",
       " ('Canada',),\n",
       " ('Southeast Asia',),\n",
       " ('North Asia',),\n",
       " ('Central Asia',)]"
      ]
     },
     "execution_count": 40,
     "metadata": {},
     "output_type": "execute_result"
    }
   ],
   "source": [
    "# %a means ends with a\n",
    "%sql  SELECT DISTINCT(region) FROM sales_d WHERE region LIKE '%a' ;"
   ]
  },
  {
   "cell_type": "code",
   "execution_count": 41,
   "id": "97a65e23",
   "metadata": {},
   "outputs": [
    {
     "name": "stdout",
     "output_type": "stream",
     "text": [
      " * sqlite:///db_sales\n",
      "Done.\n"
     ]
    },
    {
     "data": {
      "text/html": [
       "<table>\n",
       "    <thead>\n",
       "        <tr>\n",
       "            <th>country</th>\n",
       "        </tr>\n",
       "    </thead>\n",
       "    <tbody>\n",
       "        <tr>\n",
       "            <td>Canada</td>\n",
       "        </tr>\n",
       "        <tr>\n",
       "            <td>Vietnam</td>\n",
       "        </tr>\n",
       "        <tr>\n",
       "            <td>China</td>\n",
       "        </tr>\n",
       "        <tr>\n",
       "            <td>Panama</td>\n",
       "        </tr>\n",
       "        <tr>\n",
       "            <td>Argentina</td>\n",
       "        </tr>\n",
       "        <tr>\n",
       "            <td>Ghana</td>\n",
       "        </tr>\n",
       "        <tr>\n",
       "            <td>Bosnia and Herzegovina</td>\n",
       "        </tr>\n",
       "        <tr>\n",
       "            <td>Namibia</td>\n",
       "        </tr>\n",
       "    </tbody>\n",
       "</table>"
      ],
      "text/plain": [
       "[('Canada',),\n",
       " ('Vietnam',),\n",
       " ('China',),\n",
       " ('Panama',),\n",
       " ('Argentina',),\n",
       " ('Ghana',),\n",
       " ('Bosnia and Herzegovina',),\n",
       " ('Namibia',)]"
      ]
     },
     "execution_count": 41,
     "metadata": {},
     "output_type": "execute_result"
    }
   ],
   "source": [
    "# %na% means 'na' any where in the string\n",
    "%sql SELECT DISTINCT(country) FROM sales_d WHERE country LIKE '%na%' ;"
   ]
  },
  {
   "cell_type": "code",
   "execution_count": 42,
   "id": "8033d1fb",
   "metadata": {},
   "outputs": [
    {
     "name": "stdout",
     "output_type": "stream",
     "text": [
      " * sqlite:///db_sales\n",
      "Done.\n"
     ]
    },
    {
     "data": {
      "text/html": [
       "<table>\n",
       "    <thead>\n",
       "        <tr>\n",
       "            <th>country</th>\n",
       "        </tr>\n",
       "    </thead>\n",
       "    <tbody>\n",
       "        <tr>\n",
       "            <td>Iraq</td>\n",
       "        </tr>\n",
       "        <tr>\n",
       "            <td>Iran</td>\n",
       "        </tr>\n",
       "        <tr>\n",
       "            <td>Brazil</td>\n",
       "        </tr>\n",
       "        <tr>\n",
       "            <td>France</td>\n",
       "        </tr>\n",
       "        <tr>\n",
       "            <td>Ireland</td>\n",
       "        </tr>\n",
       "        <tr>\n",
       "            <td>Argentina</td>\n",
       "        </tr>\n",
       "        <tr>\n",
       "            <td>Croatia</td>\n",
       "        </tr>\n",
       "        <tr>\n",
       "            <td>Uruguay</td>\n",
       "        </tr>\n",
       "        <tr>\n",
       "            <td>Armenia</td>\n",
       "        </tr>\n",
       "        <tr>\n",
       "            <td>Trinidad and Tobago</td>\n",
       "        </tr>\n",
       "        <tr>\n",
       "            <td>Sri Lanka</td>\n",
       "        </tr>\n",
       "        <tr>\n",
       "            <td>Eritrea</td>\n",
       "        </tr>\n",
       "    </tbody>\n",
       "</table>"
      ],
      "text/plain": [
       "[('Iraq',),\n",
       " ('Iran',),\n",
       " ('Brazil',),\n",
       " ('France',),\n",
       " ('Ireland',),\n",
       " ('Argentina',),\n",
       " ('Croatia',),\n",
       " ('Uruguay',),\n",
       " ('Armenia',),\n",
       " ('Trinidad and Tobago',),\n",
       " ('Sri Lanka',),\n",
       " ('Eritrea',)]"
      ]
     },
     "execution_count": 42,
     "metadata": {},
     "output_type": "execute_result"
    }
   ],
   "source": [
    "# '_r% means the second letter of the string is r\n",
    "%sql SELECT DISTINCT(country) FROM sales_d WHERE country LIKE '_r%' ;"
   ]
  },
  {
   "cell_type": "code",
   "execution_count": 43,
   "id": "8ee77d38",
   "metadata": {},
   "outputs": [
    {
     "name": "stdout",
     "output_type": "stream",
     "text": [
      " * sqlite:///db_sales\n",
      "Done.\n"
     ]
    },
    {
     "data": {
      "text/html": [
       "<table>\n",
       "    <thead>\n",
       "        <tr>\n",
       "            <th>country</th>\n",
       "        </tr>\n",
       "    </thead>\n",
       "    <tbody>\n",
       "        <tr>\n",
       "            <td>Iraq</td>\n",
       "        </tr>\n",
       "        <tr>\n",
       "            <td>Iran</td>\n",
       "        </tr>\n",
       "        <tr>\n",
       "            <td>Ireland</td>\n",
       "        </tr>\n",
       "    </tbody>\n",
       "</table>"
      ],
      "text/plain": [
       "[('Iraq',), ('Iran',), ('Ireland',)]"
      ]
     },
     "execution_count": 43,
     "metadata": {},
     "output_type": "execute_result"
    }
   ],
   "source": [
    "## 'ir_ _% means the string starts with ir.\n",
    "%sql SELECT DISTINCT(country) FROM sales_d WHERE country LIKE 'ir__%' ;"
   ]
  },
  {
   "cell_type": "code",
   "execution_count": 44,
   "id": "4baeb09c",
   "metadata": {},
   "outputs": [
    {
     "name": "stdout",
     "output_type": "stream",
     "text": [
      " * sqlite:///db_sales\n",
      "Done.\n"
     ]
    },
    {
     "data": {
      "text/html": [
       "<table>\n",
       "    <thead>\n",
       "        <tr>\n",
       "            <th>country</th>\n",
       "        </tr>\n",
       "    </thead>\n",
       "    <tbody>\n",
       "        <tr>\n",
       "            <td>Algeria</td>\n",
       "        </tr>\n",
       "        <tr>\n",
       "            <td>Australia</td>\n",
       "        </tr>\n",
       "        <tr>\n",
       "            <td>Angola</td>\n",
       "        </tr>\n",
       "        <tr>\n",
       "            <td>Austria</td>\n",
       "        </tr>\n",
       "        <tr>\n",
       "            <td>Albania</td>\n",
       "        </tr>\n",
       "        <tr>\n",
       "            <td>Argentina</td>\n",
       "        </tr>\n",
       "        <tr>\n",
       "            <td>Armenia</td>\n",
       "        </tr>\n",
       "    </tbody>\n",
       "</table>"
      ],
      "text/plain": [
       "[('Algeria',),\n",
       " ('Australia',),\n",
       " ('Angola',),\n",
       " ('Austria',),\n",
       " ('Albania',),\n",
       " ('Argentina',),\n",
       " ('Armenia',)]"
      ]
     },
     "execution_count": 44,
     "metadata": {},
     "output_type": "execute_result"
    }
   ],
   "source": [
    "# 'a%a' means the string starts with a and ends with a.\n",
    "%sql SELECT DISTINCT(country) FROM sales_d WHERE country LIKE 'a%a' ;"
   ]
  },
  {
   "cell_type": "markdown",
   "id": "616cdc9e",
   "metadata": {},
   "source": [
    "---"
   ]
  },
  {
   "cell_type": "markdown",
   "id": "c23afd90",
   "metadata": {},
   "source": [
    "### 4.7.EXISTS\t\n",
    "* Returns TRUE if the subquery returns one or more records"
   ]
  },
  {
   "cell_type": "code",
   "execution_count": 45,
   "id": "6e460a91",
   "metadata": {},
   "outputs": [
    {
     "name": "stdout",
     "output_type": "stream",
     "text": [
      " * sqlite:///db_sales\n",
      "Done.\n"
     ]
    },
    {
     "data": {
      "text/html": [
       "<table>\n",
       "    <thead>\n",
       "        <tr>\n",
       "            <th>sub_category</th>\n",
       "        </tr>\n",
       "    </thead>\n",
       "    <tbody>\n",
       "        <tr>\n",
       "            <td>Storage</td>\n",
       "        </tr>\n",
       "        <tr>\n",
       "            <td>Supplies</td>\n",
       "        </tr>\n",
       "        <tr>\n",
       "            <td>Paper</td>\n",
       "        </tr>\n",
       "        <tr>\n",
       "            <td>Furnishings</td>\n",
       "        </tr>\n",
       "        <tr>\n",
       "            <td>Machines</td>\n",
       "        </tr>\n",
       "        <tr>\n",
       "            <td>Appliances</td>\n",
       "        </tr>\n",
       "        <tr>\n",
       "            <td>Copiers</td>\n",
       "        </tr>\n",
       "        <tr>\n",
       "            <td>Chairs</td>\n",
       "        </tr>\n",
       "        <tr>\n",
       "            <td>Tables</td>\n",
       "        </tr>\n",
       "        <tr>\n",
       "            <td>Bookcases</td>\n",
       "        </tr>\n",
       "        <tr>\n",
       "            <td>Phones</td>\n",
       "        </tr>\n",
       "        <tr>\n",
       "            <td>Accessories</td>\n",
       "        </tr>\n",
       "        <tr>\n",
       "            <td>Labels</td>\n",
       "        </tr>\n",
       "        <tr>\n",
       "            <td>Art</td>\n",
       "        </tr>\n",
       "        <tr>\n",
       "            <td>Envelopes</td>\n",
       "        </tr>\n",
       "        <tr>\n",
       "            <td>Fasteners</td>\n",
       "        </tr>\n",
       "        <tr>\n",
       "            <td>Binders</td>\n",
       "        </tr>\n",
       "    </tbody>\n",
       "</table>"
      ],
      "text/plain": [
       "[('Storage',),\n",
       " ('Supplies',),\n",
       " ('Paper',),\n",
       " ('Furnishings',),\n",
       " ('Machines',),\n",
       " ('Appliances',),\n",
       " ('Copiers',),\n",
       " ('Chairs',),\n",
       " ('Tables',),\n",
       " ('Bookcases',),\n",
       " ('Phones',),\n",
       " ('Accessories',),\n",
       " ('Labels',),\n",
       " ('Art',),\n",
       " ('Envelopes',),\n",
       " ('Fasteners',),\n",
       " ('Binders',)]"
      ]
     },
     "execution_count": 45,
     "metadata": {},
     "output_type": "execute_result"
    }
   ],
   "source": [
    "%sql SELECT distinct(sub_category) FROM sales_d  WHERE EXISTS (SELECT country FROM sales_d WHERE sub_category LIKE 's%s')\n",
    "#as the sub query is true, main query returns all its results"
   ]
  },
  {
   "cell_type": "markdown",
   "id": "d3fdf943",
   "metadata": {},
   "source": [
    "---"
   ]
  },
  {
   "cell_type": "markdown",
   "id": "e7df7eb6",
   "metadata": {},
   "source": [
    "# 5.REGEXP \n",
    "REGEXP operator is used for pattern matching. It compares the given pattern in the input string and returns the result which is matching with the patterns."
   ]
  },
  {
   "cell_type": "code",
   "execution_count": 46,
   "id": "c1f6468d",
   "metadata": {},
   "outputs": [
    {
     "name": "stdout",
     "output_type": "stream",
     "text": [
      " * sqlite:///db_sales\n",
      "Done.\n"
     ]
    },
    {
     "data": {
      "text/html": [
       "<table>\n",
       "    <thead>\n",
       "        <tr>\n",
       "            <th>region</th>\n",
       "        </tr>\n",
       "    </thead>\n",
       "    <tbody>\n",
       "        <tr>\n",
       "            <td>Africa</td>\n",
       "        </tr>\n",
       "        <tr>\n",
       "            <td>Oceania</td>\n",
       "        </tr>\n",
       "        <tr>\n",
       "            <td>EMEA</td>\n",
       "        </tr>\n",
       "        <tr>\n",
       "            <td>Southeast Asia</td>\n",
       "        </tr>\n",
       "        <tr>\n",
       "            <td>Central Asia</td>\n",
       "        </tr>\n",
       "        <tr>\n",
       "            <td>Central</td>\n",
       "        </tr>\n",
       "        <tr>\n",
       "            <td>South</td>\n",
       "        </tr>\n",
       "        <tr>\n",
       "            <td>North</td>\n",
       "        </tr>\n",
       "    </tbody>\n",
       "</table>"
      ],
      "text/plain": [
       "[('Africa',),\n",
       " ('Oceania',),\n",
       " ('EMEA',),\n",
       " ('Southeast Asia',),\n",
       " ('Central Asia',),\n",
       " ('Central',),\n",
       " ('South',),\n",
       " ('North',)]"
      ]
     },
     "execution_count": 46,
     "metadata": {},
     "output_type": "execute_result"
    }
   ],
   "source": [
    "#to search for an region whose name start with A or I, \n",
    "%sql SELECT distinct(region) FROM sales_d WHERE country REGEXP '^[AI]';  "
   ]
  },
  {
   "cell_type": "code",
   "execution_count": 47,
   "id": "19833676",
   "metadata": {},
   "outputs": [
    {
     "name": "stdout",
     "output_type": "stream",
     "text": [
      " * sqlite:///db_sales\n",
      "Done.\n"
     ]
    },
    {
     "data": {
      "text/html": [
       "<table>\n",
       "    <thead>\n",
       "        <tr>\n",
       "            <th>region</th>\n",
       "        </tr>\n",
       "    </thead>\n",
       "    <tbody>\n",
       "    </tbody>\n",
       "</table>"
      ],
      "text/plain": [
       "[]"
      ]
     },
     "execution_count": 47,
     "metadata": {},
     "output_type": "execute_result"
    }
   ],
   "source": [
    "#to get the employee whose name contains exactly four characters, we need to use the '^' and '$ meta-characters. \n",
    "\n",
    "%sql SELECT region FROM sales_d WHERE region REGEXP '^{5}$';"
   ]
  },
  {
   "cell_type": "code",
   "execution_count": 48,
   "id": "cc194c2b",
   "metadata": {},
   "outputs": [
    {
     "name": "stdout",
     "output_type": "stream",
     "text": [
      " * sqlite:///db_sales\n",
      "Done.\n"
     ]
    },
    {
     "data": {
      "text/html": [
       "<table>\n",
       "    <thead>\n",
       "        <tr>\n",
       "            <th>sub_category</th>\n",
       "        </tr>\n",
       "    </thead>\n",
       "    <tbody>\n",
       "        <tr>\n",
       "            <td>Paper</td>\n",
       "        </tr>\n",
       "        <tr>\n",
       "            <td>Copiers</td>\n",
       "        </tr>\n",
       "        <tr>\n",
       "            <td>Fasteners</td>\n",
       "        </tr>\n",
       "        <tr>\n",
       "            <td>Binders</td>\n",
       "        </tr>\n",
       "    </tbody>\n",
       "</table>"
      ],
      "text/plain": [
       "[('Paper',), ('Copiers',), ('Fasteners',), ('Binders',)]"
      ]
     },
     "execution_count": 48,
     "metadata": {},
     "output_type": "execute_result"
    }
   ],
   "source": [
    "#to get the sub category detail which contains 'er' characters\n",
    "\n",
    "%sql  SELECT distinct(sub_category) FROM sales_d WHERE sub_category REGEXP 'er'; "
   ]
  },
  {
   "cell_type": "code",
   "execution_count": 49,
   "id": "6315f225",
   "metadata": {},
   "outputs": [
    {
     "name": "stdout",
     "output_type": "stream",
     "text": [
      " * sqlite:///db_sales\n",
      "Done.\n"
     ]
    },
    {
     "data": {
      "text/html": [
       "<table>\n",
       "    <thead>\n",
       "        <tr>\n",
       "            <th>sub_category</th>\n",
       "        </tr>\n",
       "    </thead>\n",
       "    <tbody>\n",
       "        <tr>\n",
       "            <td>Storage</td>\n",
       "        </tr>\n",
       "        <tr>\n",
       "            <td>Supplies</td>\n",
       "        </tr>\n",
       "        <tr>\n",
       "            <td>Paper</td>\n",
       "        </tr>\n",
       "        <tr>\n",
       "            <td>Furnishings</td>\n",
       "        </tr>\n",
       "        <tr>\n",
       "            <td>Machines</td>\n",
       "        </tr>\n",
       "        <tr>\n",
       "            <td>Appliances</td>\n",
       "        </tr>\n",
       "        <tr>\n",
       "            <td>Copiers</td>\n",
       "        </tr>\n",
       "        <tr>\n",
       "            <td>Chairs</td>\n",
       "        </tr>\n",
       "        <tr>\n",
       "            <td>Tables</td>\n",
       "        </tr>\n",
       "        <tr>\n",
       "            <td>Bookcases</td>\n",
       "        </tr>\n",
       "        <tr>\n",
       "            <td>Phones</td>\n",
       "        </tr>\n",
       "        <tr>\n",
       "            <td>Accessories</td>\n",
       "        </tr>\n",
       "        <tr>\n",
       "            <td>Labels</td>\n",
       "        </tr>\n",
       "        <tr>\n",
       "            <td>Art</td>\n",
       "        </tr>\n",
       "        <tr>\n",
       "            <td>Envelopes</td>\n",
       "        </tr>\n",
       "        <tr>\n",
       "            <td>Fasteners</td>\n",
       "        </tr>\n",
       "        <tr>\n",
       "            <td>Binders</td>\n",
       "        </tr>\n",
       "    </tbody>\n",
       "</table>"
      ],
      "text/plain": [
       "[('Storage',),\n",
       " ('Supplies',),\n",
       " ('Paper',),\n",
       " ('Furnishings',),\n",
       " ('Machines',),\n",
       " ('Appliances',),\n",
       " ('Copiers',),\n",
       " ('Chairs',),\n",
       " ('Tables',),\n",
       " ('Bookcases',),\n",
       " ('Phones',),\n",
       " ('Accessories',),\n",
       " ('Labels',),\n",
       " ('Art',),\n",
       " ('Envelopes',),\n",
       " ('Fasteners',),\n",
       " ('Binders',)]"
      ]
     },
     "execution_count": 49,
     "metadata": {},
     "output_type": "execute_result"
    }
   ],
   "source": [
    "##to get the sub category detail which contains 'e' or 'r' characters\n",
    "\n",
    "%sql  SELECT distinct(sub_category) FROM sales_d WHERE sub_category REGEXP 'e|r';"
   ]
  },
  {
   "cell_type": "markdown",
   "id": "4bbdedcc",
   "metadata": {},
   "source": [
    "---"
   ]
  },
  {
   "cell_type": "markdown",
   "id": "546369a1",
   "metadata": {},
   "source": [
    "# 6.IS_NULL\n",
    "\n",
    "* IS NULL operator is used to test for empty values (NULL values).\n",
    "* Null values are used to represent missing unknown data.\n",
    "\n",
    "\n",
    "-->There can be two conditions:\n",
    "\n",
    ">* Where SQL is NULL (select records with null values only)\n",
    ">* Where SQL is NOT NULL(select records with no null valuesin  column)"
   ]
  },
  {
   "cell_type": "code",
   "execution_count": 50,
   "id": "b6724498",
   "metadata": {},
   "outputs": [
    {
     "name": "stdout",
     "output_type": "stream",
     "text": [
      " * sqlite:///db_sales\n",
      "Done.\n"
     ]
    },
    {
     "data": {
      "text/html": [
       "<table>\n",
       "    <thead>\n",
       "        <tr>\n",
       "            <th>country</th>\n",
       "            <th>sales</th>\n",
       "        </tr>\n",
       "    </thead>\n",
       "    <tbody>\n",
       "        <tr>\n",
       "            <td>New Zealand</td>\n",
       "            <td>None</td>\n",
       "        </tr>\n",
       "        <tr>\n",
       "            <td>Tanzania</td>\n",
       "            <td>None</td>\n",
       "        </tr>\n",
       "        <tr>\n",
       "            <td>Cuba</td>\n",
       "            <td>None</td>\n",
       "        </tr>\n",
       "        <tr>\n",
       "            <td>United States</td>\n",
       "            <td>None</td>\n",
       "        </tr>\n",
       "        <tr>\n",
       "            <td>Netherlands</td>\n",
       "            <td>None</td>\n",
       "        </tr>\n",
       "        <tr>\n",
       "            <td>Hungary</td>\n",
       "            <td>None</td>\n",
       "        </tr>\n",
       "    </tbody>\n",
       "</table>"
      ],
      "text/plain": [
       "[('New Zealand', None),\n",
       " ('Tanzania', None),\n",
       " ('Cuba', None),\n",
       " ('United States', None),\n",
       " ('Netherlands', None),\n",
       " ('Hungary', None)]"
      ]
     },
     "execution_count": 50,
     "metadata": {},
     "output_type": "execute_result"
    }
   ],
   "source": [
    "#IS NULL - finding the records with null values\n",
    "%sql SELECT country, sales FROM sales_d WHERE sales IS NULL  ;"
   ]
  },
  {
   "cell_type": "code",
   "execution_count": 51,
   "id": "5bd058ce",
   "metadata": {},
   "outputs": [
    {
     "name": "stdout",
     "output_type": "stream",
     "text": [
      " * sqlite:///db_sales\n",
      "Done.\n"
     ]
    },
    {
     "data": {
      "text/html": [
       "<table>\n",
       "    <thead>\n",
       "        <tr>\n",
       "            <th>Count_of_null_values</th>\n",
       "        </tr>\n",
       "    </thead>\n",
       "    <tbody>\n",
       "        <tr>\n",
       "            <td>6</td>\n",
       "        </tr>\n",
       "    </tbody>\n",
       "</table>"
      ],
      "text/plain": [
       "[(6,)]"
      ]
     },
     "execution_count": 51,
     "metadata": {},
     "output_type": "execute_result"
    }
   ],
   "source": [
    "#IS NULL - counting the records with null values\n",
    "%sql SELECT COUNT(*) AS 'Count_of_null_values' FROM sales_d WHERE sales IS NULL  ;"
   ]
  },
  {
   "cell_type": "code",
   "execution_count": 52,
   "id": "f0c4b408",
   "metadata": {},
   "outputs": [
    {
     "name": "stdout",
     "output_type": "stream",
     "text": [
      " * sqlite:///db_sales\n",
      "Done.\n"
     ]
    },
    {
     "data": {
      "text/html": [
       "<table>\n",
       "    <thead>\n",
       "        <tr>\n",
       "            <th>Count_of_not_null_values</th>\n",
       "        </tr>\n",
       "    </thead>\n",
       "    <tbody>\n",
       "        <tr>\n",
       "            <td>51284</td>\n",
       "        </tr>\n",
       "    </tbody>\n",
       "</table>"
      ],
      "text/plain": [
       "[(51284,)]"
      ]
     },
     "execution_count": 52,
     "metadata": {},
     "output_type": "execute_result"
    }
   ],
   "source": [
    "#IS NOT NULL - counting the records without null values\n",
    "%sql SELECT COUNT(*) AS 'Count_of_not_null_values' FROM sales_d WHERE sales IS NOT NULL  ;"
   ]
  },
  {
   "cell_type": "markdown",
   "id": "10f514d0",
   "metadata": {},
   "source": [
    "---"
   ]
  },
  {
   "cell_type": "markdown",
   "id": "da287dbf",
   "metadata": {},
   "source": [
    "# 7. Duplicate_records\n",
    "* Duplicate records in SQL, also known as duplicate rows, are identical rows in an SQL table. This means, for a pair of duplicate records, the values in each column coincide."
   ]
  },
  {
   "cell_type": "code",
   "execution_count": 53,
   "id": "1105f8b8",
   "metadata": {},
   "outputs": [
    {
     "name": "stdout",
     "output_type": "stream",
     "text": [
      " * sqlite:///db_sales\n",
      "Done.\n"
     ]
    },
    {
     "data": {
      "text/html": [
       "<table>\n",
       "    <thead>\n",
       "        <tr>\n",
       "            <th>country</th>\n",
       "            <th>COUNT(country)</th>\n",
       "        </tr>\n",
       "    </thead>\n",
       "    <tbody>\n",
       "        <tr>\n",
       "            <td>Afghanistan</td>\n",
       "            <td>55</td>\n",
       "        </tr>\n",
       "        <tr>\n",
       "            <td>Albania</td>\n",
       "            <td>16</td>\n",
       "        </tr>\n",
       "        <tr>\n",
       "            <td>Algeria</td>\n",
       "            <td>196</td>\n",
       "        </tr>\n",
       "        <tr>\n",
       "            <td>Angola</td>\n",
       "            <td>122</td>\n",
       "        </tr>\n",
       "        <tr>\n",
       "            <td>Argentina</td>\n",
       "            <td>390</td>\n",
       "        </tr>\n",
       "        <tr>\n",
       "            <td>Armenia</td>\n",
       "            <td>3</td>\n",
       "        </tr>\n",
       "        <tr>\n",
       "            <td>Australia</td>\n",
       "            <td>2837</td>\n",
       "        </tr>\n",
       "        <tr>\n",
       "            <td>Austria</td>\n",
       "            <td>331</td>\n",
       "        </tr>\n",
       "        <tr>\n",
       "            <td>Azerbaijan</td>\n",
       "            <td>29</td>\n",
       "        </tr>\n",
       "        <tr>\n",
       "            <td>Bahrain</td>\n",
       "            <td>2</td>\n",
       "        </tr>\n",
       "        <tr>\n",
       "            <td>Bangladesh</td>\n",
       "            <td>163</td>\n",
       "        </tr>\n",
       "        <tr>\n",
       "            <td>Barbados</td>\n",
       "            <td>26</td>\n",
       "        </tr>\n",
       "        <tr>\n",
       "            <td>Belarus</td>\n",
       "            <td>80</td>\n",
       "        </tr>\n",
       "        <tr>\n",
       "            <td>Belgium</td>\n",
       "            <td>147</td>\n",
       "        </tr>\n",
       "        <tr>\n",
       "            <td>Benin</td>\n",
       "            <td>35</td>\n",
       "        </tr>\n",
       "        <tr>\n",
       "            <td>Bolivia</td>\n",
       "            <td>48</td>\n",
       "        </tr>\n",
       "        <tr>\n",
       "            <td>Bosnia and Herzegovina</td>\n",
       "            <td>17</td>\n",
       "        </tr>\n",
       "        <tr>\n",
       "            <td>Brazil</td>\n",
       "            <td>1599</td>\n",
       "        </tr>\n",
       "        <tr>\n",
       "            <td>Bulgaria</td>\n",
       "            <td>75</td>\n",
       "        </tr>\n",
       "        <tr>\n",
       "            <td>Burundi</td>\n",
       "            <td>2</td>\n",
       "        </tr>\n",
       "        <tr>\n",
       "            <td>Cambodia</td>\n",
       "            <td>45</td>\n",
       "        </tr>\n",
       "        <tr>\n",
       "            <td>Cameroon</td>\n",
       "            <td>110</td>\n",
       "        </tr>\n",
       "        <tr>\n",
       "            <td>Canada</td>\n",
       "            <td>384</td>\n",
       "        </tr>\n",
       "        <tr>\n",
       "            <td>Central African Republic</td>\n",
       "            <td>7</td>\n",
       "        </tr>\n",
       "        <tr>\n",
       "            <td>Chad</td>\n",
       "            <td>2</td>\n",
       "        </tr>\n",
       "        <tr>\n",
       "            <td>Chile</td>\n",
       "            <td>143</td>\n",
       "        </tr>\n",
       "        <tr>\n",
       "            <td>China</td>\n",
       "            <td>1880</td>\n",
       "        </tr>\n",
       "        <tr>\n",
       "            <td>Colombia</td>\n",
       "            <td>360</td>\n",
       "        </tr>\n",
       "        <tr>\n",
       "            <td>Cote d&#x27;Ivoire</td>\n",
       "            <td>109</td>\n",
       "        </tr>\n",
       "        <tr>\n",
       "            <td>Croatia</td>\n",
       "            <td>32</td>\n",
       "        </tr>\n",
       "        <tr>\n",
       "            <td>Cuba</td>\n",
       "            <td>724</td>\n",
       "        </tr>\n",
       "        <tr>\n",
       "            <td>Czech Republic</td>\n",
       "            <td>71</td>\n",
       "        </tr>\n",
       "        <tr>\n",
       "            <td>Democratic Republic of the Congo</td>\n",
       "            <td>379</td>\n",
       "        </tr>\n",
       "        <tr>\n",
       "            <td>Denmark</td>\n",
       "            <td>65</td>\n",
       "        </tr>\n",
       "        <tr>\n",
       "            <td>Djibouti</td>\n",
       "            <td>12</td>\n",
       "        </tr>\n",
       "        <tr>\n",
       "            <td>Dominican Republic</td>\n",
       "            <td>742</td>\n",
       "        </tr>\n",
       "        <tr>\n",
       "            <td>Ecuador</td>\n",
       "            <td>56</td>\n",
       "        </tr>\n",
       "        <tr>\n",
       "            <td>Egypt</td>\n",
       "            <td>487</td>\n",
       "        </tr>\n",
       "        <tr>\n",
       "            <td>El Salvador</td>\n",
       "            <td>736</td>\n",
       "        </tr>\n",
       "        <tr>\n",
       "            <td>Equatorial Guinea</td>\n",
       "            <td>3</td>\n",
       "        </tr>\n",
       "        <tr>\n",
       "            <td>Eritrea</td>\n",
       "            <td>2</td>\n",
       "        </tr>\n",
       "        <tr>\n",
       "            <td>Estonia</td>\n",
       "            <td>13</td>\n",
       "        </tr>\n",
       "        <tr>\n",
       "            <td>Ethiopia</td>\n",
       "            <td>7</td>\n",
       "        </tr>\n",
       "        <tr>\n",
       "            <td>Finland</td>\n",
       "            <td>64</td>\n",
       "        </tr>\n",
       "        <tr>\n",
       "            <td>France</td>\n",
       "            <td>2827</td>\n",
       "        </tr>\n",
       "        <tr>\n",
       "            <td>Gabon</td>\n",
       "            <td>14</td>\n",
       "        </tr>\n",
       "        <tr>\n",
       "            <td>Georgia</td>\n",
       "            <td>33</td>\n",
       "        </tr>\n",
       "        <tr>\n",
       "            <td>Germany</td>\n",
       "            <td>2065</td>\n",
       "        </tr>\n",
       "        <tr>\n",
       "            <td>Ghana</td>\n",
       "            <td>102</td>\n",
       "        </tr>\n",
       "        <tr>\n",
       "            <td>Guadeloupe</td>\n",
       "            <td>8</td>\n",
       "        </tr>\n",
       "        <tr>\n",
       "            <td>Guatemala</td>\n",
       "            <td>521</td>\n",
       "        </tr>\n",
       "        <tr>\n",
       "            <td>Guinea</td>\n",
       "            <td>18</td>\n",
       "        </tr>\n",
       "        <tr>\n",
       "            <td>Guinea-Bissau</td>\n",
       "            <td>9</td>\n",
       "        </tr>\n",
       "        <tr>\n",
       "            <td>Haiti</td>\n",
       "            <td>104</td>\n",
       "        </tr>\n",
       "        <tr>\n",
       "            <td>Honduras</td>\n",
       "            <td>713</td>\n",
       "        </tr>\n",
       "        <tr>\n",
       "            <td>Hong Kong</td>\n",
       "            <td>21</td>\n",
       "        </tr>\n",
       "        <tr>\n",
       "            <td>Hungary</td>\n",
       "            <td>66</td>\n",
       "        </tr>\n",
       "        <tr>\n",
       "            <td>India</td>\n",
       "            <td>1555</td>\n",
       "        </tr>\n",
       "        <tr>\n",
       "            <td>Indonesia</td>\n",
       "            <td>1390</td>\n",
       "        </tr>\n",
       "        <tr>\n",
       "            <td>Iran</td>\n",
       "            <td>607</td>\n",
       "        </tr>\n",
       "        <tr>\n",
       "            <td>Iraq</td>\n",
       "            <td>388</td>\n",
       "        </tr>\n",
       "        <tr>\n",
       "            <td>Ireland</td>\n",
       "            <td>106</td>\n",
       "        </tr>\n",
       "        <tr>\n",
       "            <td>Israel</td>\n",
       "            <td>103</td>\n",
       "        </tr>\n",
       "        <tr>\n",
       "            <td>Italy</td>\n",
       "            <td>1108</td>\n",
       "        </tr>\n",
       "        <tr>\n",
       "            <td>Jamaica</td>\n",
       "            <td>31</td>\n",
       "        </tr>\n",
       "        <tr>\n",
       "            <td>Japan</td>\n",
       "            <td>250</td>\n",
       "        </tr>\n",
       "        <tr>\n",
       "            <td>Jordan</td>\n",
       "            <td>42</td>\n",
       "        </tr>\n",
       "        <tr>\n",
       "            <td>Kazakhstan</td>\n",
       "            <td>101</td>\n",
       "        </tr>\n",
       "        <tr>\n",
       "            <td>Kenya</td>\n",
       "            <td>98</td>\n",
       "        </tr>\n",
       "        <tr>\n",
       "            <td>Kyrgyzstan</td>\n",
       "            <td>40</td>\n",
       "        </tr>\n",
       "        <tr>\n",
       "            <td>Lebanon</td>\n",
       "            <td>12</td>\n",
       "        </tr>\n",
       "        <tr>\n",
       "            <td>Lesotho</td>\n",
       "            <td>6</td>\n",
       "        </tr>\n",
       "        <tr>\n",
       "            <td>Liberia</td>\n",
       "            <td>15</td>\n",
       "        </tr>\n",
       "        <tr>\n",
       "            <td>Libya</td>\n",
       "            <td>39</td>\n",
       "        </tr>\n",
       "        <tr>\n",
       "            <td>Lithuania</td>\n",
       "            <td>50</td>\n",
       "        </tr>\n",
       "        <tr>\n",
       "            <td>Macedonia</td>\n",
       "            <td>4</td>\n",
       "        </tr>\n",
       "        <tr>\n",
       "            <td>Madagascar</td>\n",
       "            <td>56</td>\n",
       "        </tr>\n",
       "        <tr>\n",
       "            <td>Malaysia</td>\n",
       "            <td>176</td>\n",
       "        </tr>\n",
       "        <tr>\n",
       "            <td>Mali</td>\n",
       "            <td>43</td>\n",
       "        </tr>\n",
       "        <tr>\n",
       "            <td>Martinique</td>\n",
       "            <td>25</td>\n",
       "        </tr>\n",
       "        <tr>\n",
       "            <td>Mauritania</td>\n",
       "            <td>10</td>\n",
       "        </tr>\n",
       "        <tr>\n",
       "            <td>Mexico</td>\n",
       "            <td>2644</td>\n",
       "        </tr>\n",
       "        <tr>\n",
       "            <td>Moldova</td>\n",
       "            <td>39</td>\n",
       "        </tr>\n",
       "        <tr>\n",
       "            <td>Mongolia</td>\n",
       "            <td>37</td>\n",
       "        </tr>\n",
       "        <tr>\n",
       "            <td>Montenegro</td>\n",
       "            <td>4</td>\n",
       "        </tr>\n",
       "        <tr>\n",
       "            <td>Morocco</td>\n",
       "            <td>451</td>\n",
       "        </tr>\n",
       "        <tr>\n",
       "            <td>Mozambique</td>\n",
       "            <td>94</td>\n",
       "        </tr>\n",
       "        <tr>\n",
       "            <td>Myanmar (Burma)</td>\n",
       "            <td>136</td>\n",
       "        </tr>\n",
       "        <tr>\n",
       "            <td>Namibia</td>\n",
       "            <td>9</td>\n",
       "        </tr>\n",
       "        <tr>\n",
       "            <td>Nepal</td>\n",
       "            <td>19</td>\n",
       "        </tr>\n",
       "        <tr>\n",
       "            <td>Netherlands</td>\n",
       "            <td>435</td>\n",
       "        </tr>\n",
       "        <tr>\n",
       "            <td>New Zealand</td>\n",
       "            <td>628</td>\n",
       "        </tr>\n",
       "        <tr>\n",
       "            <td>Nicaragua</td>\n",
       "            <td>614</td>\n",
       "        </tr>\n",
       "        <tr>\n",
       "            <td>Niger</td>\n",
       "            <td>43</td>\n",
       "        </tr>\n",
       "        <tr>\n",
       "            <td>Nigeria</td>\n",
       "            <td>905</td>\n",
       "        </tr>\n",
       "        <tr>\n",
       "            <td>Norway</td>\n",
       "            <td>70</td>\n",
       "        </tr>\n",
       "        <tr>\n",
       "            <td>Pakistan</td>\n",
       "            <td>249</td>\n",
       "        </tr>\n",
       "        <tr>\n",
       "            <td>Panama</td>\n",
       "            <td>388</td>\n",
       "        </tr>\n",
       "        <tr>\n",
       "            <td>Papua New Guinea</td>\n",
       "            <td>22</td>\n",
       "        </tr>\n",
       "        <tr>\n",
       "            <td>Paraguay</td>\n",
       "            <td>12</td>\n",
       "        </tr>\n",
       "        <tr>\n",
       "            <td>Peru</td>\n",
       "            <td>162</td>\n",
       "        </tr>\n",
       "        <tr>\n",
       "            <td>Philippines</td>\n",
       "            <td>681</td>\n",
       "        </tr>\n",
       "        <tr>\n",
       "            <td>Poland</td>\n",
       "            <td>252</td>\n",
       "        </tr>\n",
       "        <tr>\n",
       "            <td>Portugal</td>\n",
       "            <td>70</td>\n",
       "        </tr>\n",
       "        <tr>\n",
       "            <td>Qatar</td>\n",
       "            <td>16</td>\n",
       "        </tr>\n",
       "        <tr>\n",
       "            <td>Republic of the Congo</td>\n",
       "            <td>6</td>\n",
       "        </tr>\n",
       "        <tr>\n",
       "            <td>Romania</td>\n",
       "            <td>173</td>\n",
       "        </tr>\n",
       "        <tr>\n",
       "            <td>Russia</td>\n",
       "            <td>384</td>\n",
       "        </tr>\n",
       "        <tr>\n",
       "            <td>Rwanda</td>\n",
       "            <td>36</td>\n",
       "        </tr>\n",
       "        <tr>\n",
       "            <td>Saudi Arabia</td>\n",
       "            <td>361</td>\n",
       "        </tr>\n",
       "        <tr>\n",
       "            <td>Senegal</td>\n",
       "            <td>112</td>\n",
       "        </tr>\n",
       "        <tr>\n",
       "            <td>Sierra Leone</td>\n",
       "            <td>15</td>\n",
       "        </tr>\n",
       "        <tr>\n",
       "            <td>Singapore</td>\n",
       "            <td>141</td>\n",
       "        </tr>\n",
       "        <tr>\n",
       "            <td>Slovakia</td>\n",
       "            <td>8</td>\n",
       "        </tr>\n",
       "        <tr>\n",
       "            <td>Slovenia</td>\n",
       "            <td>3</td>\n",
       "        </tr>\n",
       "        <tr>\n",
       "            <td>Somalia</td>\n",
       "            <td>52</td>\n",
       "        </tr>\n",
       "        <tr>\n",
       "            <td>South Africa</td>\n",
       "            <td>461</td>\n",
       "        </tr>\n",
       "        <tr>\n",
       "            <td>South Korea</td>\n",
       "            <td>172</td>\n",
       "        </tr>\n",
       "        <tr>\n",
       "            <td>South Sudan</td>\n",
       "            <td>2</td>\n",
       "        </tr>\n",
       "        <tr>\n",
       "            <td>Spain</td>\n",
       "            <td>859</td>\n",
       "        </tr>\n",
       "        <tr>\n",
       "            <td>Sri Lanka</td>\n",
       "            <td>7</td>\n",
       "        </tr>\n",
       "        <tr>\n",
       "            <td>Sudan</td>\n",
       "            <td>92</td>\n",
       "        </tr>\n",
       "        <tr>\n",
       "            <td>Swaziland</td>\n",
       "            <td>2</td>\n",
       "        </tr>\n",
       "        <tr>\n",
       "            <td>Sweden</td>\n",
       "            <td>203</td>\n",
       "        </tr>\n",
       "        <tr>\n",
       "            <td>Switzerland</td>\n",
       "            <td>78</td>\n",
       "        </tr>\n",
       "        <tr>\n",
       "            <td>Syria</td>\n",
       "            <td>29</td>\n",
       "        </tr>\n",
       "        <tr>\n",
       "            <td>Taiwan</td>\n",
       "            <td>14</td>\n",
       "        </tr>\n",
       "        <tr>\n",
       "            <td>Tajikistan</td>\n",
       "            <td>3</td>\n",
       "        </tr>\n",
       "        <tr>\n",
       "            <td>Tanzania</td>\n",
       "            <td>148</td>\n",
       "        </tr>\n",
       "        <tr>\n",
       "            <td>Thailand</td>\n",
       "            <td>295</td>\n",
       "        </tr>\n",
       "        <tr>\n",
       "            <td>Togo</td>\n",
       "            <td>44</td>\n",
       "        </tr>\n",
       "        <tr>\n",
       "            <td>Trinidad and Tobago</td>\n",
       "            <td>30</td>\n",
       "        </tr>\n",
       "        <tr>\n",
       "            <td>Tunisia</td>\n",
       "            <td>13</td>\n",
       "        </tr>\n",
       "        <tr>\n",
       "            <td>Turkey</td>\n",
       "            <td>1378</td>\n",
       "        </tr>\n",
       "        <tr>\n",
       "            <td>Turkmenistan</td>\n",
       "            <td>25</td>\n",
       "        </tr>\n",
       "        <tr>\n",
       "            <td>Uganda</td>\n",
       "            <td>37</td>\n",
       "        </tr>\n",
       "        <tr>\n",
       "            <td>Ukraine</td>\n",
       "            <td>381</td>\n",
       "        </tr>\n",
       "        <tr>\n",
       "            <td>United Arab Emirates</td>\n",
       "            <td>14</td>\n",
       "        </tr>\n",
       "        <tr>\n",
       "            <td>United Kingdom</td>\n",
       "            <td>1633</td>\n",
       "        </tr>\n",
       "        <tr>\n",
       "            <td>United States</td>\n",
       "            <td>9994</td>\n",
       "        </tr>\n",
       "        <tr>\n",
       "            <td>Uruguay</td>\n",
       "            <td>24</td>\n",
       "        </tr>\n",
       "        <tr>\n",
       "            <td>Uzbekistan</td>\n",
       "            <td>48</td>\n",
       "        </tr>\n",
       "        <tr>\n",
       "            <td>Venezuela</td>\n",
       "            <td>194</td>\n",
       "        </tr>\n",
       "        <tr>\n",
       "            <td>Vietnam</td>\n",
       "            <td>265</td>\n",
       "        </tr>\n",
       "        <tr>\n",
       "            <td>Yemen</td>\n",
       "            <td>30</td>\n",
       "        </tr>\n",
       "        <tr>\n",
       "            <td>Zambia</td>\n",
       "            <td>102</td>\n",
       "        </tr>\n",
       "        <tr>\n",
       "            <td>Zimbabwe</td>\n",
       "            <td>80</td>\n",
       "        </tr>\n",
       "    </tbody>\n",
       "</table>"
      ],
      "text/plain": [
       "[('Afghanistan', 55),\n",
       " ('Albania', 16),\n",
       " ('Algeria', 196),\n",
       " ('Angola', 122),\n",
       " ('Argentina', 390),\n",
       " ('Armenia', 3),\n",
       " ('Australia', 2837),\n",
       " ('Austria', 331),\n",
       " ('Azerbaijan', 29),\n",
       " ('Bahrain', 2),\n",
       " ('Bangladesh', 163),\n",
       " ('Barbados', 26),\n",
       " ('Belarus', 80),\n",
       " ('Belgium', 147),\n",
       " ('Benin', 35),\n",
       " ('Bolivia', 48),\n",
       " ('Bosnia and Herzegovina', 17),\n",
       " ('Brazil', 1599),\n",
       " ('Bulgaria', 75),\n",
       " ('Burundi', 2),\n",
       " ('Cambodia', 45),\n",
       " ('Cameroon', 110),\n",
       " ('Canada', 384),\n",
       " ('Central African Republic', 7),\n",
       " ('Chad', 2),\n",
       " ('Chile', 143),\n",
       " ('China', 1880),\n",
       " ('Colombia', 360),\n",
       " (\"Cote d'Ivoire\", 109),\n",
       " ('Croatia', 32),\n",
       " ('Cuba', 724),\n",
       " ('Czech Republic', 71),\n",
       " ('Democratic Republic of the Congo', 379),\n",
       " ('Denmark', 65),\n",
       " ('Djibouti', 12),\n",
       " ('Dominican Republic', 742),\n",
       " ('Ecuador', 56),\n",
       " ('Egypt', 487),\n",
       " ('El Salvador', 736),\n",
       " ('Equatorial Guinea', 3),\n",
       " ('Eritrea', 2),\n",
       " ('Estonia', 13),\n",
       " ('Ethiopia', 7),\n",
       " ('Finland', 64),\n",
       " ('France', 2827),\n",
       " ('Gabon', 14),\n",
       " ('Georgia', 33),\n",
       " ('Germany', 2065),\n",
       " ('Ghana', 102),\n",
       " ('Guadeloupe', 8),\n",
       " ('Guatemala', 521),\n",
       " ('Guinea', 18),\n",
       " ('Guinea-Bissau', 9),\n",
       " ('Haiti', 104),\n",
       " ('Honduras', 713),\n",
       " ('Hong Kong', 21),\n",
       " ('Hungary', 66),\n",
       " ('India', 1555),\n",
       " ('Indonesia', 1390),\n",
       " ('Iran', 607),\n",
       " ('Iraq', 388),\n",
       " ('Ireland', 106),\n",
       " ('Israel', 103),\n",
       " ('Italy', 1108),\n",
       " ('Jamaica', 31),\n",
       " ('Japan', 250),\n",
       " ('Jordan', 42),\n",
       " ('Kazakhstan', 101),\n",
       " ('Kenya', 98),\n",
       " ('Kyrgyzstan', 40),\n",
       " ('Lebanon', 12),\n",
       " ('Lesotho', 6),\n",
       " ('Liberia', 15),\n",
       " ('Libya', 39),\n",
       " ('Lithuania', 50),\n",
       " ('Macedonia', 4),\n",
       " ('Madagascar', 56),\n",
       " ('Malaysia', 176),\n",
       " ('Mali', 43),\n",
       " ('Martinique', 25),\n",
       " ('Mauritania', 10),\n",
       " ('Mexico', 2644),\n",
       " ('Moldova', 39),\n",
       " ('Mongolia', 37),\n",
       " ('Montenegro', 4),\n",
       " ('Morocco', 451),\n",
       " ('Mozambique', 94),\n",
       " ('Myanmar (Burma)', 136),\n",
       " ('Namibia', 9),\n",
       " ('Nepal', 19),\n",
       " ('Netherlands', 435),\n",
       " ('New Zealand', 628),\n",
       " ('Nicaragua', 614),\n",
       " ('Niger', 43),\n",
       " ('Nigeria', 905),\n",
       " ('Norway', 70),\n",
       " ('Pakistan', 249),\n",
       " ('Panama', 388),\n",
       " ('Papua New Guinea', 22),\n",
       " ('Paraguay', 12),\n",
       " ('Peru', 162),\n",
       " ('Philippines', 681),\n",
       " ('Poland', 252),\n",
       " ('Portugal', 70),\n",
       " ('Qatar', 16),\n",
       " ('Republic of the Congo', 6),\n",
       " ('Romania', 173),\n",
       " ('Russia', 384),\n",
       " ('Rwanda', 36),\n",
       " ('Saudi Arabia', 361),\n",
       " ('Senegal', 112),\n",
       " ('Sierra Leone', 15),\n",
       " ('Singapore', 141),\n",
       " ('Slovakia', 8),\n",
       " ('Slovenia', 3),\n",
       " ('Somalia', 52),\n",
       " ('South Africa', 461),\n",
       " ('South Korea', 172),\n",
       " ('South Sudan', 2),\n",
       " ('Spain', 859),\n",
       " ('Sri Lanka', 7),\n",
       " ('Sudan', 92),\n",
       " ('Swaziland', 2),\n",
       " ('Sweden', 203),\n",
       " ('Switzerland', 78),\n",
       " ('Syria', 29),\n",
       " ('Taiwan', 14),\n",
       " ('Tajikistan', 3),\n",
       " ('Tanzania', 148),\n",
       " ('Thailand', 295),\n",
       " ('Togo', 44),\n",
       " ('Trinidad and Tobago', 30),\n",
       " ('Tunisia', 13),\n",
       " ('Turkey', 1378),\n",
       " ('Turkmenistan', 25),\n",
       " ('Uganda', 37),\n",
       " ('Ukraine', 381),\n",
       " ('United Arab Emirates', 14),\n",
       " ('United Kingdom', 1633),\n",
       " ('United States', 9994),\n",
       " ('Uruguay', 24),\n",
       " ('Uzbekistan', 48),\n",
       " ('Venezuela', 194),\n",
       " ('Vietnam', 265),\n",
       " ('Yemen', 30),\n",
       " ('Zambia', 102),\n",
       " ('Zimbabwe', 80)]"
      ]
     },
     "execution_count": 53,
     "metadata": {},
     "output_type": "execute_result"
    }
   ],
   "source": [
    "#code to find count of duplicate values in the table\n",
    "%sql SELECT country, COUNT(country) FROM sales_d GROUP BY country HAVING COUNT(country) > 1;  "
   ]
  },
  {
   "cell_type": "code",
   "execution_count": 54,
   "id": "d4f4db09",
   "metadata": {},
   "outputs": [
    {
     "name": "stdout",
     "output_type": "stream",
     "text": [
      " * sqlite:///db_sales\n",
      "Done.\n"
     ]
    },
    {
     "data": {
      "text/html": [
       "<table>\n",
       "    <thead>\n",
       "        <tr>\n",
       "            <th>country</th>\n",
       "            <th>region</th>\n",
       "        </tr>\n",
       "    </thead>\n",
       "    <tbody>\n",
       "        <tr>\n",
       "            <td>Afghanistan</td>\n",
       "            <td>Central Asia</td>\n",
       "        </tr>\n",
       "        <tr>\n",
       "            <td>Albania</td>\n",
       "            <td>EMEA</td>\n",
       "        </tr>\n",
       "        <tr>\n",
       "            <td>Algeria</td>\n",
       "            <td>Africa</td>\n",
       "        </tr>\n",
       "        <tr>\n",
       "            <td>Angola</td>\n",
       "            <td>Africa</td>\n",
       "        </tr>\n",
       "        <tr>\n",
       "            <td>Argentina</td>\n",
       "            <td>South</td>\n",
       "        </tr>\n",
       "        <tr>\n",
       "            <td>Armenia</td>\n",
       "            <td>EMEA</td>\n",
       "        </tr>\n",
       "        <tr>\n",
       "            <td>Australia</td>\n",
       "            <td>Oceania</td>\n",
       "        </tr>\n",
       "        <tr>\n",
       "            <td>Austria</td>\n",
       "            <td>Central</td>\n",
       "        </tr>\n",
       "        <tr>\n",
       "            <td>Austria</td>\n",
       "            <td>EMEA</td>\n",
       "        </tr>\n",
       "        <tr>\n",
       "            <td>Azerbaijan</td>\n",
       "            <td>EMEA</td>\n",
       "        </tr>\n",
       "        <tr>\n",
       "            <td>Bahrain</td>\n",
       "            <td>EMEA</td>\n",
       "        </tr>\n",
       "        <tr>\n",
       "            <td>Bangladesh</td>\n",
       "            <td>Central Asia</td>\n",
       "        </tr>\n",
       "        <tr>\n",
       "            <td>Barbados</td>\n",
       "            <td>Caribbean</td>\n",
       "        </tr>\n",
       "        <tr>\n",
       "            <td>Belarus</td>\n",
       "            <td>EMEA</td>\n",
       "        </tr>\n",
       "        <tr>\n",
       "            <td>Belgium</td>\n",
       "            <td>Central</td>\n",
       "        </tr>\n",
       "        <tr>\n",
       "            <td>Benin</td>\n",
       "            <td>Africa</td>\n",
       "        </tr>\n",
       "        <tr>\n",
       "            <td>Bolivia</td>\n",
       "            <td>South</td>\n",
       "        </tr>\n",
       "        <tr>\n",
       "            <td>Bosnia and Herzegovina</td>\n",
       "            <td>EMEA</td>\n",
       "        </tr>\n",
       "        <tr>\n",
       "            <td>Brazil</td>\n",
       "            <td>South</td>\n",
       "        </tr>\n",
       "        <tr>\n",
       "            <td>Bulgaria</td>\n",
       "            <td>EMEA</td>\n",
       "        </tr>\n",
       "        <tr>\n",
       "            <td>Burundi</td>\n",
       "            <td>Africa</td>\n",
       "        </tr>\n",
       "        <tr>\n",
       "            <td>Cambodia</td>\n",
       "            <td>Southeast Asia</td>\n",
       "        </tr>\n",
       "        <tr>\n",
       "            <td>Cameroon</td>\n",
       "            <td>Africa</td>\n",
       "        </tr>\n",
       "        <tr>\n",
       "            <td>Canada</td>\n",
       "            <td>Canada</td>\n",
       "        </tr>\n",
       "        <tr>\n",
       "            <td>Central African Republic</td>\n",
       "            <td>Africa</td>\n",
       "        </tr>\n",
       "        <tr>\n",
       "            <td>Chad</td>\n",
       "            <td>Africa</td>\n",
       "        </tr>\n",
       "        <tr>\n",
       "            <td>Chile</td>\n",
       "            <td>South</td>\n",
       "        </tr>\n",
       "        <tr>\n",
       "            <td>China</td>\n",
       "            <td>North Asia</td>\n",
       "        </tr>\n",
       "        <tr>\n",
       "            <td>Colombia</td>\n",
       "            <td>South</td>\n",
       "        </tr>\n",
       "        <tr>\n",
       "            <td>Cote d&#x27;Ivoire</td>\n",
       "            <td>Africa</td>\n",
       "        </tr>\n",
       "        <tr>\n",
       "            <td>Croatia</td>\n",
       "            <td>EMEA</td>\n",
       "        </tr>\n",
       "        <tr>\n",
       "            <td>Cuba</td>\n",
       "            <td>Caribbean</td>\n",
       "        </tr>\n",
       "        <tr>\n",
       "            <td>Czech Republic</td>\n",
       "            <td>EMEA</td>\n",
       "        </tr>\n",
       "        <tr>\n",
       "            <td>Democratic Republic of the Congo</td>\n",
       "            <td>Africa</td>\n",
       "        </tr>\n",
       "        <tr>\n",
       "            <td>Denmark</td>\n",
       "            <td>North</td>\n",
       "        </tr>\n",
       "        <tr>\n",
       "            <td>Djibouti</td>\n",
       "            <td>Africa</td>\n",
       "        </tr>\n",
       "        <tr>\n",
       "            <td>Dominican Republic</td>\n",
       "            <td>Caribbean</td>\n",
       "        </tr>\n",
       "        <tr>\n",
       "            <td>Ecuador</td>\n",
       "            <td>South</td>\n",
       "        </tr>\n",
       "        <tr>\n",
       "            <td>Egypt</td>\n",
       "            <td>Africa</td>\n",
       "        </tr>\n",
       "        <tr>\n",
       "            <td>El Salvador</td>\n",
       "            <td>Central</td>\n",
       "        </tr>\n",
       "        <tr>\n",
       "            <td>Equatorial Guinea</td>\n",
       "            <td>Africa</td>\n",
       "        </tr>\n",
       "        <tr>\n",
       "            <td>Eritrea</td>\n",
       "            <td>Africa</td>\n",
       "        </tr>\n",
       "        <tr>\n",
       "            <td>Estonia</td>\n",
       "            <td>EMEA</td>\n",
       "        </tr>\n",
       "        <tr>\n",
       "            <td>Ethiopia</td>\n",
       "            <td>Africa</td>\n",
       "        </tr>\n",
       "        <tr>\n",
       "            <td>Finland</td>\n",
       "            <td>North</td>\n",
       "        </tr>\n",
       "        <tr>\n",
       "            <td>France</td>\n",
       "            <td>Central</td>\n",
       "        </tr>\n",
       "        <tr>\n",
       "            <td>Gabon</td>\n",
       "            <td>Africa</td>\n",
       "        </tr>\n",
       "        <tr>\n",
       "            <td>Georgia</td>\n",
       "            <td>EMEA</td>\n",
       "        </tr>\n",
       "        <tr>\n",
       "            <td>Germany</td>\n",
       "            <td>Central</td>\n",
       "        </tr>\n",
       "        <tr>\n",
       "            <td>Ghana</td>\n",
       "            <td>Africa</td>\n",
       "        </tr>\n",
       "        <tr>\n",
       "            <td>Guadeloupe</td>\n",
       "            <td>Caribbean</td>\n",
       "        </tr>\n",
       "        <tr>\n",
       "            <td>Guatemala</td>\n",
       "            <td>Central</td>\n",
       "        </tr>\n",
       "        <tr>\n",
       "            <td>Guinea</td>\n",
       "            <td>Africa</td>\n",
       "        </tr>\n",
       "        <tr>\n",
       "            <td>Guinea-Bissau</td>\n",
       "            <td>Africa</td>\n",
       "        </tr>\n",
       "        <tr>\n",
       "            <td>Haiti</td>\n",
       "            <td>Caribbean</td>\n",
       "        </tr>\n",
       "        <tr>\n",
       "            <td>Honduras</td>\n",
       "            <td>Central</td>\n",
       "        </tr>\n",
       "        <tr>\n",
       "            <td>Hong Kong</td>\n",
       "            <td>North Asia</td>\n",
       "        </tr>\n",
       "        <tr>\n",
       "            <td>Hungary</td>\n",
       "            <td>EMEA</td>\n",
       "        </tr>\n",
       "        <tr>\n",
       "            <td>India</td>\n",
       "            <td>Central Asia</td>\n",
       "        </tr>\n",
       "        <tr>\n",
       "            <td>Indonesia</td>\n",
       "            <td>Southeast Asia</td>\n",
       "        </tr>\n",
       "        <tr>\n",
       "            <td>Iran</td>\n",
       "            <td>EMEA</td>\n",
       "        </tr>\n",
       "        <tr>\n",
       "            <td>Iraq</td>\n",
       "            <td>EMEA</td>\n",
       "        </tr>\n",
       "        <tr>\n",
       "            <td>Ireland</td>\n",
       "            <td>North</td>\n",
       "        </tr>\n",
       "        <tr>\n",
       "            <td>Israel</td>\n",
       "            <td>EMEA</td>\n",
       "        </tr>\n",
       "        <tr>\n",
       "            <td>Italy</td>\n",
       "            <td>South</td>\n",
       "        </tr>\n",
       "        <tr>\n",
       "            <td>Jamaica</td>\n",
       "            <td>Caribbean</td>\n",
       "        </tr>\n",
       "        <tr>\n",
       "            <td>Japan</td>\n",
       "            <td>North Asia</td>\n",
       "        </tr>\n",
       "        <tr>\n",
       "            <td>Jordan</td>\n",
       "            <td>EMEA</td>\n",
       "        </tr>\n",
       "        <tr>\n",
       "            <td>Kazakhstan</td>\n",
       "            <td>EMEA</td>\n",
       "        </tr>\n",
       "        <tr>\n",
       "            <td>Kenya</td>\n",
       "            <td>Africa</td>\n",
       "        </tr>\n",
       "        <tr>\n",
       "            <td>Kyrgyzstan</td>\n",
       "            <td>EMEA</td>\n",
       "        </tr>\n",
       "        <tr>\n",
       "            <td>Lebanon</td>\n",
       "            <td>EMEA</td>\n",
       "        </tr>\n",
       "        <tr>\n",
       "            <td>Lesotho</td>\n",
       "            <td>Africa</td>\n",
       "        </tr>\n",
       "        <tr>\n",
       "            <td>Liberia</td>\n",
       "            <td>Africa</td>\n",
       "        </tr>\n",
       "        <tr>\n",
       "            <td>Libya</td>\n",
       "            <td>Africa</td>\n",
       "        </tr>\n",
       "        <tr>\n",
       "            <td>Lithuania</td>\n",
       "            <td>EMEA</td>\n",
       "        </tr>\n",
       "        <tr>\n",
       "            <td>Macedonia</td>\n",
       "            <td>EMEA</td>\n",
       "        </tr>\n",
       "        <tr>\n",
       "            <td>Madagascar</td>\n",
       "            <td>Africa</td>\n",
       "        </tr>\n",
       "        <tr>\n",
       "            <td>Malaysia</td>\n",
       "            <td>Southeast Asia</td>\n",
       "        </tr>\n",
       "        <tr>\n",
       "            <td>Mali</td>\n",
       "            <td>Africa</td>\n",
       "        </tr>\n",
       "        <tr>\n",
       "            <td>Martinique</td>\n",
       "            <td>Caribbean</td>\n",
       "        </tr>\n",
       "        <tr>\n",
       "            <td>Mauritania</td>\n",
       "            <td>Africa</td>\n",
       "        </tr>\n",
       "        <tr>\n",
       "            <td>Mexico</td>\n",
       "            <td>North</td>\n",
       "        </tr>\n",
       "        <tr>\n",
       "            <td>Moldova</td>\n",
       "            <td>EMEA</td>\n",
       "        </tr>\n",
       "        <tr>\n",
       "            <td>Mongolia</td>\n",
       "            <td>EMEA</td>\n",
       "        </tr>\n",
       "        <tr>\n",
       "            <td>Montenegro</td>\n",
       "            <td>EMEA</td>\n",
       "        </tr>\n",
       "        <tr>\n",
       "            <td>Morocco</td>\n",
       "            <td>Africa</td>\n",
       "        </tr>\n",
       "        <tr>\n",
       "            <td>Mozambique</td>\n",
       "            <td>Africa</td>\n",
       "        </tr>\n",
       "        <tr>\n",
       "            <td>Myanmar (Burma)</td>\n",
       "            <td>Southeast Asia</td>\n",
       "        </tr>\n",
       "        <tr>\n",
       "            <td>Namibia</td>\n",
       "            <td>Africa</td>\n",
       "        </tr>\n",
       "        <tr>\n",
       "            <td>Nepal</td>\n",
       "            <td>Central Asia</td>\n",
       "        </tr>\n",
       "        <tr>\n",
       "            <td>Netherlands</td>\n",
       "            <td>Central</td>\n",
       "        </tr>\n",
       "        <tr>\n",
       "            <td>New Zealand</td>\n",
       "            <td>Oceania</td>\n",
       "        </tr>\n",
       "        <tr>\n",
       "            <td>Nicaragua</td>\n",
       "            <td>Central</td>\n",
       "        </tr>\n",
       "        <tr>\n",
       "            <td>Niger</td>\n",
       "            <td>Africa</td>\n",
       "        </tr>\n",
       "        <tr>\n",
       "            <td>Nigeria</td>\n",
       "            <td>Africa</td>\n",
       "        </tr>\n",
       "        <tr>\n",
       "            <td>Norway</td>\n",
       "            <td>North</td>\n",
       "        </tr>\n",
       "        <tr>\n",
       "            <td>Pakistan</td>\n",
       "            <td>Central Asia</td>\n",
       "        </tr>\n",
       "        <tr>\n",
       "            <td>Panama</td>\n",
       "            <td>Central</td>\n",
       "        </tr>\n",
       "        <tr>\n",
       "            <td>Papua New Guinea</td>\n",
       "            <td>Oceania</td>\n",
       "        </tr>\n",
       "        <tr>\n",
       "            <td>Paraguay</td>\n",
       "            <td>South</td>\n",
       "        </tr>\n",
       "        <tr>\n",
       "            <td>Peru</td>\n",
       "            <td>South</td>\n",
       "        </tr>\n",
       "        <tr>\n",
       "            <td>Philippines</td>\n",
       "            <td>Southeast Asia</td>\n",
       "        </tr>\n",
       "        <tr>\n",
       "            <td>Poland</td>\n",
       "            <td>EMEA</td>\n",
       "        </tr>\n",
       "        <tr>\n",
       "            <td>Portugal</td>\n",
       "            <td>South</td>\n",
       "        </tr>\n",
       "        <tr>\n",
       "            <td>Qatar</td>\n",
       "            <td>EMEA</td>\n",
       "        </tr>\n",
       "        <tr>\n",
       "            <td>Republic of the Congo</td>\n",
       "            <td>Africa</td>\n",
       "        </tr>\n",
       "        <tr>\n",
       "            <td>Romania</td>\n",
       "            <td>EMEA</td>\n",
       "        </tr>\n",
       "        <tr>\n",
       "            <td>Russia</td>\n",
       "            <td>EMEA</td>\n",
       "        </tr>\n",
       "        <tr>\n",
       "            <td>Rwanda</td>\n",
       "            <td>Africa</td>\n",
       "        </tr>\n",
       "        <tr>\n",
       "            <td>Saudi Arabia</td>\n",
       "            <td>EMEA</td>\n",
       "        </tr>\n",
       "        <tr>\n",
       "            <td>Senegal</td>\n",
       "            <td>Africa</td>\n",
       "        </tr>\n",
       "        <tr>\n",
       "            <td>Sierra Leone</td>\n",
       "            <td>Africa</td>\n",
       "        </tr>\n",
       "        <tr>\n",
       "            <td>Singapore</td>\n",
       "            <td>Southeast Asia</td>\n",
       "        </tr>\n",
       "        <tr>\n",
       "            <td>Slovakia</td>\n",
       "            <td>EMEA</td>\n",
       "        </tr>\n",
       "        <tr>\n",
       "            <td>Slovenia</td>\n",
       "            <td>EMEA</td>\n",
       "        </tr>\n",
       "        <tr>\n",
       "            <td>Somalia</td>\n",
       "            <td>Africa</td>\n",
       "        </tr>\n",
       "        <tr>\n",
       "            <td>South Africa</td>\n",
       "            <td>Africa</td>\n",
       "        </tr>\n",
       "        <tr>\n",
       "            <td>South Korea</td>\n",
       "            <td>North Asia</td>\n",
       "        </tr>\n",
       "        <tr>\n",
       "            <td>South Sudan</td>\n",
       "            <td>Africa</td>\n",
       "        </tr>\n",
       "        <tr>\n",
       "            <td>Spain</td>\n",
       "            <td>South</td>\n",
       "        </tr>\n",
       "        <tr>\n",
       "            <td>Sri Lanka</td>\n",
       "            <td>Central Asia</td>\n",
       "        </tr>\n",
       "        <tr>\n",
       "            <td>Sudan</td>\n",
       "            <td>Africa</td>\n",
       "        </tr>\n",
       "        <tr>\n",
       "            <td>Swaziland</td>\n",
       "            <td>Africa</td>\n",
       "        </tr>\n",
       "        <tr>\n",
       "            <td>Sweden</td>\n",
       "            <td>North</td>\n",
       "        </tr>\n",
       "        <tr>\n",
       "            <td>Switzerland</td>\n",
       "            <td>Central</td>\n",
       "        </tr>\n",
       "        <tr>\n",
       "            <td>Syria</td>\n",
       "            <td>EMEA</td>\n",
       "        </tr>\n",
       "        <tr>\n",
       "            <td>Taiwan</td>\n",
       "            <td>North Asia</td>\n",
       "        </tr>\n",
       "        <tr>\n",
       "            <td>Tajikistan</td>\n",
       "            <td>EMEA</td>\n",
       "        </tr>\n",
       "        <tr>\n",
       "            <td>Tanzania</td>\n",
       "            <td>Africa</td>\n",
       "        </tr>\n",
       "        <tr>\n",
       "            <td>Thailand</td>\n",
       "            <td>Southeast Asia</td>\n",
       "        </tr>\n",
       "        <tr>\n",
       "            <td>Togo</td>\n",
       "            <td>Africa</td>\n",
       "        </tr>\n",
       "        <tr>\n",
       "            <td>Trinidad and Tobago</td>\n",
       "            <td>Caribbean</td>\n",
       "        </tr>\n",
       "        <tr>\n",
       "            <td>Tunisia</td>\n",
       "            <td>Africa</td>\n",
       "        </tr>\n",
       "        <tr>\n",
       "            <td>Turkey</td>\n",
       "            <td>EMEA</td>\n",
       "        </tr>\n",
       "        <tr>\n",
       "            <td>Turkmenistan</td>\n",
       "            <td>EMEA</td>\n",
       "        </tr>\n",
       "        <tr>\n",
       "            <td>Uganda</td>\n",
       "            <td>Africa</td>\n",
       "        </tr>\n",
       "        <tr>\n",
       "            <td>Ukraine</td>\n",
       "            <td>EMEA</td>\n",
       "        </tr>\n",
       "        <tr>\n",
       "            <td>United Arab Emirates</td>\n",
       "            <td>EMEA</td>\n",
       "        </tr>\n",
       "        <tr>\n",
       "            <td>United Kingdom</td>\n",
       "            <td>North</td>\n",
       "        </tr>\n",
       "        <tr>\n",
       "            <td>United States</td>\n",
       "            <td>Central</td>\n",
       "        </tr>\n",
       "        <tr>\n",
       "            <td>United States</td>\n",
       "            <td>East</td>\n",
       "        </tr>\n",
       "        <tr>\n",
       "            <td>United States</td>\n",
       "            <td>South</td>\n",
       "        </tr>\n",
       "        <tr>\n",
       "            <td>United States</td>\n",
       "            <td>West</td>\n",
       "        </tr>\n",
       "        <tr>\n",
       "            <td>Uruguay</td>\n",
       "            <td>South</td>\n",
       "        </tr>\n",
       "        <tr>\n",
       "            <td>Uzbekistan</td>\n",
       "            <td>EMEA</td>\n",
       "        </tr>\n",
       "        <tr>\n",
       "            <td>Venezuela</td>\n",
       "            <td>South</td>\n",
       "        </tr>\n",
       "        <tr>\n",
       "            <td>Vietnam</td>\n",
       "            <td>Southeast Asia</td>\n",
       "        </tr>\n",
       "        <tr>\n",
       "            <td>Yemen</td>\n",
       "            <td>EMEA</td>\n",
       "        </tr>\n",
       "        <tr>\n",
       "            <td>Zambia</td>\n",
       "            <td>Africa</td>\n",
       "        </tr>\n",
       "        <tr>\n",
       "            <td>Zimbabwe</td>\n",
       "            <td>Africa</td>\n",
       "        </tr>\n",
       "    </tbody>\n",
       "</table>"
      ],
      "text/plain": [
       "[('Afghanistan', 'Central Asia'),\n",
       " ('Albania', 'EMEA'),\n",
       " ('Algeria', 'Africa'),\n",
       " ('Angola', 'Africa'),\n",
       " ('Argentina', 'South'),\n",
       " ('Armenia', 'EMEA'),\n",
       " ('Australia', 'Oceania'),\n",
       " ('Austria', 'Central'),\n",
       " ('Austria', 'EMEA'),\n",
       " ('Azerbaijan', 'EMEA'),\n",
       " ('Bahrain', 'EMEA'),\n",
       " ('Bangladesh', 'Central Asia'),\n",
       " ('Barbados', 'Caribbean'),\n",
       " ('Belarus', 'EMEA'),\n",
       " ('Belgium', 'Central'),\n",
       " ('Benin', 'Africa'),\n",
       " ('Bolivia', 'South'),\n",
       " ('Bosnia and Herzegovina', 'EMEA'),\n",
       " ('Brazil', 'South'),\n",
       " ('Bulgaria', 'EMEA'),\n",
       " ('Burundi', 'Africa'),\n",
       " ('Cambodia', 'Southeast Asia'),\n",
       " ('Cameroon', 'Africa'),\n",
       " ('Canada', 'Canada'),\n",
       " ('Central African Republic', 'Africa'),\n",
       " ('Chad', 'Africa'),\n",
       " ('Chile', 'South'),\n",
       " ('China', 'North Asia'),\n",
       " ('Colombia', 'South'),\n",
       " (\"Cote d'Ivoire\", 'Africa'),\n",
       " ('Croatia', 'EMEA'),\n",
       " ('Cuba', 'Caribbean'),\n",
       " ('Czech Republic', 'EMEA'),\n",
       " ('Democratic Republic of the Congo', 'Africa'),\n",
       " ('Denmark', 'North'),\n",
       " ('Djibouti', 'Africa'),\n",
       " ('Dominican Republic', 'Caribbean'),\n",
       " ('Ecuador', 'South'),\n",
       " ('Egypt', 'Africa'),\n",
       " ('El Salvador', 'Central'),\n",
       " ('Equatorial Guinea', 'Africa'),\n",
       " ('Eritrea', 'Africa'),\n",
       " ('Estonia', 'EMEA'),\n",
       " ('Ethiopia', 'Africa'),\n",
       " ('Finland', 'North'),\n",
       " ('France', 'Central'),\n",
       " ('Gabon', 'Africa'),\n",
       " ('Georgia', 'EMEA'),\n",
       " ('Germany', 'Central'),\n",
       " ('Ghana', 'Africa'),\n",
       " ('Guadeloupe', 'Caribbean'),\n",
       " ('Guatemala', 'Central'),\n",
       " ('Guinea', 'Africa'),\n",
       " ('Guinea-Bissau', 'Africa'),\n",
       " ('Haiti', 'Caribbean'),\n",
       " ('Honduras', 'Central'),\n",
       " ('Hong Kong', 'North Asia'),\n",
       " ('Hungary', 'EMEA'),\n",
       " ('India', 'Central Asia'),\n",
       " ('Indonesia', 'Southeast Asia'),\n",
       " ('Iran', 'EMEA'),\n",
       " ('Iraq', 'EMEA'),\n",
       " ('Ireland', 'North'),\n",
       " ('Israel', 'EMEA'),\n",
       " ('Italy', 'South'),\n",
       " ('Jamaica', 'Caribbean'),\n",
       " ('Japan', 'North Asia'),\n",
       " ('Jordan', 'EMEA'),\n",
       " ('Kazakhstan', 'EMEA'),\n",
       " ('Kenya', 'Africa'),\n",
       " ('Kyrgyzstan', 'EMEA'),\n",
       " ('Lebanon', 'EMEA'),\n",
       " ('Lesotho', 'Africa'),\n",
       " ('Liberia', 'Africa'),\n",
       " ('Libya', 'Africa'),\n",
       " ('Lithuania', 'EMEA'),\n",
       " ('Macedonia', 'EMEA'),\n",
       " ('Madagascar', 'Africa'),\n",
       " ('Malaysia', 'Southeast Asia'),\n",
       " ('Mali', 'Africa'),\n",
       " ('Martinique', 'Caribbean'),\n",
       " ('Mauritania', 'Africa'),\n",
       " ('Mexico', 'North'),\n",
       " ('Moldova', 'EMEA'),\n",
       " ('Mongolia', 'EMEA'),\n",
       " ('Montenegro', 'EMEA'),\n",
       " ('Morocco', 'Africa'),\n",
       " ('Mozambique', 'Africa'),\n",
       " ('Myanmar (Burma)', 'Southeast Asia'),\n",
       " ('Namibia', 'Africa'),\n",
       " ('Nepal', 'Central Asia'),\n",
       " ('Netherlands', 'Central'),\n",
       " ('New Zealand', 'Oceania'),\n",
       " ('Nicaragua', 'Central'),\n",
       " ('Niger', 'Africa'),\n",
       " ('Nigeria', 'Africa'),\n",
       " ('Norway', 'North'),\n",
       " ('Pakistan', 'Central Asia'),\n",
       " ('Panama', 'Central'),\n",
       " ('Papua New Guinea', 'Oceania'),\n",
       " ('Paraguay', 'South'),\n",
       " ('Peru', 'South'),\n",
       " ('Philippines', 'Southeast Asia'),\n",
       " ('Poland', 'EMEA'),\n",
       " ('Portugal', 'South'),\n",
       " ('Qatar', 'EMEA'),\n",
       " ('Republic of the Congo', 'Africa'),\n",
       " ('Romania', 'EMEA'),\n",
       " ('Russia', 'EMEA'),\n",
       " ('Rwanda', 'Africa'),\n",
       " ('Saudi Arabia', 'EMEA'),\n",
       " ('Senegal', 'Africa'),\n",
       " ('Sierra Leone', 'Africa'),\n",
       " ('Singapore', 'Southeast Asia'),\n",
       " ('Slovakia', 'EMEA'),\n",
       " ('Slovenia', 'EMEA'),\n",
       " ('Somalia', 'Africa'),\n",
       " ('South Africa', 'Africa'),\n",
       " ('South Korea', 'North Asia'),\n",
       " ('South Sudan', 'Africa'),\n",
       " ('Spain', 'South'),\n",
       " ('Sri Lanka', 'Central Asia'),\n",
       " ('Sudan', 'Africa'),\n",
       " ('Swaziland', 'Africa'),\n",
       " ('Sweden', 'North'),\n",
       " ('Switzerland', 'Central'),\n",
       " ('Syria', 'EMEA'),\n",
       " ('Taiwan', 'North Asia'),\n",
       " ('Tajikistan', 'EMEA'),\n",
       " ('Tanzania', 'Africa'),\n",
       " ('Thailand', 'Southeast Asia'),\n",
       " ('Togo', 'Africa'),\n",
       " ('Trinidad and Tobago', 'Caribbean'),\n",
       " ('Tunisia', 'Africa'),\n",
       " ('Turkey', 'EMEA'),\n",
       " ('Turkmenistan', 'EMEA'),\n",
       " ('Uganda', 'Africa'),\n",
       " ('Ukraine', 'EMEA'),\n",
       " ('United Arab Emirates', 'EMEA'),\n",
       " ('United Kingdom', 'North'),\n",
       " ('United States', 'Central'),\n",
       " ('United States', 'East'),\n",
       " ('United States', 'South'),\n",
       " ('United States', 'West'),\n",
       " ('Uruguay', 'South'),\n",
       " ('Uzbekistan', 'EMEA'),\n",
       " ('Venezuela', 'South'),\n",
       " ('Vietnam', 'Southeast Asia'),\n",
       " ('Yemen', 'EMEA'),\n",
       " ('Zambia', 'Africa'),\n",
       " ('Zimbabwe', 'Africa')]"
      ]
     },
     "execution_count": 54,
     "metadata": {},
     "output_type": "execute_result"
    }
   ],
   "source": [
    "##code to find duplicate values from multiple columns\n",
    "%sql SELECT country, region FROM sales_d GROUP BY country, region HAVING (COUNT(country) > 1) AND (COUNT(region) > 1); "
   ]
  },
  {
   "cell_type": "markdown",
   "id": "e2857604",
   "metadata": {},
   "source": [
    "---"
   ]
  },
  {
   "cell_type": "markdown",
   "id": "062c6aaf",
   "metadata": {},
   "source": [
    "# 8.If\n",
    "\n",
    "* IF function is control flow function, which returns a value based on the given conditions.The IF function returns a value YES when the given condition evaluates to true and returns a NO value when the condition evaluates to false. The IF() function accepts one parameter which is the condition to be evaluated."
   ]
  },
  {
   "cell_type": "code",
   "execution_count": 55,
   "id": "6cacfc39",
   "metadata": {},
   "outputs": [
    {
     "name": "stdout",
     "output_type": "stream",
     "text": [
      " * sqlite:///db_sales\n",
      "Done.\n"
     ]
    },
    {
     "data": {
      "text/html": [
       "<table>\n",
       "    <thead>\n",
       "        <tr>\n",
       "            <th>segment</th>\n",
       "            <th>profit</th>\n",
       "            <th>Result</th>\n",
       "        </tr>\n",
       "    </thead>\n",
       "    <tbody>\n",
       "        <tr>\n",
       "            <td>Consumer</td>\n",
       "            <td>106.14</td>\n",
       "            <td>1</td>\n",
       "        </tr>\n",
       "        <tr>\n",
       "            <td>Consumer</td>\n",
       "            <td>36.036</td>\n",
       "            <td>1</td>\n",
       "        </tr>\n",
       "        <tr>\n",
       "            <td>Consumer</td>\n",
       "            <td>29.64</td>\n",
       "            <td>1</td>\n",
       "        </tr>\n",
       "        <tr>\n",
       "            <td>Home Office</td>\n",
       "            <td>-26.055</td>\n",
       "            <td>0</td>\n",
       "        </tr>\n",
       "        <tr>\n",
       "            <td>Consumer</td>\n",
       "            <td>37.77</td>\n",
       "            <td>1</td>\n",
       "        </tr>\n",
       "        <tr>\n",
       "            <td>Consumer</td>\n",
       "            <td>15.342</td>\n",
       "            <td>0</td>\n",
       "        </tr>\n",
       "        <tr>\n",
       "            <td>Consumer</td>\n",
       "            <td>3.12</td>\n",
       "            <td>0</td>\n",
       "        </tr>\n",
       "        <tr>\n",
       "            <td>Corporate</td>\n",
       "            <td>110.412</td>\n",
       "            <td>1</td>\n",
       "        </tr>\n",
       "        <tr>\n",
       "            <td>Consumer</td>\n",
       "            <td>-319.464</td>\n",
       "            <td>0</td>\n",
       "        </tr>\n",
       "        <tr>\n",
       "            <td>Corporate</td>\n",
       "            <td>253.32</td>\n",
       "            <td>1</td>\n",
       "        </tr>\n",
       "    </tbody>\n",
       "</table>"
      ],
      "text/plain": [
       "[('Consumer', 106.14, 1),\n",
       " ('Consumer', 36.036, 1),\n",
       " ('Consumer', 29.64, 1),\n",
       " ('Home Office', -26.055, 0),\n",
       " ('Consumer', 37.77, 1),\n",
       " ('Consumer', 15.342, 0),\n",
       " ('Consumer', 3.12, 0),\n",
       " ('Corporate', 110.412, 1),\n",
       " ('Consumer', -319.464, 0),\n",
       " ('Corporate', 253.32, 1)]"
      ]
     },
     "execution_count": 55,
     "metadata": {},
     "output_type": "execute_result"
    }
   ],
   "source": [
    "#SQLite uses IIF function instead of IF, and returns 1 -True, 0 -False\n",
    "%sql SELECT segment, profit, IIF(profit>20, \"True\", \"False\" ) As Result FROM sales_d limit 10;"
   ]
  },
  {
   "cell_type": "markdown",
   "id": "122fee14",
   "metadata": {},
   "source": [
    "---"
   ]
  },
  {
   "cell_type": "markdown",
   "id": "00d79e3f",
   "metadata": {},
   "source": [
    "# 9.VIEW\n",
    "\n",
    "In SQL, a view is a virtual table based on the result-set of an SQL statement.\n",
    "\n",
    "A view contains rows and columns, just like a real table. The fields in a view are fields from one or more real tables in the database.\n",
    "\n",
    "You can add SQL statements and functions to a view and present the data as if the data were coming from one single table.\n",
    "\n",
    "A view is created with the CREATE VIEW statement. "
   ]
  },
  {
   "cell_type": "code",
   "execution_count": 56,
   "id": "384cf2af",
   "metadata": {
    "scrolled": true
   },
   "outputs": [
    {
     "name": "stdout",
     "output_type": "stream",
     "text": [
      " * sqlite:///db_sales\n",
      "Done.\n"
     ]
    },
    {
     "data": {
      "text/plain": [
       "[]"
      ]
     },
     "execution_count": 56,
     "metadata": {},
     "output_type": "execute_result"
    }
   ],
   "source": [
    "# creating View for sales in africa\n",
    "\n",
    "%sql CREATE VIEW[Top_profit] AS SELECT category, round(profit) FROM sales_d WHERE profit > 4000 Order by profit DESC;"
   ]
  },
  {
   "cell_type": "code",
   "execution_count": 57,
   "id": "a5459c82",
   "metadata": {},
   "outputs": [
    {
     "name": "stdout",
     "output_type": "stream",
     "text": [
      " * sqlite:///db_sales\n",
      "Done.\n"
     ]
    },
    {
     "data": {
      "text/html": [
       "<table>\n",
       "    <thead>\n",
       "        <tr>\n",
       "            <th>category</th>\n",
       "            <th>round(profit)</th>\n",
       "        </tr>\n",
       "    </thead>\n",
       "    <tbody>\n",
       "        <tr>\n",
       "            <td>Technology</td>\n",
       "            <td>8400.0</td>\n",
       "        </tr>\n",
       "        <tr>\n",
       "            <td>Technology</td>\n",
       "            <td>6720.0</td>\n",
       "        </tr>\n",
       "        <tr>\n",
       "            <td>Technology</td>\n",
       "            <td>5040.0</td>\n",
       "        </tr>\n",
       "        <tr>\n",
       "            <td>Office Supplies</td>\n",
       "            <td>4946.0</td>\n",
       "        </tr>\n",
       "        <tr>\n",
       "            <td>Office Supplies</td>\n",
       "            <td>4630.0</td>\n",
       "        </tr>\n",
       "    </tbody>\n",
       "</table>"
      ],
      "text/plain": [
       "[('Technology', 8400.0),\n",
       " ('Technology', 6720.0),\n",
       " ('Technology', 5040.0),\n",
       " ('Office Supplies', 4946.0),\n",
       " ('Office Supplies', 4630.0)]"
      ]
     },
     "execution_count": 57,
     "metadata": {},
     "output_type": "execute_result"
    }
   ],
   "source": [
    "#Querying the created view\n",
    "\n",
    "%sql SELECT * FROM Top_profit;"
   ]
  },
  {
   "cell_type": "code",
   "execution_count": 58,
   "id": "e51bfb4a",
   "metadata": {},
   "outputs": [
    {
     "name": "stdout",
     "output_type": "stream",
     "text": [
      " * sqlite:///db_sales\n",
      "Done.\n"
     ]
    },
    {
     "data": {
      "text/plain": [
       "[]"
      ]
     },
     "execution_count": 58,
     "metadata": {},
     "output_type": "execute_result"
    }
   ],
   "source": [
    "#Drop view is used to delete view\n",
    "%sql DROP View Top_profit;"
   ]
  },
  {
   "cell_type": "code",
   "execution_count": 59,
   "id": "b550e016",
   "metadata": {},
   "outputs": [
    {
     "name": "stdout",
     "output_type": "stream",
     "text": [
      " * sqlite:///db_sales\n",
      "Done.\n"
     ]
    },
    {
     "data": {
      "text/html": [
       "<table>\n",
       "    <thead>\n",
       "        <tr>\n",
       "            <th>max(profit)</th>\n",
       "        </tr>\n",
       "    </thead>\n",
       "    <tbody>\n",
       "        <tr>\n",
       "            <td>8399.976</td>\n",
       "        </tr>\n",
       "    </tbody>\n",
       "</table>"
      ],
      "text/plain": [
       "[(8399.976,)]"
      ]
     },
     "execution_count": 59,
     "metadata": {},
     "output_type": "execute_result"
    }
   ],
   "source": [
    "# cross checking view\n",
    "%sql select max(profit) from sales_d;"
   ]
  },
  {
   "cell_type": "markdown",
   "id": "d57790b2",
   "metadata": {},
   "source": [
    "---"
   ]
  },
  {
   "cell_type": "markdown",
   "id": "8946c689",
   "metadata": {},
   "source": [
    "# 10.substr\n",
    "* substr() returns the specified number of characters from a particular position of a given string."
   ]
  },
  {
   "cell_type": "code",
   "execution_count": 60,
   "id": "3f266225",
   "metadata": {},
   "outputs": [
    {
     "name": "stdout",
     "output_type": "stream",
     "text": [
      " * sqlite:///db_sales\n",
      "Done.\n"
     ]
    },
    {
     "data": {
      "text/html": [
       "<table>\n",
       "    <thead>\n",
       "        <tr>\n",
       "            <th>country</th>\n",
       "            <th>substr(country ,4,3 )</th>\n",
       "        </tr>\n",
       "    </thead>\n",
       "    <tbody>\n",
       "        <tr>\n",
       "            <td>Algeria</td>\n",
       "            <td>eri</td>\n",
       "        </tr>\n",
       "        <tr>\n",
       "            <td>Australia</td>\n",
       "            <td>tra</td>\n",
       "        </tr>\n",
       "        <tr>\n",
       "            <td>Hungary</td>\n",
       "            <td>gar</td>\n",
       "        </tr>\n",
       "        <tr>\n",
       "            <td>Sweden</td>\n",
       "            <td>den</td>\n",
       "        </tr>\n",
       "        <tr>\n",
       "            <td>Australia</td>\n",
       "            <td>tra</td>\n",
       "        </tr>\n",
       "    </tbody>\n",
       "</table>"
      ],
      "text/plain": [
       "[('Algeria', 'eri'),\n",
       " ('Australia', 'tra'),\n",
       " ('Hungary', 'gar'),\n",
       " ('Sweden', 'den'),\n",
       " ('Australia', 'tra')]"
      ]
     },
     "execution_count": 60,
     "metadata": {},
     "output_type": "execute_result"
    }
   ],
   "source": [
    "#substr(string, 4,3) returns 3 numbers of characters from the 4th position of the string .\n",
    "%sql SELECT country, substr(country ,4,3 ) from sales_d limit 5;"
   ]
  },
  {
   "cell_type": "code",
   "execution_count": 61,
   "id": "429c0d15",
   "metadata": {},
   "outputs": [
    {
     "name": "stdout",
     "output_type": "stream",
     "text": [
      " * sqlite:///db_sales\n",
      "Done.\n"
     ]
    },
    {
     "data": {
      "text/html": [
       "<table>\n",
       "    <thead>\n",
       "        <tr>\n",
       "            <th>country</th>\n",
       "            <th>substr(country ,3 )</th>\n",
       "        </tr>\n",
       "    </thead>\n",
       "    <tbody>\n",
       "        <tr>\n",
       "            <td>Algeria</td>\n",
       "            <td>geria</td>\n",
       "        </tr>\n",
       "        <tr>\n",
       "            <td>Australia</td>\n",
       "            <td>stralia</td>\n",
       "        </tr>\n",
       "        <tr>\n",
       "            <td>Hungary</td>\n",
       "            <td>ngary</td>\n",
       "        </tr>\n",
       "        <tr>\n",
       "            <td>Sweden</td>\n",
       "            <td>eden</td>\n",
       "        </tr>\n",
       "        <tr>\n",
       "            <td>Australia</td>\n",
       "            <td>stralia</td>\n",
       "        </tr>\n",
       "    </tbody>\n",
       "</table>"
      ],
      "text/plain": [
       "[('Algeria', 'geria'),\n",
       " ('Australia', 'stralia'),\n",
       " ('Hungary', 'ngary'),\n",
       " ('Sweden', 'eden'),\n",
       " ('Australia', 'stralia')]"
      ]
     },
     "execution_count": 61,
     "metadata": {},
     "output_type": "execute_result"
    }
   ],
   "source": [
    "# substr(string,3) function extracts rest characters from a specific position\n",
    "%sql SELECT country, substr(country ,3 ) from sales_d limit 5;"
   ]
  },
  {
   "cell_type": "markdown",
   "id": "267b27ed",
   "metadata": {},
   "source": [
    "---"
   ]
  },
  {
   "cell_type": "markdown",
   "id": "b03a4770",
   "metadata": {},
   "source": [
    "# 11.CASE_statement\n",
    "\n",
    "* The CASE statement in SQL returns a value for the condition specified. It tests a list of conditions and returns one of the multiple possible results. \n",
    "* The CASE statement in SQL is a way of handling the IF/THEN logic. The CASE statement is always followed by a minimum of one pair of WHEN and THEN statements."
   ]
  },
  {
   "cell_type": "markdown",
   "id": "78cc006c",
   "metadata": {},
   "source": [
    "#**Example1 Syntax**\n",
    "\n",
    "\n",
    "SELECT DISTINCT(category), profit, <br>\n",
    ">CASE  \n",
    ">WHEN profit >= 50 THEN 'Profitable'   <br>\n",
    ">ELSE 'Less Profit'   <br>\n",
    ">END AS Profit_Result  <br>\n",
    "\n",
    "FROM sales_d limit 10;\n"
   ]
  },
  {
   "cell_type": "code",
   "execution_count": 62,
   "id": "9b347c4e",
   "metadata": {},
   "outputs": [
    {
     "name": "stdout",
     "output_type": "stream",
     "text": [
      " * sqlite:///db_sales\n",
      "Done.\n"
     ]
    },
    {
     "data": {
      "text/html": [
       "<table>\n",
       "    <thead>\n",
       "        <tr>\n",
       "            <th>category</th>\n",
       "            <th>profit</th>\n",
       "            <th>Profit_Result</th>\n",
       "        </tr>\n",
       "    </thead>\n",
       "    <tbody>\n",
       "        <tr>\n",
       "            <td>Office Supplies</td>\n",
       "            <td>106.14</td>\n",
       "            <td>Profitable</td>\n",
       "        </tr>\n",
       "        <tr>\n",
       "            <td>Office Supplies</td>\n",
       "            <td>36.036</td>\n",
       "            <td>Less Profit</td>\n",
       "        </tr>\n",
       "        <tr>\n",
       "            <td>Office Supplies</td>\n",
       "            <td>29.64</td>\n",
       "            <td>Less Profit</td>\n",
       "        </tr>\n",
       "        <tr>\n",
       "            <td>Office Supplies</td>\n",
       "            <td>-26.055</td>\n",
       "            <td>Less Profit</td>\n",
       "        </tr>\n",
       "        <tr>\n",
       "            <td>Furniture</td>\n",
       "            <td>37.77</td>\n",
       "            <td>Less Profit</td>\n",
       "        </tr>\n",
       "        <tr>\n",
       "            <td>Office Supplies</td>\n",
       "            <td>15.342</td>\n",
       "            <td>Less Profit</td>\n",
       "        </tr>\n",
       "        <tr>\n",
       "            <td>Technology</td>\n",
       "            <td>3.12</td>\n",
       "            <td>Less Profit</td>\n",
       "        </tr>\n",
       "        <tr>\n",
       "            <td>Office Supplies</td>\n",
       "            <td>110.412</td>\n",
       "            <td>Profitable</td>\n",
       "        </tr>\n",
       "        <tr>\n",
       "            <td>Technology</td>\n",
       "            <td>-319.464</td>\n",
       "            <td>Less Profit</td>\n",
       "        </tr>\n",
       "        <tr>\n",
       "            <td>Furniture</td>\n",
       "            <td>253.32</td>\n",
       "            <td>Profitable</td>\n",
       "        </tr>\n",
       "    </tbody>\n",
       "</table>"
      ],
      "text/plain": [
       "[('Office Supplies', 106.14, 'Profitable'),\n",
       " ('Office Supplies', 36.036, 'Less Profit'),\n",
       " ('Office Supplies', 29.64, 'Less Profit'),\n",
       " ('Office Supplies', -26.055, 'Less Profit'),\n",
       " ('Furniture', 37.77, 'Less Profit'),\n",
       " ('Office Supplies', 15.342, 'Less Profit'),\n",
       " ('Technology', 3.12, 'Less Profit'),\n",
       " ('Office Supplies', 110.412, 'Profitable'),\n",
       " ('Technology', -319.464, 'Less Profit'),\n",
       " ('Furniture', 253.32, 'Profitable')]"
      ]
     },
     "execution_count": 62,
     "metadata": {},
     "output_type": "execute_result"
    }
   ],
   "source": [
    "#execution\n",
    "%sql SELECT DISTINCT(category), profit, CASE  WHEN profit >= 50 THEN 'Profitable'  ELSE 'Less Profit'  END AS Profit_Result FROM sales_d limit 10;"
   ]
  },
  {
   "cell_type": "markdown",
   "id": "2b46a6ce",
   "metadata": {},
   "source": [
    "---"
   ]
  },
  {
   "cell_type": "markdown",
   "id": "651fbc6e",
   "metadata": {},
   "source": [
    "#**Example2 Syntax**\n",
    "\n",
    "SELECT DISTINCT(category), profit, <br>\n",
    ">CASE  \n",
    ">WHEN profit >= 80 THEN 'More Profit'  <br>\n",
    ">WHEN profit >= 50 THEN 'Profitable'   <br>\n",
    ">WHEN profit >= 30 THEN 'Average profit' <br>\n",
    ">ELSE 'Less Profit'                    <br>\n",
    ">END AS Profit_Result                  <br>\n",
    "\n",
    "FROM sales_d limit 10;"
   ]
  },
  {
   "cell_type": "code",
   "execution_count": 63,
   "id": "7ef48965",
   "metadata": {},
   "outputs": [
    {
     "name": "stdout",
     "output_type": "stream",
     "text": [
      " * sqlite:///db_sales\n",
      "Done.\n"
     ]
    },
    {
     "data": {
      "text/html": [
       "<table>\n",
       "    <thead>\n",
       "        <tr>\n",
       "            <th>sub_category</th>\n",
       "            <th>profit</th>\n",
       "            <th>profit_Result</th>\n",
       "        </tr>\n",
       "    </thead>\n",
       "    <tbody>\n",
       "        <tr>\n",
       "            <td>Storage</td>\n",
       "            <td>106.14</td>\n",
       "            <td>More Profit</td>\n",
       "        </tr>\n",
       "        <tr>\n",
       "            <td>Supplies</td>\n",
       "            <td>36.036</td>\n",
       "            <td>Average profit</td>\n",
       "        </tr>\n",
       "        <tr>\n",
       "            <td>Storage</td>\n",
       "            <td>29.64</td>\n",
       "            <td>Less Profit</td>\n",
       "        </tr>\n",
       "        <tr>\n",
       "            <td>Paper</td>\n",
       "            <td>-26.055</td>\n",
       "            <td>Less Profit</td>\n",
       "        </tr>\n",
       "        <tr>\n",
       "            <td>Furnishings</td>\n",
       "            <td>37.77</td>\n",
       "            <td>Average profit</td>\n",
       "        </tr>\n",
       "        <tr>\n",
       "            <td>Paper</td>\n",
       "            <td>15.342</td>\n",
       "            <td>Less Profit</td>\n",
       "        </tr>\n",
       "        <tr>\n",
       "            <td>Machines</td>\n",
       "            <td>3.12</td>\n",
       "            <td>Less Profit</td>\n",
       "        </tr>\n",
       "        <tr>\n",
       "            <td>Appliances</td>\n",
       "            <td>110.412</td>\n",
       "            <td>More Profit</td>\n",
       "        </tr>\n",
       "        <tr>\n",
       "            <td>Copiers</td>\n",
       "            <td>-319.464</td>\n",
       "            <td>Less Profit</td>\n",
       "        </tr>\n",
       "        <tr>\n",
       "            <td>Chairs</td>\n",
       "            <td>253.32</td>\n",
       "            <td>More Profit</td>\n",
       "        </tr>\n",
       "    </tbody>\n",
       "</table>"
      ],
      "text/plain": [
       "[('Storage', 106.14, 'More Profit'),\n",
       " ('Supplies', 36.036, 'Average profit'),\n",
       " ('Storage', 29.64, 'Less Profit'),\n",
       " ('Paper', -26.055, 'Less Profit'),\n",
       " ('Furnishings', 37.77, 'Average profit'),\n",
       " ('Paper', 15.342, 'Less Profit'),\n",
       " ('Machines', 3.12, 'Less Profit'),\n",
       " ('Appliances', 110.412, 'More Profit'),\n",
       " ('Copiers', -319.464, 'Less Profit'),\n",
       " ('Chairs', 253.32, 'More Profit')]"
      ]
     },
     "execution_count": 63,
     "metadata": {},
     "output_type": "execute_result"
    }
   ],
   "source": [
    "#execution\n",
    "%sql SELECT DISTINCT(sub_category), profit, CASE WHEN profit >= 80 THEN 'More Profit' WHEN profit >= 50 THEN 'Profitable' WHEN profit >= 30 THEN 'Average profit' ELSE 'Less Profit' END AS profit_Result FROM sales_d limit 10;"
   ]
  },
  {
   "cell_type": "markdown",
   "id": "bed421f6",
   "metadata": {},
   "source": [
    "---"
   ]
  },
  {
   "cell_type": "markdown",
   "id": "1b379649",
   "metadata": {},
   "source": [
    "#**Example3 Syntax using *group by* and *order by***\n",
    "\n",
    "SELECT year, profit, <br>\n",
    "\n",
    ">CASE <br>\n",
    ">WHEN profit >= 200 THEN 'More Profit' <br>\n",
    ">WHEN profit >= 100 THEN 'Profitable' <br>\n",
    ">WHEN profit >= 30 THEN 'Average profit' <br>\n",
    ">ELSE 'Less Profit' <br>\n",
    ">END AS profit_Result <br>\n",
    "\n",
    "FROM sales_d <br>\n",
    "GROUP BY year <br>\n",
    "ORDER BY profit DESC;"
   ]
  },
  {
   "cell_type": "code",
   "execution_count": 64,
   "id": "0592679b",
   "metadata": {},
   "outputs": [
    {
     "name": "stdout",
     "output_type": "stream",
     "text": [
      " * sqlite:///db_sales\n",
      "Done.\n"
     ]
    },
    {
     "data": {
      "text/html": [
       "<table>\n",
       "    <thead>\n",
       "        <tr>\n",
       "            <th>year</th>\n",
       "            <th>profit</th>\n",
       "            <th>profit_Result</th>\n",
       "        </tr>\n",
       "    </thead>\n",
       "    <tbody>\n",
       "        <tr>\n",
       "            <td>2012</td>\n",
       "            <td>339.8778</td>\n",
       "            <td>More Profit</td>\n",
       "        </tr>\n",
       "        <tr>\n",
       "            <td>2011</td>\n",
       "            <td>106.14</td>\n",
       "            <td>Profitable</td>\n",
       "        </tr>\n",
       "        <tr>\n",
       "            <td>2013</td>\n",
       "            <td>36.624</td>\n",
       "            <td>Average profit</td>\n",
       "        </tr>\n",
       "        <tr>\n",
       "            <td>2014</td>\n",
       "            <td>-111.6225</td>\n",
       "            <td>Less Profit</td>\n",
       "        </tr>\n",
       "    </tbody>\n",
       "</table>"
      ],
      "text/plain": [
       "[(2012, 339.8778, 'More Profit'),\n",
       " (2011, 106.14, 'Profitable'),\n",
       " (2013, 36.624, 'Average profit'),\n",
       " (2014, -111.6225, 'Less Profit')]"
      ]
     },
     "execution_count": 64,
     "metadata": {},
     "output_type": "execute_result"
    }
   ],
   "source": [
    "#execution\n",
    "%sql SELECT year, profit, CASE WHEN profit >= 200 THEN 'More Profit' WHEN profit >= 100 THEN 'Profitable' WHEN profit >= 30 THEN 'Average profit' ELSE 'Less Profit' END AS profit_Result FROM sales_d GROUP BY year ORDER BY profit DESC;"
   ]
  },
  {
   "cell_type": "markdown",
   "id": "d67c308a",
   "metadata": {},
   "source": [
    "---"
   ]
  },
  {
   "cell_type": "markdown",
   "id": "2665ffb3",
   "metadata": {},
   "source": [
    "#**Example4 Syntax to count *Null values***\n",
    "\n",
    "SELECT \n",
    "\n",
    ">SUM(CASE when sales is null then 1 else 0 end) as 'NUll_in_Sales', <br>\n",
    ">SUM(CASE when profit is null then 1 else 0 end) as 'NUll_in_profit' \n",
    "\n",
    "from sales_d;"
   ]
  },
  {
   "cell_type": "code",
   "execution_count": 65,
   "id": "562ad361",
   "metadata": {},
   "outputs": [
    {
     "name": "stdout",
     "output_type": "stream",
     "text": [
      " * sqlite:///db_sales\n",
      "Done.\n"
     ]
    },
    {
     "data": {
      "text/html": [
       "<table>\n",
       "    <thead>\n",
       "        <tr>\n",
       "            <th>NUll_in_Sales</th>\n",
       "            <th>NUll_in_profit</th>\n",
       "        </tr>\n",
       "    </thead>\n",
       "    <tbody>\n",
       "        <tr>\n",
       "            <td>6</td>\n",
       "            <td>0</td>\n",
       "        </tr>\n",
       "    </tbody>\n",
       "</table>"
      ],
      "text/plain": [
       "[(6, 0)]"
      ]
     },
     "execution_count": 65,
     "metadata": {},
     "output_type": "execute_result"
    }
   ],
   "source": [
    "#execution\n",
    "%sql SELECT SUM(CASE when sales is null then 1 else 0 end) as 'NUll_in_Sales', SUM(CASE when profit is null then 1 else 0 end) as 'NUll_in_profit' from sales_d;"
   ]
  },
  {
   "cell_type": "markdown",
   "id": "f50dbbf8",
   "metadata": {},
   "source": [
    "---"
   ]
  },
  {
   "cell_type": "markdown",
   "id": "0ea1ef5f",
   "metadata": {},
   "source": [
    "# 12.Subquery\n",
    "\n",
    "A Subquery or Inner query or Nested query is a query within another SQL query and embedded within the WHERE clause.\n",
    "\n",
    "A subquery is used to return data that will be used in the main query as a condition to further restrict the data to be retrieved."
   ]
  },
  {
   "cell_type": "code",
   "execution_count": 66,
   "id": "5b1baafe",
   "metadata": {},
   "outputs": [
    {
     "name": "stdout",
     "output_type": "stream",
     "text": [
      " * sqlite:///db_sales\n",
      "Done.\n"
     ]
    },
    {
     "data": {
      "text/html": [
       "<table>\n",
       "    <thead>\n",
       "        <tr>\n",
       "            <th>sub_category</th>\n",
       "        </tr>\n",
       "    </thead>\n",
       "    <tbody>\n",
       "        <tr>\n",
       "            <td>Machines</td>\n",
       "        </tr>\n",
       "        <tr>\n",
       "            <td>Appliances</td>\n",
       "        </tr>\n",
       "        <tr>\n",
       "            <td>Copiers</td>\n",
       "        </tr>\n",
       "        <tr>\n",
       "            <td>Tables</td>\n",
       "        </tr>\n",
       "        <tr>\n",
       "            <td>Bookcases</td>\n",
       "        </tr>\n",
       "        <tr>\n",
       "            <td>Phones</td>\n",
       "        </tr>\n",
       "        <tr>\n",
       "            <td>Binders</td>\n",
       "        </tr>\n",
       "    </tbody>\n",
       "</table>"
      ],
      "text/plain": [
       "[('Machines',),\n",
       " ('Appliances',),\n",
       " ('Copiers',),\n",
       " ('Tables',),\n",
       " ('Bookcases',),\n",
       " ('Phones',),\n",
       " ('Binders',)]"
      ]
     },
     "execution_count": 66,
     "metadata": {},
     "output_type": "execute_result"
    }
   ],
   "source": [
    "#Query to select the sub categories whose profit is greater than 2000 using sub query\n",
    "%sql SELECT DISTINCT(sub_category) FROM sales_d WHERE sub_category IN(SELECT sub_category FROM sales_d WHERE profit>2000);"
   ]
  },
  {
   "cell_type": "code",
   "execution_count": 67,
   "id": "ca1739a6",
   "metadata": {},
   "outputs": [
    {
     "name": "stdout",
     "output_type": "stream",
     "text": [
      " * sqlite:///db_sales\n",
      "Done.\n"
     ]
    },
    {
     "data": {
      "text/html": [
       "<table>\n",
       "    <thead>\n",
       "        <tr>\n",
       "            <th>country</th>\n",
       "            <th>state</th>\n",
       "            <th>profit</th>\n",
       "        </tr>\n",
       "    </thead>\n",
       "    <tbody>\n",
       "        <tr>\n",
       "            <td>United States</td>\n",
       "            <td>Minnesota</td>\n",
       "            <td>4630.4755</td>\n",
       "        </tr>\n",
       "        <tr>\n",
       "            <td>United States</td>\n",
       "            <td>Georgia</td>\n",
       "            <td>3177.475</td>\n",
       "        </tr>\n",
       "        <tr>\n",
       "            <td>United States</td>\n",
       "            <td>Indiana</td>\n",
       "            <td>8399.976</td>\n",
       "        </tr>\n",
       "        <tr>\n",
       "            <td>United States</td>\n",
       "            <td>Michigan</td>\n",
       "            <td>4946.37</td>\n",
       "        </tr>\n",
       "        <tr>\n",
       "            <td>United States</td>\n",
       "            <td>Washington</td>\n",
       "            <td>6719.9808</td>\n",
       "        </tr>\n",
       "        <tr>\n",
       "            <td>Italy</td>\n",
       "            <td>Tuscany</td>\n",
       "            <td>3979.08</td>\n",
       "        </tr>\n",
       "        <tr>\n",
       "            <td>United States</td>\n",
       "            <td>New York</td>\n",
       "            <td>3919.9888</td>\n",
       "        </tr>\n",
       "        <tr>\n",
       "            <td>United States</td>\n",
       "            <td>Delaware</td>\n",
       "            <td>5039.9856</td>\n",
       "        </tr>\n",
       "    </tbody>\n",
       "</table>"
      ],
      "text/plain": [
       "[('United States', 'Minnesota', 4630.4755),\n",
       " ('United States', 'Georgia', 3177.475),\n",
       " ('United States', 'Indiana', 8399.976),\n",
       " ('United States', 'Michigan', 4946.37),\n",
       " ('United States', 'Washington', 6719.9808),\n",
       " ('Italy', 'Tuscany', 3979.08),\n",
       " ('United States', 'New York', 3919.9888),\n",
       " ('United States', 'Delaware', 5039.9856)]"
      ]
     },
     "execution_count": 67,
     "metadata": {},
     "output_type": "execute_result"
    }
   ],
   "source": [
    "#QUERY to select state with profit greater that sum profit of state Qubec\n",
    "%sql SELECT country , state, profit FROM sales_d WHERE profit > (SELECT sum(profit) from sales_d where state = 'Quebec');"
   ]
  },
  {
   "cell_type": "markdown",
   "id": "1f5378b4",
   "metadata": {},
   "source": [
    "## Conclusion: \n",
    "> We have seen , learnt and executed a range of SQL functions, commands, statements which help us in queriying and extracting data so that we can have insights on the extracted output. Thank you for reading all the way to the end. "
   ]
  }
 ],
 "metadata": {
  "kernelspec": {
   "display_name": "Python 3 (ipykernel)",
   "language": "python",
   "name": "python3"
  },
  "language_info": {
   "codemirror_mode": {
    "name": "ipython",
    "version": 3
   },
   "file_extension": ".py",
   "mimetype": "text/x-python",
   "name": "python",
   "nbconvert_exporter": "python",
   "pygments_lexer": "ipython3",
   "version": "3.9.12"
  }
 },
 "nbformat": 4,
 "nbformat_minor": 5
}
