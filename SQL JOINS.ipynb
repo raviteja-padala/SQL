{
 "cells": [
  {
   "cell_type": "markdown",
   "id": "8320c5bb",
   "metadata": {},
   "source": [
    "#### Raviteja Padala\n",
    "<img align=\"left\" img src= in.png height = 20 width=\"20\"/>   https://www.linkedin.com/in/raviteja-padala/ <br>\n",
    "\n",
    "<img align=\"left\" img src= github.png height = 20 width=\"20\"/> https://github.com/raviteja-padala"
   ]
  },
  {
   "cell_type": "markdown",
   "id": "73f1f9dc",
   "metadata": {},
   "source": [
    "# Objective: To learn and practice different SQL JOINS"
   ]
  },
  {
   "cell_type": "markdown",
   "id": "0e3bda68",
   "metadata": {},
   "source": [
    "\n",
    "\n",
    "## Contents\n",
    "\n",
    "1. [SQL JOINS](#1.JOINS) <br> \n",
    "\n",
    "2. [CROSS JOIN](#2.CROSS_JOIN) <br>\n",
    "    \n",
    "3. [INNER_JOIN](#3.INNER_JOIN) <br>\n",
    "    \n",
    "4. [Multiple_JOINS](#4.Multiple_JOINS)<br>\n",
    "    \n",
    "5. [SELF_JOIN](#5.SELF_JOIN)<br>\n",
    "\n"
   ]
  },
  {
   "cell_type": "code",
   "execution_count": 2,
   "id": "42ad0e21",
   "metadata": {},
   "outputs": [],
   "source": [
    "#loading SQLITE\n",
    "%load_ext sql"
   ]
  },
  {
   "cell_type": "code",
   "execution_count": 3,
   "id": "dcb38e7a",
   "metadata": {},
   "outputs": [],
   "source": [
    "#LOADING REQUIRED DATABASE \n",
    "\n",
    "%sql sqlite:///movies.db"
   ]
  },
  {
   "cell_type": "code",
   "execution_count": 3,
   "id": "5086e2de",
   "metadata": {},
   "outputs": [
    {
     "name": "stdout",
     "output_type": "stream",
     "text": [
      " * sqlite:///movies.db\n",
      "Done.\n"
     ]
    },
    {
     "data": {
      "text/html": [
       "<table>\n",
       "    <thead>\n",
       "        <tr>\n",
       "            <th>name</th>\n",
       "        </tr>\n",
       "    </thead>\n",
       "    <tbody>\n",
       "        <tr>\n",
       "            <td>actor</td>\n",
       "        </tr>\n",
       "        <tr>\n",
       "            <td>sqlite_sequence</td>\n",
       "        </tr>\n",
       "        <tr>\n",
       "            <td>country</td>\n",
       "        </tr>\n",
       "        <tr>\n",
       "            <td>city</td>\n",
       "        </tr>\n",
       "        <tr>\n",
       "            <td>address</td>\n",
       "        </tr>\n",
       "        <tr>\n",
       "            <td>language</td>\n",
       "        </tr>\n",
       "        <tr>\n",
       "            <td>category</td>\n",
       "        </tr>\n",
       "        <tr>\n",
       "            <td>customer</td>\n",
       "        </tr>\n",
       "        <tr>\n",
       "            <td>film</td>\n",
       "        </tr>\n",
       "        <tr>\n",
       "            <td>film_actor</td>\n",
       "        </tr>\n",
       "        <tr>\n",
       "            <td>film_category</td>\n",
       "        </tr>\n",
       "        <tr>\n",
       "            <td>film_text</td>\n",
       "        </tr>\n",
       "        <tr>\n",
       "            <td>inventory</td>\n",
       "        </tr>\n",
       "        <tr>\n",
       "            <td>staff</td>\n",
       "        </tr>\n",
       "        <tr>\n",
       "            <td>store</td>\n",
       "        </tr>\n",
       "        <tr>\n",
       "            <td>payment</td>\n",
       "        </tr>\n",
       "        <tr>\n",
       "            <td>rental</td>\n",
       "        </tr>\n",
       "    </tbody>\n",
       "</table>"
      ],
      "text/plain": [
       "[('actor',),\n",
       " ('sqlite_sequence',),\n",
       " ('country',),\n",
       " ('city',),\n",
       " ('address',),\n",
       " ('language',),\n",
       " ('category',),\n",
       " ('customer',),\n",
       " ('film',),\n",
       " ('film_actor',),\n",
       " ('film_category',),\n",
       " ('film_text',),\n",
       " ('inventory',),\n",
       " ('staff',),\n",
       " ('store',),\n",
       " ('payment',),\n",
       " ('rental',)]"
      ]
     },
     "execution_count": 3,
     "metadata": {},
     "output_type": "execute_result"
    }
   ],
   "source": [
    "# view tables in the database\n",
    "      \n",
    "%sql SELECT name FROM sqlite_master WHERE type='table'"
   ]
  },
  {
   "cell_type": "markdown",
   "id": "e010bf9d",
   "metadata": {},
   "source": [
    "# 1.JOINS\n",
    "\n",
    "* A SQL Join statement combines data or rows from two or more tables based on a common field between them.\n",
    "\n",
    "* The join clause allows us to retrieve data from two or more related tables into a meaningful result set. We can join the table using a SELECT statement and a join condition.\n",
    "\n",
    "* Large databases are often prone to data redundancy, i.e., the creation of repetitive data anomalies by insertion, deletion, and updation. But by using SQL Joins, we promote database normalization, which reduces data redundancy and eliminates redundant data."
   ]
  },
  {
   "cell_type": "markdown",
   "id": "01c9ef18",
   "metadata": {},
   "source": [
    "# 2.CROSS_JOIN\n",
    "* The Cartesian Join or Cross Join, is the cartesian product of all the rows of the first table with all the rows of the second table. Let’s say we have m rows in the first table and n rows in the second table. Then the resulting cartesian join table will have m*n rows. "
   ]
  },
  {
   "cell_type": "code",
   "execution_count": 36,
   "id": "363d44ac",
   "metadata": {},
   "outputs": [
    {
     "name": "stdout",
     "output_type": "stream",
     "text": [
      " * sqlite:///movies.db\n",
      "Done.\n"
     ]
    },
    {
     "data": {
      "text/html": [
       "<table>\n",
       "    <thead>\n",
       "        <tr>\n",
       "            <th>staff_id</th>\n",
       "            <th>first_name</th>\n",
       "            <th>last_name</th>\n",
       "            <th>address_id</th>\n",
       "            <th>picture</th>\n",
       "            <th>email</th>\n",
       "            <th>store_id</th>\n",
       "            <th>active</th>\n",
       "            <th>username</th>\n",
       "            <th>password</th>\n",
       "            <th>last_update</th>\n",
       "        </tr>\n",
       "    </thead>\n",
       "    <tbody>\n",
       "        <tr>\n",
       "            <td>1</td>\n",
       "            <td>Mike</td>\n",
       "            <td>Hillyer</td>\n",
       "            <td>3</td>\n",
       "            <td>None</td>\n",
       "            <td>Mike.Hillyer@sakilastaff.com</td>\n",
       "            <td>1</td>\n",
       "            <td>1</td>\n",
       "            <td>Mike</td>\n",
       "            <td>8cb2237d0679ca88db6464eac60da96345513964</td>\n",
       "            <td>2019-04-11 18:11:48</td>\n",
       "        </tr>\n",
       "        <tr>\n",
       "            <td>2</td>\n",
       "            <td>Jon</td>\n",
       "            <td>Stephens</td>\n",
       "            <td>4</td>\n",
       "            <td>None</td>\n",
       "            <td>Jon.Stephens@sakilastaff.com</td>\n",
       "            <td>2</td>\n",
       "            <td>1</td>\n",
       "            <td>Jon</td>\n",
       "            <td>8cb2237d0679ca88db6464eac60da96345513964</td>\n",
       "            <td>2019-04-11 18:11:48</td>\n",
       "        </tr>\n",
       "    </tbody>\n",
       "</table>"
      ],
      "text/plain": [
       "[(1, 'Mike', 'Hillyer', 3, None, 'Mike.Hillyer@sakilastaff.com', 1, 1, 'Mike', '8cb2237d0679ca88db6464eac60da96345513964', '2019-04-11 18:11:48'),\n",
       " (2, 'Jon', 'Stephens', 4, None, 'Jon.Stephens@sakilastaff.com', 2, 1, 'Jon', '8cb2237d0679ca88db6464eac60da96345513964', '2019-04-11 18:11:48')]"
      ]
     },
     "execution_count": 36,
     "metadata": {},
     "output_type": "execute_result"
    }
   ],
   "source": [
    "%sql select * from STAFF  ;"
   ]
  },
  {
   "cell_type": "code",
   "execution_count": 35,
   "id": "b30af06f",
   "metadata": {},
   "outputs": [
    {
     "name": "stdout",
     "output_type": "stream",
     "text": [
      " * sqlite:///movies.db\n",
      "Done.\n"
     ]
    },
    {
     "data": {
      "text/html": [
       "<table>\n",
       "    <thead>\n",
       "        <tr>\n",
       "            <th>store_id</th>\n",
       "            <th>manager_staff_id</th>\n",
       "            <th>address_id</th>\n",
       "            <th>last_update</th>\n",
       "        </tr>\n",
       "    </thead>\n",
       "    <tbody>\n",
       "        <tr>\n",
       "            <td>1</td>\n",
       "            <td>1</td>\n",
       "            <td>1</td>\n",
       "            <td>2019-04-11 18:11:48</td>\n",
       "        </tr>\n",
       "        <tr>\n",
       "            <td>2</td>\n",
       "            <td>2</td>\n",
       "            <td>2</td>\n",
       "            <td>2019-04-11 18:11:48</td>\n",
       "        </tr>\n",
       "    </tbody>\n",
       "</table>"
      ],
      "text/plain": [
       "[(1, 1, 1, '2019-04-11 18:11:48'), (2, 2, 2, '2019-04-11 18:11:48')]"
      ]
     },
     "execution_count": 35,
     "metadata": {},
     "output_type": "execute_result"
    }
   ],
   "source": [
    "%sql select * from store  ;"
   ]
  },
  {
   "cell_type": "code",
   "execution_count": 39,
   "id": "903382e4",
   "metadata": {},
   "outputs": [
    {
     "name": "stdout",
     "output_type": "stream",
     "text": [
      " * sqlite:///movies.db\n",
      "Done.\n"
     ]
    },
    {
     "data": {
      "text/html": [
       "<table>\n",
       "    <thead>\n",
       "        <tr>\n",
       "            <th>store_id</th>\n",
       "            <th>manager_staff_id</th>\n",
       "            <th>address_id</th>\n",
       "            <th>last_update</th>\n",
       "            <th>staff_id</th>\n",
       "            <th>first_name</th>\n",
       "            <th>last_name</th>\n",
       "            <th>address_id_1</th>\n",
       "            <th>picture</th>\n",
       "            <th>email</th>\n",
       "            <th>store_id_1</th>\n",
       "            <th>active</th>\n",
       "            <th>username</th>\n",
       "            <th>password</th>\n",
       "            <th>last_update_1</th>\n",
       "        </tr>\n",
       "    </thead>\n",
       "    <tbody>\n",
       "        <tr>\n",
       "            <td>1</td>\n",
       "            <td>1</td>\n",
       "            <td>1</td>\n",
       "            <td>2019-04-11 18:11:48</td>\n",
       "            <td>1</td>\n",
       "            <td>Mike</td>\n",
       "            <td>Hillyer</td>\n",
       "            <td>3</td>\n",
       "            <td>None</td>\n",
       "            <td>Mike.Hillyer@sakilastaff.com</td>\n",
       "            <td>1</td>\n",
       "            <td>1</td>\n",
       "            <td>Mike</td>\n",
       "            <td>8cb2237d0679ca88db6464eac60da96345513964</td>\n",
       "            <td>2019-04-11 18:11:48</td>\n",
       "        </tr>\n",
       "        <tr>\n",
       "            <td>1</td>\n",
       "            <td>1</td>\n",
       "            <td>1</td>\n",
       "            <td>2019-04-11 18:11:48</td>\n",
       "            <td>2</td>\n",
       "            <td>Jon</td>\n",
       "            <td>Stephens</td>\n",
       "            <td>4</td>\n",
       "            <td>None</td>\n",
       "            <td>Jon.Stephens@sakilastaff.com</td>\n",
       "            <td>2</td>\n",
       "            <td>1</td>\n",
       "            <td>Jon</td>\n",
       "            <td>8cb2237d0679ca88db6464eac60da96345513964</td>\n",
       "            <td>2019-04-11 18:11:48</td>\n",
       "        </tr>\n",
       "        <tr>\n",
       "            <td>2</td>\n",
       "            <td>2</td>\n",
       "            <td>2</td>\n",
       "            <td>2019-04-11 18:11:48</td>\n",
       "            <td>1</td>\n",
       "            <td>Mike</td>\n",
       "            <td>Hillyer</td>\n",
       "            <td>3</td>\n",
       "            <td>None</td>\n",
       "            <td>Mike.Hillyer@sakilastaff.com</td>\n",
       "            <td>1</td>\n",
       "            <td>1</td>\n",
       "            <td>Mike</td>\n",
       "            <td>8cb2237d0679ca88db6464eac60da96345513964</td>\n",
       "            <td>2019-04-11 18:11:48</td>\n",
       "        </tr>\n",
       "        <tr>\n",
       "            <td>2</td>\n",
       "            <td>2</td>\n",
       "            <td>2</td>\n",
       "            <td>2019-04-11 18:11:48</td>\n",
       "            <td>2</td>\n",
       "            <td>Jon</td>\n",
       "            <td>Stephens</td>\n",
       "            <td>4</td>\n",
       "            <td>None</td>\n",
       "            <td>Jon.Stephens@sakilastaff.com</td>\n",
       "            <td>2</td>\n",
       "            <td>1</td>\n",
       "            <td>Jon</td>\n",
       "            <td>8cb2237d0679ca88db6464eac60da96345513964</td>\n",
       "            <td>2019-04-11 18:11:48</td>\n",
       "        </tr>\n",
       "    </tbody>\n",
       "</table>"
      ],
      "text/plain": [
       "[(1, 1, 1, '2019-04-11 18:11:48', 1, 'Mike', 'Hillyer', 3, None, 'Mike.Hillyer@sakilastaff.com', 1, 1, 'Mike', '8cb2237d0679ca88db6464eac60da96345513964', '2019-04-11 18:11:48'),\n",
       " (1, 1, 1, '2019-04-11 18:11:48', 2, 'Jon', 'Stephens', 4, None, 'Jon.Stephens@sakilastaff.com', 2, 1, 'Jon', '8cb2237d0679ca88db6464eac60da96345513964', '2019-04-11 18:11:48'),\n",
       " (2, 2, 2, '2019-04-11 18:11:48', 1, 'Mike', 'Hillyer', 3, None, 'Mike.Hillyer@sakilastaff.com', 1, 1, 'Mike', '8cb2237d0679ca88db6464eac60da96345513964', '2019-04-11 18:11:48'),\n",
       " (2, 2, 2, '2019-04-11 18:11:48', 2, 'Jon', 'Stephens', 4, None, 'Jon.Stephens@sakilastaff.com', 2, 1, 'Jon', '8cb2237d0679ca88db6464eac60da96345513964', '2019-04-11 18:11:48')]"
      ]
     },
     "execution_count": 39,
     "metadata": {},
     "output_type": "execute_result"
    }
   ],
   "source": [
    "#cross join of STore and STaff table\n",
    "\n",
    "%sql SELECT * FROM store CROSS JOIN staff ;"
   ]
  },
  {
   "cell_type": "markdown",
   "id": "1485ae5d",
   "metadata": {},
   "source": [
    "---"
   ]
  },
  {
   "cell_type": "markdown",
   "id": "ca4c422e",
   "metadata": {},
   "source": [
    "# 3.INNER_JOIN \n",
    "SQL Inner Join or Equi Join is the simplest join where all rows from the intended tables are cached together if they meet the stated condition. Two or more tables are required for this join. Inner Join can be used with various SQL conditional statements like WHERE, GROUP BY, ORDER BY, etc."
   ]
  },
  {
   "cell_type": "code",
   "execution_count": 4,
   "id": "a656e11f",
   "metadata": {},
   "outputs": [
    {
     "name": "stdout",
     "output_type": "stream",
     "text": [
      " * sqlite:///movies.db\n",
      "Done.\n"
     ]
    },
    {
     "data": {
      "text/html": [
       "<table>\n",
       "    <thead>\n",
       "        <tr>\n",
       "            <th>rental_id</th>\n",
       "            <th>rental_date</th>\n",
       "            <th>inventory_id</th>\n",
       "            <th>customer_id</th>\n",
       "            <th>return_date</th>\n",
       "            <th>staff_id</th>\n",
       "            <th>last_update</th>\n",
       "        </tr>\n",
       "    </thead>\n",
       "    <tbody>\n",
       "        <tr>\n",
       "            <td>1</td>\n",
       "            <td>2005-05-24 22:53:30.000</td>\n",
       "            <td>367</td>\n",
       "            <td>130</td>\n",
       "            <td>2005-05-26 22:04:30.000</td>\n",
       "            <td>1</td>\n",
       "            <td>2019-04-11 18:11:49</td>\n",
       "        </tr>\n",
       "        <tr>\n",
       "            <td>2</td>\n",
       "            <td>2005-05-24 22:54:33.000</td>\n",
       "            <td>1525</td>\n",
       "            <td>459</td>\n",
       "            <td>2005-05-28 19:40:33.000</td>\n",
       "            <td>1</td>\n",
       "            <td>2019-04-11 18:11:49</td>\n",
       "        </tr>\n",
       "        <tr>\n",
       "            <td>3</td>\n",
       "            <td>2005-05-24 23:03:39.000</td>\n",
       "            <td>1711</td>\n",
       "            <td>408</td>\n",
       "            <td>2005-06-01 22:12:39.000</td>\n",
       "            <td>1</td>\n",
       "            <td>2019-04-11 18:11:49</td>\n",
       "        </tr>\n",
       "        <tr>\n",
       "            <td>4</td>\n",
       "            <td>2005-05-24 23:04:41.000</td>\n",
       "            <td>2452</td>\n",
       "            <td>333</td>\n",
       "            <td>2005-06-03 01:43:41.000</td>\n",
       "            <td>2</td>\n",
       "            <td>2019-04-11 18:11:49</td>\n",
       "        </tr>\n",
       "        <tr>\n",
       "            <td>5</td>\n",
       "            <td>2005-05-24 23:05:21.000</td>\n",
       "            <td>2079</td>\n",
       "            <td>222</td>\n",
       "            <td>2005-06-02 04:33:21.000</td>\n",
       "            <td>1</td>\n",
       "            <td>2019-04-11 18:11:49</td>\n",
       "        </tr>\n",
       "    </tbody>\n",
       "</table>"
      ],
      "text/plain": [
       "[(1, '2005-05-24 22:53:30.000', 367, 130, '2005-05-26 22:04:30.000', 1, '2019-04-11 18:11:49'),\n",
       " (2, '2005-05-24 22:54:33.000', 1525, 459, '2005-05-28 19:40:33.000', 1, '2019-04-11 18:11:49'),\n",
       " (3, '2005-05-24 23:03:39.000', 1711, 408, '2005-06-01 22:12:39.000', 1, '2019-04-11 18:11:49'),\n",
       " (4, '2005-05-24 23:04:41.000', 2452, 333, '2005-06-03 01:43:41.000', 2, '2019-04-11 18:11:49'),\n",
       " (5, '2005-05-24 23:05:21.000', 2079, 222, '2005-06-02 04:33:21.000', 1, '2019-04-11 18:11:49')]"
      ]
     },
     "execution_count": 4,
     "metadata": {},
     "output_type": "execute_result"
    }
   ],
   "source": [
    "#rental table\n",
    "%sql select * from rental limit 5;"
   ]
  },
  {
   "cell_type": "code",
   "execution_count": 5,
   "id": "556b29f8",
   "metadata": {},
   "outputs": [
    {
     "name": "stdout",
     "output_type": "stream",
     "text": [
      " * sqlite:///movies.db\n",
      "Done.\n"
     ]
    },
    {
     "data": {
      "text/html": [
       "<table>\n",
       "    <thead>\n",
       "        <tr>\n",
       "            <th>customer_id</th>\n",
       "            <th>store_id</th>\n",
       "            <th>first_name</th>\n",
       "            <th>last_name</th>\n",
       "            <th>email</th>\n",
       "            <th>address_id</th>\n",
       "            <th>active</th>\n",
       "            <th>create_date</th>\n",
       "            <th>last_update</th>\n",
       "        </tr>\n",
       "    </thead>\n",
       "    <tbody>\n",
       "        <tr>\n",
       "            <td>1</td>\n",
       "            <td>1</td>\n",
       "            <td>MARY</td>\n",
       "            <td>SMITH</td>\n",
       "            <td>MARY.SMITH@sakilacustomer.org</td>\n",
       "            <td>5</td>\n",
       "            <td>1</td>\n",
       "            <td>2006-02-14 22:04:36.000</td>\n",
       "            <td>2019-04-11 18:11:49</td>\n",
       "        </tr>\n",
       "        <tr>\n",
       "            <td>2</td>\n",
       "            <td>1</td>\n",
       "            <td>PATRICIA</td>\n",
       "            <td>JOHNSON</td>\n",
       "            <td>PATRICIA.JOHNSON@sakilacustomer.org</td>\n",
       "            <td>6</td>\n",
       "            <td>1</td>\n",
       "            <td>2006-02-14 22:04:36.000</td>\n",
       "            <td>2019-04-11 18:11:49</td>\n",
       "        </tr>\n",
       "        <tr>\n",
       "            <td>3</td>\n",
       "            <td>1</td>\n",
       "            <td>LINDA</td>\n",
       "            <td>WILLIAMS</td>\n",
       "            <td>LINDA.WILLIAMS@sakilacustomer.org</td>\n",
       "            <td>7</td>\n",
       "            <td>1</td>\n",
       "            <td>2006-02-14 22:04:36.000</td>\n",
       "            <td>2019-04-11 18:11:49</td>\n",
       "        </tr>\n",
       "        <tr>\n",
       "            <td>4</td>\n",
       "            <td>2</td>\n",
       "            <td>BARBARA</td>\n",
       "            <td>JONES</td>\n",
       "            <td>BARBARA.JONES@sakilacustomer.org</td>\n",
       "            <td>8</td>\n",
       "            <td>1</td>\n",
       "            <td>2006-02-14 22:04:36.000</td>\n",
       "            <td>2019-04-11 18:11:49</td>\n",
       "        </tr>\n",
       "        <tr>\n",
       "            <td>5</td>\n",
       "            <td>1</td>\n",
       "            <td>ELIZABETH</td>\n",
       "            <td>BROWN</td>\n",
       "            <td>ELIZABETH.BROWN@sakilacustomer.org</td>\n",
       "            <td>9</td>\n",
       "            <td>1</td>\n",
       "            <td>2006-02-14 22:04:36.000</td>\n",
       "            <td>2019-04-11 18:11:49</td>\n",
       "        </tr>\n",
       "    </tbody>\n",
       "</table>"
      ],
      "text/plain": [
       "[(1, 1, 'MARY', 'SMITH', 'MARY.SMITH@sakilacustomer.org', 5, '1', '2006-02-14 22:04:36.000', '2019-04-11 18:11:49'),\n",
       " (2, 1, 'PATRICIA', 'JOHNSON', 'PATRICIA.JOHNSON@sakilacustomer.org', 6, '1', '2006-02-14 22:04:36.000', '2019-04-11 18:11:49'),\n",
       " (3, 1, 'LINDA', 'WILLIAMS', 'LINDA.WILLIAMS@sakilacustomer.org', 7, '1', '2006-02-14 22:04:36.000', '2019-04-11 18:11:49'),\n",
       " (4, 2, 'BARBARA', 'JONES', 'BARBARA.JONES@sakilacustomer.org', 8, '1', '2006-02-14 22:04:36.000', '2019-04-11 18:11:49'),\n",
       " (5, 1, 'ELIZABETH', 'BROWN', 'ELIZABETH.BROWN@sakilacustomer.org', 9, '1', '2006-02-14 22:04:36.000', '2019-04-11 18:11:49')]"
      ]
     },
     "execution_count": 5,
     "metadata": {},
     "output_type": "execute_result"
    }
   ],
   "source": [
    "#customer table\n",
    "%sql select * from customer limit 5;"
   ]
  },
  {
   "cell_type": "code",
   "execution_count": 7,
   "id": "426bd200",
   "metadata": {},
   "outputs": [
    {
     "name": "stdout",
     "output_type": "stream",
     "text": [
      " * sqlite:///movies.db\n",
      "Done.\n"
     ]
    },
    {
     "data": {
      "text/html": [
       "<table>\n",
       "    <thead>\n",
       "        <tr>\n",
       "            <th>first_name</th>\n",
       "            <th>last_name</th>\n",
       "            <th>rental_date</th>\n",
       "        </tr>\n",
       "    </thead>\n",
       "    <tbody>\n",
       "        <tr>\n",
       "            <td>CHARLOTTE</td>\n",
       "            <td>HUNTER</td>\n",
       "            <td>2005-05-24 22:53:30.000</td>\n",
       "        </tr>\n",
       "        <tr>\n",
       "            <td>TOMMY</td>\n",
       "            <td>COLLAZO</td>\n",
       "            <td>2005-05-24 22:54:33.000</td>\n",
       "        </tr>\n",
       "        <tr>\n",
       "            <td>MANUEL</td>\n",
       "            <td>MURRELL</td>\n",
       "            <td>2005-05-24 23:03:39.000</td>\n",
       "        </tr>\n",
       "        <tr>\n",
       "            <td>ANDREW</td>\n",
       "            <td>PURDY</td>\n",
       "            <td>2005-05-24 23:04:41.000</td>\n",
       "        </tr>\n",
       "        <tr>\n",
       "            <td>DELORES</td>\n",
       "            <td>HANSEN</td>\n",
       "            <td>2005-05-24 23:05:21.000</td>\n",
       "        </tr>\n",
       "    </tbody>\n",
       "</table>"
      ],
      "text/plain": [
       "[('CHARLOTTE', 'HUNTER', '2005-05-24 22:53:30.000'),\n",
       " ('TOMMY', 'COLLAZO', '2005-05-24 22:54:33.000'),\n",
       " ('MANUEL', 'MURRELL', '2005-05-24 23:03:39.000'),\n",
       " ('ANDREW', 'PURDY', '2005-05-24 23:04:41.000'),\n",
       " ('DELORES', 'HANSEN', '2005-05-24 23:05:21.000')]"
      ]
     },
     "execution_count": 7,
     "metadata": {},
     "output_type": "execute_result"
    }
   ],
   "source": [
    "#extracting customer name from customer table and rental date from rental table joining both tables\n",
    "%sql SELECT first_name, last_name, rental_date FROM customer c JOIN rental r ON c.customer_id = r.customer_id limit 5;"
   ]
  },
  {
   "cell_type": "markdown",
   "id": "db1b9b23",
   "metadata": {},
   "source": [
    "# 4.Multiple_JOINS\n",
    "* In Scenarios where there will be requirement to extract data from more tables we need to perform multiple joins on tables. \n",
    "\n",
    "* Let’s combine the below three tables and extract the relevant data.\n"
   ]
  },
  {
   "cell_type": "code",
   "execution_count": 5,
   "id": "6b4e39c5",
   "metadata": {},
   "outputs": [
    {
     "name": "stdout",
     "output_type": "stream",
     "text": [
      " * sqlite:///movies.db\n",
      "Done.\n"
     ]
    },
    {
     "data": {
      "text/html": [
       "<table>\n",
       "    <thead>\n",
       "        <tr>\n",
       "            <th>film_id</th>\n",
       "            <th>title</th>\n",
       "        </tr>\n",
       "    </thead>\n",
       "    <tbody>\n",
       "        <tr>\n",
       "            <td>1</td>\n",
       "            <td>ACADEMY DINOSAUR</td>\n",
       "        </tr>\n",
       "        <tr>\n",
       "            <td>2</td>\n",
       "            <td>ACE GOLDFINGER</td>\n",
       "        </tr>\n",
       "        <tr>\n",
       "            <td>3</td>\n",
       "            <td>ADAPTATION HOLES</td>\n",
       "        </tr>\n",
       "        <tr>\n",
       "            <td>4</td>\n",
       "            <td>AFFAIR PREJUDICE</td>\n",
       "        </tr>\n",
       "        <tr>\n",
       "            <td>5</td>\n",
       "            <td>AFRICAN EGG</td>\n",
       "        </tr>\n",
       "    </tbody>\n",
       "</table>"
      ],
      "text/plain": [
       "[(1, 'ACADEMY DINOSAUR'),\n",
       " (2, 'ACE GOLDFINGER'),\n",
       " (3, 'ADAPTATION HOLES'),\n",
       " (4, 'AFFAIR PREJUDICE'),\n",
       " (5, 'AFRICAN EGG')]"
      ]
     },
     "execution_count": 5,
     "metadata": {},
     "output_type": "execute_result"
    }
   ],
   "source": [
    "#film table\n",
    "\n",
    "%sql  SELECT film_id , title FROM film limit 5;"
   ]
  },
  {
   "cell_type": "code",
   "execution_count": 6,
   "id": "3012bdd8",
   "metadata": {},
   "outputs": [
    {
     "name": "stdout",
     "output_type": "stream",
     "text": [
      " * sqlite:///movies.db\n",
      "Done.\n"
     ]
    },
    {
     "data": {
      "text/html": [
       "<table>\n",
       "    <thead>\n",
       "        <tr>\n",
       "            <th>category_id</th>\n",
       "            <th>name</th>\n",
       "        </tr>\n",
       "    </thead>\n",
       "    <tbody>\n",
       "        <tr>\n",
       "            <td>1</td>\n",
       "            <td>Action</td>\n",
       "        </tr>\n",
       "        <tr>\n",
       "            <td>2</td>\n",
       "            <td>Animation</td>\n",
       "        </tr>\n",
       "        <tr>\n",
       "            <td>3</td>\n",
       "            <td>Children</td>\n",
       "        </tr>\n",
       "        <tr>\n",
       "            <td>4</td>\n",
       "            <td>Classics</td>\n",
       "        </tr>\n",
       "        <tr>\n",
       "            <td>5</td>\n",
       "            <td>Comedy</td>\n",
       "        </tr>\n",
       "    </tbody>\n",
       "</table>"
      ],
      "text/plain": [
       "[(1, 'Action'),\n",
       " (2, 'Animation'),\n",
       " (3, 'Children'),\n",
       " (4, 'Classics'),\n",
       " (5, 'Comedy')]"
      ]
     },
     "execution_count": 6,
     "metadata": {},
     "output_type": "execute_result"
    }
   ],
   "source": [
    "# category table\n",
    "\n",
    "%sql  SELECT category_id, name FROM category limit 5;"
   ]
  },
  {
   "cell_type": "code",
   "execution_count": 7,
   "id": "a8f50e3c",
   "metadata": {},
   "outputs": [
    {
     "name": "stdout",
     "output_type": "stream",
     "text": [
      " * sqlite:///movies.db\n",
      "Done.\n"
     ]
    },
    {
     "data": {
      "text/html": [
       "<table>\n",
       "    <thead>\n",
       "        <tr>\n",
       "            <th>film_id</th>\n",
       "            <th>category_id</th>\n",
       "            <th>last_update</th>\n",
       "        </tr>\n",
       "    </thead>\n",
       "    <tbody>\n",
       "        <tr>\n",
       "            <td>1</td>\n",
       "            <td>6</td>\n",
       "            <td>2019-04-11 18:11:49</td>\n",
       "        </tr>\n",
       "        <tr>\n",
       "            <td>2</td>\n",
       "            <td>11</td>\n",
       "            <td>2019-04-11 18:11:49</td>\n",
       "        </tr>\n",
       "        <tr>\n",
       "            <td>3</td>\n",
       "            <td>6</td>\n",
       "            <td>2019-04-11 18:11:49</td>\n",
       "        </tr>\n",
       "        <tr>\n",
       "            <td>4</td>\n",
       "            <td>11</td>\n",
       "            <td>2019-04-11 18:11:49</td>\n",
       "        </tr>\n",
       "        <tr>\n",
       "            <td>5</td>\n",
       "            <td>8</td>\n",
       "            <td>2019-04-11 18:11:49</td>\n",
       "        </tr>\n",
       "    </tbody>\n",
       "</table>"
      ],
      "text/plain": [
       "[(1, 6, '2019-04-11 18:11:49'),\n",
       " (2, 11, '2019-04-11 18:11:49'),\n",
       " (3, 6, '2019-04-11 18:11:49'),\n",
       " (4, 11, '2019-04-11 18:11:49'),\n",
       " (5, 8, '2019-04-11 18:11:49')]"
      ]
     },
     "execution_count": 7,
     "metadata": {},
     "output_type": "execute_result"
    }
   ],
   "source": [
    "# film_category table\n",
    "\n",
    "%sql  SELECT * FROM film_category limit 5;"
   ]
  },
  {
   "cell_type": "markdown",
   "id": "b5dbcef5",
   "metadata": {},
   "source": [
    "> Now we will join the above three tables to extract combined data with film and category\n",
    "\n",
    "#Syntax: \n",
    "\n",
    "  SELECT f.film_id, title, fc.category_id, c.name FROM film f <br>\n",
    "    -> JOIN film_category fc ON f.film_id = fc.film_id <br>\n",
    "    -> JOIN category c ON fc.category_id = c.category_id <br>\n",
    "    -> GROUP BY c.name limit 5; <br>"
   ]
  },
  {
   "cell_type": "code",
   "execution_count": 4,
   "id": "392f0435",
   "metadata": {},
   "outputs": [
    {
     "name": "stdout",
     "output_type": "stream",
     "text": [
      " * sqlite:///movies.db\n",
      "Done.\n"
     ]
    },
    {
     "data": {
      "text/html": [
       "<table>\n",
       "    <thead>\n",
       "        <tr>\n",
       "            <th>film_id</th>\n",
       "            <th>title</th>\n",
       "            <th>category_id</th>\n",
       "            <th>name</th>\n",
       "        </tr>\n",
       "    </thead>\n",
       "    <tbody>\n",
       "        <tr>\n",
       "            <td>19</td>\n",
       "            <td>AMADEUS HOLY</td>\n",
       "            <td>1</td>\n",
       "            <td>Action</td>\n",
       "        </tr>\n",
       "        <tr>\n",
       "            <td>18</td>\n",
       "            <td>ALTER VICTORY</td>\n",
       "            <td>2</td>\n",
       "            <td>Animation</td>\n",
       "        </tr>\n",
       "        <tr>\n",
       "            <td>48</td>\n",
       "            <td>BACKLASH UNDEFEATED</td>\n",
       "            <td>3</td>\n",
       "            <td>Children</td>\n",
       "        </tr>\n",
       "        <tr>\n",
       "            <td>14</td>\n",
       "            <td>ALICE FANTASIA</td>\n",
       "            <td>4</td>\n",
       "            <td>Classics</td>\n",
       "        </tr>\n",
       "        <tr>\n",
       "            <td>7</td>\n",
       "            <td>AIRPLANE SIERRA</td>\n",
       "            <td>5</td>\n",
       "            <td>Comedy</td>\n",
       "        </tr>\n",
       "    </tbody>\n",
       "</table>"
      ],
      "text/plain": [
       "[(19, 'AMADEUS HOLY', 1, 'Action'),\n",
       " (18, 'ALTER VICTORY', 2, 'Animation'),\n",
       " (48, 'BACKLASH UNDEFEATED', 3, 'Children'),\n",
       " (14, 'ALICE FANTASIA', 4, 'Classics'),\n",
       " (7, 'AIRPLANE SIERRA', 5, 'Comedy')]"
      ]
     },
     "execution_count": 4,
     "metadata": {},
     "output_type": "execute_result"
    }
   ],
   "source": [
    "%sql select f.film_id, title, fc.category_id, c.name FROM film f JOIN film_category fc ON f.film_id = fc.film_id JOIN category c ON fc.category_id = c.category_id GROUP BY c.name  limit 5;"
   ]
  },
  {
   "cell_type": "markdown",
   "id": "0302fd31",
   "metadata": {},
   "source": [
    "# 5.SELF_JOIN\n",
    "\n",
    "* A self-join is where we query a table and then join the table to itself. A self-join isn’t really an explicit join type. It’s a way of implementing one of the join types. It’s more of a joining concept than a join type. This is because you would use a join type (e.g. INNER, LEFT JOIN) with a self-join probably to establish a relationship between them.\n",
    "* The self-join compares values of the same or different columns in the same table. Only one table is involved in the self-join."
   ]
  },
  {
   "cell_type": "code",
   "execution_count": 8,
   "id": "4d46a3a4",
   "metadata": {},
   "outputs": [],
   "source": [
    "#changing database\n",
    "%sql sqlite:///music_store.db"
   ]
  },
  {
   "cell_type": "code",
   "execution_count": 9,
   "id": "aa7d6630",
   "metadata": {},
   "outputs": [
    {
     "name": "stdout",
     "output_type": "stream",
     "text": [
      "   sqlite:///movies.db\n",
      " * sqlite:///music_store.db\n",
      "Done.\n"
     ]
    },
    {
     "data": {
      "text/html": [
       "<table>\n",
       "    <thead>\n",
       "        <tr>\n",
       "            <th>name</th>\n",
       "        </tr>\n",
       "    </thead>\n",
       "    <tbody>\n",
       "        <tr>\n",
       "            <td>album</td>\n",
       "        </tr>\n",
       "        <tr>\n",
       "            <td>artist</td>\n",
       "        </tr>\n",
       "        <tr>\n",
       "            <td>customer</td>\n",
       "        </tr>\n",
       "        <tr>\n",
       "            <td>employee</td>\n",
       "        </tr>\n",
       "        <tr>\n",
       "            <td>genre</td>\n",
       "        </tr>\n",
       "        <tr>\n",
       "            <td>invoice</td>\n",
       "        </tr>\n",
       "        <tr>\n",
       "            <td>invoice_line</td>\n",
       "        </tr>\n",
       "        <tr>\n",
       "            <td>media_type</td>\n",
       "        </tr>\n",
       "        <tr>\n",
       "            <td>playlist</td>\n",
       "        </tr>\n",
       "        <tr>\n",
       "            <td>playlist_track</td>\n",
       "        </tr>\n",
       "        <tr>\n",
       "            <td>track</td>\n",
       "        </tr>\n",
       "    </tbody>\n",
       "</table>"
      ],
      "text/plain": [
       "[('album',),\n",
       " ('artist',),\n",
       " ('customer',),\n",
       " ('employee',),\n",
       " ('genre',),\n",
       " ('invoice',),\n",
       " ('invoice_line',),\n",
       " ('media_type',),\n",
       " ('playlist',),\n",
       " ('playlist_track',),\n",
       " ('track',)]"
      ]
     },
     "execution_count": 9,
     "metadata": {},
     "output_type": "execute_result"
    }
   ],
   "source": [
    "#view tables in the database\n",
    "      \n",
    "%sql SELECT name FROM sqlite_master WHERE type='table'"
   ]
  },
  {
   "cell_type": "code",
   "execution_count": 10,
   "id": "76711ac9",
   "metadata": {
    "scrolled": false
   },
   "outputs": [
    {
     "name": "stdout",
     "output_type": "stream",
     "text": [
      "   sqlite:///movies.db\n",
      " * sqlite:///music_store.db\n",
      "Done.\n"
     ]
    },
    {
     "data": {
      "text/html": [
       "<table>\n",
       "    <thead>\n",
       "        <tr>\n",
       "            <th>employee_id</th>\n",
       "            <th>last_name</th>\n",
       "            <th>first_name</th>\n",
       "            <th>title</th>\n",
       "            <th>reports_to</th>\n",
       "            <th>birthdate</th>\n",
       "            <th>hire_date</th>\n",
       "            <th>address</th>\n",
       "            <th>city</th>\n",
       "            <th>state</th>\n",
       "            <th>country</th>\n",
       "            <th>postal_code</th>\n",
       "            <th>phone</th>\n",
       "            <th>fax</th>\n",
       "            <th>email</th>\n",
       "        </tr>\n",
       "    </thead>\n",
       "    <tbody>\n",
       "        <tr>\n",
       "            <td>1</td>\n",
       "            <td>Adams</td>\n",
       "            <td>Andrew</td>\n",
       "            <td>General Manager</td>\n",
       "            <td>None</td>\n",
       "            <td>1962-02-18 00:00:00</td>\n",
       "            <td>2016-08-14 00:00:00</td>\n",
       "            <td>11120 Jasper Ave NW</td>\n",
       "            <td>Edmonton</td>\n",
       "            <td>AB</td>\n",
       "            <td>Canada</td>\n",
       "            <td>T5K 2N1</td>\n",
       "            <td>+1 (780) 428-9482</td>\n",
       "            <td>+1 (780) 428-3457</td>\n",
       "            <td>andrew@chinookcorp.com</td>\n",
       "        </tr>\n",
       "        <tr>\n",
       "            <td>2</td>\n",
       "            <td>Edwards</td>\n",
       "            <td>Nancy</td>\n",
       "            <td>Sales Manager</td>\n",
       "            <td>1</td>\n",
       "            <td>1958-12-08 00:00:00</td>\n",
       "            <td>2016-05-01 00:00:00</td>\n",
       "            <td>825 8 Ave SW</td>\n",
       "            <td>Calgary</td>\n",
       "            <td>AB</td>\n",
       "            <td>Canada</td>\n",
       "            <td>T2P 2T3</td>\n",
       "            <td>+1 (403) 262-3443</td>\n",
       "            <td>+1 (403) 262-3322</td>\n",
       "            <td>nancy@chinookcorp.com</td>\n",
       "        </tr>\n",
       "        <tr>\n",
       "            <td>3</td>\n",
       "            <td>Peacock</td>\n",
       "            <td>Jane</td>\n",
       "            <td>Sales Support Agent</td>\n",
       "            <td>2</td>\n",
       "            <td>1973-08-29 00:00:00</td>\n",
       "            <td>2017-04-01 00:00:00</td>\n",
       "            <td>1111 6 Ave SW</td>\n",
       "            <td>Calgary</td>\n",
       "            <td>AB</td>\n",
       "            <td>Canada</td>\n",
       "            <td>T2P 5M5</td>\n",
       "            <td>+1 (403) 262-3443</td>\n",
       "            <td>+1 (403) 262-6712</td>\n",
       "            <td>jane@chinookcorp.com</td>\n",
       "        </tr>\n",
       "        <tr>\n",
       "            <td>4</td>\n",
       "            <td>Park</td>\n",
       "            <td>Margaret</td>\n",
       "            <td>Sales Support Agent</td>\n",
       "            <td>2</td>\n",
       "            <td>1947-09-19 00:00:00</td>\n",
       "            <td>2017-05-03 00:00:00</td>\n",
       "            <td>683 10 Street SW</td>\n",
       "            <td>Calgary</td>\n",
       "            <td>AB</td>\n",
       "            <td>Canada</td>\n",
       "            <td>T2P 5G3</td>\n",
       "            <td>+1 (403) 263-4423</td>\n",
       "            <td>+1 (403) 263-4289</td>\n",
       "            <td>margaret@chinookcorp.com</td>\n",
       "        </tr>\n",
       "        <tr>\n",
       "            <td>5</td>\n",
       "            <td>Johnson</td>\n",
       "            <td>Steve</td>\n",
       "            <td>Sales Support Agent</td>\n",
       "            <td>2</td>\n",
       "            <td>1965-03-03 00:00:00</td>\n",
       "            <td>2017-10-17 00:00:00</td>\n",
       "            <td>7727B 41 Ave</td>\n",
       "            <td>Calgary</td>\n",
       "            <td>AB</td>\n",
       "            <td>Canada</td>\n",
       "            <td>T3B 1Y7</td>\n",
       "            <td>1 (780) 836-9987</td>\n",
       "            <td>1 (780) 836-9543</td>\n",
       "            <td>steve@chinookcorp.com</td>\n",
       "        </tr>\n",
       "    </tbody>\n",
       "</table>"
      ],
      "text/plain": [
       "[(1, 'Adams', 'Andrew', 'General Manager', None, '1962-02-18 00:00:00', '2016-08-14 00:00:00', '11120 Jasper Ave NW', 'Edmonton', 'AB', 'Canada', 'T5K 2N1', '+1 (780) 428-9482', '+1 (780) 428-3457', 'andrew@chinookcorp.com'),\n",
       " (2, 'Edwards', 'Nancy', 'Sales Manager', 1, '1958-12-08 00:00:00', '2016-05-01 00:00:00', '825 8 Ave SW', 'Calgary', 'AB', 'Canada', 'T2P 2T3', '+1 (403) 262-3443', '+1 (403) 262-3322', 'nancy@chinookcorp.com'),\n",
       " (3, 'Peacock', 'Jane', 'Sales Support Agent', 2, '1973-08-29 00:00:00', '2017-04-01 00:00:00', '1111 6 Ave SW', 'Calgary', 'AB', 'Canada', 'T2P 5M5', '+1 (403) 262-3443', '+1 (403) 262-6712', 'jane@chinookcorp.com'),\n",
       " (4, 'Park', 'Margaret', 'Sales Support Agent', 2, '1947-09-19 00:00:00', '2017-05-03 00:00:00', '683 10 Street SW', 'Calgary', 'AB', 'Canada', 'T2P 5G3', '+1 (403) 263-4423', '+1 (403) 263-4289', 'margaret@chinookcorp.com'),\n",
       " (5, 'Johnson', 'Steve', 'Sales Support Agent', 2, '1965-03-03 00:00:00', '2017-10-17 00:00:00', '7727B 41 Ave', 'Calgary', 'AB', 'Canada', 'T3B 1Y7', '1 (780) 836-9987', '1 (780) 836-9543', 'steve@chinookcorp.com')]"
      ]
     },
     "execution_count": 10,
     "metadata": {},
     "output_type": "execute_result"
    }
   ],
   "source": [
    "%sql SELECT * FROM employee limit 5;"
   ]
  },
  {
   "cell_type": "markdown",
   "id": "3a614d20",
   "metadata": {},
   "source": [
    "To get the information on who is the direct report of whom, you use the following statement:\n",
    "\n",
    "#Syntax\n",
    "\n",
    "SELECT m.first_name || ' ' || m.last_name AS 'Manager', <br>\n",
    "       e.first_name || ' ' || e.last_name AS 'Direct report' <br>\n",
    "FROM employee e<br>\n",
    "INNER JOIN employees m ON m.employee_id = e.reports_to<br>\n",
    "ORDER BY manager;\n"
   ]
  },
  {
   "cell_type": "code",
   "execution_count": 15,
   "id": "8797fbe6",
   "metadata": {},
   "outputs": [
    {
     "name": "stdout",
     "output_type": "stream",
     "text": [
      "   sqlite:///movies.db\n",
      " * sqlite:///music_store.db\n",
      "Done.\n"
     ]
    },
    {
     "data": {
      "text/html": [
       "<table>\n",
       "    <thead>\n",
       "        <tr>\n",
       "            <th>Manager</th>\n",
       "            <th>Direct report</th>\n",
       "        </tr>\n",
       "    </thead>\n",
       "    <tbody>\n",
       "        <tr>\n",
       "            <td>Andrew Adams</td>\n",
       "            <td>Nancy Edwards</td>\n",
       "        </tr>\n",
       "        <tr>\n",
       "            <td>Andrew Adams</td>\n",
       "            <td>Michael Mitchell</td>\n",
       "        </tr>\n",
       "        <tr>\n",
       "            <td>Michael Mitchell</td>\n",
       "            <td>Robert King</td>\n",
       "        </tr>\n",
       "        <tr>\n",
       "            <td>Michael Mitchell</td>\n",
       "            <td>Laura Callahan</td>\n",
       "        </tr>\n",
       "        <tr>\n",
       "            <td>Nancy Edwards</td>\n",
       "            <td>Jane Peacock</td>\n",
       "        </tr>\n",
       "        <tr>\n",
       "            <td>Nancy Edwards</td>\n",
       "            <td>Margaret Park</td>\n",
       "        </tr>\n",
       "        <tr>\n",
       "            <td>Nancy Edwards</td>\n",
       "            <td>Steve Johnson</td>\n",
       "        </tr>\n",
       "    </tbody>\n",
       "</table>"
      ],
      "text/plain": [
       "[('Andrew Adams', 'Nancy Edwards'),\n",
       " ('Andrew Adams', 'Michael Mitchell'),\n",
       " ('Michael Mitchell', 'Robert King'),\n",
       " ('Michael Mitchell', 'Laura Callahan'),\n",
       " ('Nancy Edwards', 'Jane Peacock'),\n",
       " ('Nancy Edwards', 'Margaret Park'),\n",
       " ('Nancy Edwards', 'Steve Johnson')]"
      ]
     },
     "execution_count": 15,
     "metadata": {},
     "output_type": "execute_result"
    }
   ],
   "source": [
    "%sql SELECT m.first_name || ' ' || m.last_name AS 'Manager', e.first_name || ' ' || e.last_name AS 'Direct report' FROM employee e INNER JOIN employee m ON m.employee_id = e.reports_to ORDER BY manager;"
   ]
  },
  {
   "cell_type": "markdown",
   "id": "398a8b9d",
   "metadata": {},
   "source": [
    "\"SQL joins are like puzzle pieces that fit together perfectly, except sometimes they're as stubborn as mismatched socks in a dryer.\""
   ]
  },
  {
   "cell_type": "markdown",
   "id": "7b39cc42",
   "metadata": {},
   "source": [
    "* SQLite does not support Full outer and Right join. We rarely use Right Join and Full Join in daily practice."
   ]
  },
  {
   "cell_type": "code",
   "execution_count": null,
   "id": "453fba05",
   "metadata": {},
   "outputs": [],
   "source": []
  }
 ],
 "metadata": {
  "kernelspec": {
   "display_name": "Python 3 (ipykernel)",
   "language": "python",
   "name": "python3"
  },
  "language_info": {
   "codemirror_mode": {
    "name": "ipython",
    "version": 3
   },
   "file_extension": ".py",
   "mimetype": "text/x-python",
   "name": "python",
   "nbconvert_exporter": "python",
   "pygments_lexer": "ipython3",
   "version": "3.9.12"
  }
 },
 "nbformat": 4,
 "nbformat_minor": 5
}
